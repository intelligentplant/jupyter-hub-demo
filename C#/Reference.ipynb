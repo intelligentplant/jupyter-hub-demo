{
 "cells": [
  {
   "cell_type": "markdown",
   "metadata": {},
   "source": [
    "## Initialising Data Core Client"
   ]
  },
  {
   "cell_type": "code",
   "execution_count": null,
   "metadata": {},
   "outputs": [],
   "source": [
    "#r \"nuget:IntelligentPlant.DataCore.HttpClient,1.0.0-alpha29\"\n",
    "using IntelligentPlant.DataCore.Client;\n",
    "using IntelligentPlant.DataCore.Client.Clients;"
   ]
  },
  {
   "cell_type": "code",
   "execution_count": null,
   "metadata": {},
   "outputs": [],
   "source": [
    "using System.Net.Http;\n",
    "using System.Net.Http.Headers;\n",
    "using System.Threading;\n",
    "var accessToken = System.Environment.GetEnvironmentVariable(\"ACCESS_TOKEN\", EnvironmentVariableTarget.Process);\n",
    "var authenticationHandler = DataCoreHttpClient.CreateAuthenticationMessageHandler(async (HttpRequestMessage request, object context, CancellationToken ct) => {\n",
    "    return new AuthenticationHeaderValue(\"Bearer\", accessToken);\n",
    "});\n",
    "var primaryHandler = new SocketsHttpHandler();\n",
    "authenticationHandler.InnerHandler = primaryHandler;\n",
    "var baseClient = new HttpClient(authenticationHandler);\n",
    "var client = new DataCoreHttpClient<object, DataCoreHttpClientOptions>(baseClient, new DataCoreHttpClientOptions() {\n",
    "    DataCoreUrl = new System.Uri(\"https://appstore.intelligentplant.com/gestalt/datacore/\")\n",
    "});"
   ]
  },
  {
   "cell_type": "markdown",
   "metadata": {},
   "source": [
    "# Requesting Data Sources\n",
    "\n",
    "> **NOTE:** \n",
    "> Users must grant Jupyter Hub access to a data source before it becomes visible.\n"
   ]
  },
  {
   "cell_type": "code",
   "execution_count": null,
   "metadata": {},
   "outputs": [],
   "source": [
    "var dataSources = await client.DataSources.GetDataSourcesAsync();"
   ]
  },
  {
   "cell_type": "markdown",
   "metadata": {},
   "source": [
    "The response will be a collection of [DataSourceInfo](https://github.com/intelligentplant/IndustrialAppStore.ClientTools.DotNet/tree/master/src/IntelligentPlant.DataCore.HttpClient/Model/DataSourceInfo.cs) objects. The `Name` property on each object defines a `DisplayName` and a `QualifiedName` property; the `QualifiedName` is always used when performing queries on the data source."
   ]
  },
  {
   "cell_type": "code",
   "execution_count": null,
   "metadata": {},
   "outputs": [],
   "source": [
    "dataSources.Select(x => x.Name)"
   ]
  },
  {
   "cell_type": "markdown",
   "metadata": {},
   "source": [
    "# Tag Searches\n",
    "\n",
    "> **NOTE:** \n",
    "> Users must grant Jupyter Hub access to a data source before it becomes visible.\n",
    "> This notebook uses the \"IP datasource\" and \"IP Datasource 2\" demo datasources as an example. Make sure you have granted Jupyter hub access to these data sources.\n",
    "> [Authorized Applications](https://appstore.intelligentplant.com/Security/Apps)\n"
   ]
  },
  {
   "cell_type": "markdown",
   "metadata": {},
   "source": [
    "A tag on a data source represents the value of a single instrument in an industrial process, or e.g. the result of a calculation, recorded over time. To search for available tags on a data source, use the `FindTagsAsync` method on the client's `DataSources` property. The `IntelligentPlant.DataCore.Client` namespace contains extension methods to simplify the invocation of this operation.\n"
   ]
  },
  {
   "cell_type": "code",
   "execution_count": null,
   "metadata": {},
   "outputs": [],
   "source": [
    "// Use an extension method to specify the filter properties.\n",
    "var tags = await client.DataSources.FindTagsAsync(\n",
    "    // Data source name must be the fully-qualified name of the data source!\n",
    "    \"IP Datasource\",\n",
    "    // Use * as a wildcard in tag name\n",
    "    \"PT-*\",\n",
    "    page: 1,\n",
    "    pageSize: 20  \n",
    ");"
   ]
  },
  {
   "cell_type": "code",
   "execution_count": null,
   "metadata": {},
   "outputs": [],
   "source": [
    "tags"
   ]
  },
  {
   "cell_type": "code",
   "execution_count": null,
   "metadata": {},
   "outputs": [],
   "source": [
    "using IntelligentPlant.DataCore.Client.Model;\n",
    "using IntelligentPlant.DataCore.Client.Queries;"
   ]
  },
  {
   "cell_type": "code",
   "execution_count": null,
   "metadata": {},
   "outputs": [],
   "source": [
    "// Specify the filter details using a FindTagsRequest object.\n",
    "tags = await client.DataSources.FindTagsAsync(new FindTagsRequest() {\n",
    "    // DataSourceName must be the fully-qualified name of the data source!\n",
    "    DataSourceName = \"IP Datasource\",\n",
    "    // Use * as a wildcard in tag name\n",
    "    Filter = new TagSearchFilter(\"PT-*\") {\n",
    "        Page = 1,\n",
    "        PageSize = 20\n",
    "    }\n",
    "});"
   ]
  },
  {
   "cell_type": "code",
   "execution_count": null,
   "metadata": {},
   "outputs": [],
   "source": [
    "tags"
   ]
  },
  {
   "cell_type": "markdown",
   "metadata": {},
   "source": [
    "The query response is a collection of [TagSearchResult](https://github.com/intelligentplant/IndustrialAppStore.ClientTools.DotNet/tree/master/src/IntelligentPlant.DataCore.HttpClient/Model/TagSearchResult.cs) objects. Each result contains properties for the tag's name, description, unit of measure, and so on. Additional, data source-specific properties are specified in the tag's `Properties` collection."
   ]
  },
  {
   "cell_type": "markdown",
   "metadata": {},
   "source": [
    "# Reading Tag Values\n",
    "\n",
    "Data sources allow you to request the values of tags; depending on the capabilities of the data source, you may be able to request snapshot (current) values, raw historical values, and/or computed historical values calculated using some sort of aggregation. The following sections describe how to perform different query types.\n"
   ]
  },
  {
   "cell_type": "markdown",
   "metadata": {},
   "source": [
    "## Specifying Query Time Ranges and Intervals\n",
    "\n",
    "Queries for historical tag values require you to specify a query time range, with the start and end time for the query being specified using `DateTime` instances. Each historical query type also has extension methods that allow the start and end times to be specified as `string` objects. When `string` objects are used, they can be absolute ISO 8601 timestamps (e.g. `2020-08-05T07:31:53Z`), or they can be relative timestamps (e.g. _3 hours before the start of the current minute_). \n",
    "\n",
    "Rules for specifying relative timestamps can be found [here](https://github.com/intelligentplant/IntelligentPlant.Relativity#parsing-timestamps).\n",
    "\n",
    "Similarly, some historical queries require you to specify a sample interval, so that a calculation can be performed on historical values over the query time range (e.g. requesting the average value of a tag at one hour intervals over the last 24 hours). Intervals can be specified as `TimeSpan` instances, or as `string` objects. When a `string` is used, it must be parsable using `TimeSpan.Parse` (e.g. `00:30:00`, `1.16:23:37.5543241`), or it must be a valid short-hand duration.\n",
    "\n",
    "Rules for specifying short-hand durations can be found [here](https://github.com/intelligentplant/IntelligentPlant.Relativity#parsing-durations).\n",
    "\n",
    "`DateTime` instances are always assumed to be specified in UTC. When parsing timestamps from `string` objects, the resulting `DateTime` will always be converted to UTC.\n",
    "\n"
   ]
  },
  {
   "cell_type": "markdown",
   "metadata": {},
   "source": [
    "\n",
    "## Reading Snapshot Tag Values\n",
    "\n",
    "A snapshot value is the current instantaneous value of a tag. To request snapshot values from a data source, use the `ReadSnapshotTagValuesAsync` method on the client's `DataSources` property. The `IntelligentPlant.DataCore.Client` namespace contains extension methods to simplify the invocation of this operation."
   ]
  },
  {
   "cell_type": "code",
   "execution_count": null,
   "metadata": {},
   "outputs": [],
   "source": [
    "// Get snapshot values from a single data source (extension method).\n",
    "var snapshotValues = await client.DataSources.ReadSnapshotTagValuesAsync(\n",
    "    \"IP Datasource\",\n",
    "    new [] { \"PT-100117.PV_IND\", \"PT-100118.IND_EU\" }\n",
    ");"
   ]
  },
  {
   "cell_type": "code",
   "execution_count": null,
   "metadata": {},
   "outputs": [],
   "source": [
    "snapshotValues[\"PT-100117.PV_IND\"]"
   ]
  },
  {
   "cell_type": "code",
   "execution_count": null,
   "metadata": {},
   "outputs": [],
   "source": [
    "// Get snapshot values from multiple data sources (extension method).\n",
    "var multiDataSourceSnapshotValues = await client.DataSources.ReadSnapshotTagValuesAsync(\n",
    "    new Dictionary<string, string[]>() {\n",
    "        [\"IP Datasource\"] = new [] { \"PT-100117.PV_IND\", \"PT-100118.IND_EU\" },\n",
    "        [\"IP Datasource 2\"] = new [] { \"Air Scour Blowers_Outlet_PI\" } \n",
    "    }\n",
    ");\n"
   ]
  },
  {
   "cell_type": "code",
   "execution_count": null,
   "metadata": {},
   "outputs": [],
   "source": [
    "multiDataSourceSnapshotValues"
   ]
  },
  {
   "cell_type": "code",
   "execution_count": null,
   "metadata": {},
   "outputs": [],
   "source": [
    "multiDataSourceSnapshotValues[\"IP Datasource 2\"][\"Air Scour Blowers_Outlet_PI\"]"
   ]
  },
  {
   "cell_type": "markdown",
   "metadata": {},
   "source": [
    "## Reading Raw Historical Tag Values\n",
    "\n",
    "Raw values are the unprocessed historical values for a tag that are stored in a historican's archive, and are queried using the `ReadRawTagValuesAsync` method on the client's `DataSources` property. In addition to specifying the tag names to query, you also specify a time range for the query, and the maximum number of samples to retrieve per tag. Most historians will place an absolute limit on the number of samples to retrieve per tag, and also on the overall maximum number of samples that will be returned in a single query.\n"
   ]
  },
  {
   "cell_type": "markdown",
   "metadata": {},
   "source": [
    "Get raw values from a single data source using DateTime instances to specify the time range (extension method)."
   ]
  },
  {
   "cell_type": "code",
   "execution_count": null,
   "metadata": {},
   "outputs": [],
   "source": [
    "var historicalValues = await client.DataSources.ReadRawTagValuesAsync(\n",
    "    \"IP Datasource\",\n",
    "    new [] { \"PT-100117.PV_IND\", \"PT-100118.IND_EU\" },\n",
    "    DateTime.UtcNow.AddHours(-1),\n",
    "    DateTime.UtcNow,\n",
    "    // Get up to 100 samples per tag\n",
    "    100\n",
    ");"
   ]
  },
  {
   "cell_type": "code",
   "execution_count": null,
   "metadata": {},
   "outputs": [],
   "source": [
    "historicalValues[\"PT-100117.PV_IND\"].Values"
   ]
  },
  {
   "cell_type": "markdown",
   "metadata": {},
   "source": [
    "Get raw values from a single data source using absolute timestamp strings to specify the time range (extension method)."
   ]
  },
  {
   "cell_type": "code",
   "execution_count": null,
   "metadata": {},
   "outputs": [],
   "source": [
    "historicalValues = await client.DataSources.ReadRawTagValuesAsync(\n",
    "    \"IP Datasource\",\n",
    "    new [] { \"PT-100117.PV_IND\", \"PT-100118.IND_EU\" },\n",
    "    \"2020-08-05T07:08:00Z\",\n",
    "    \"2020-08-05T08:08:00Z\",\n",
    "    // Get up to 100 samples per tag\n",
    "    100\n",
    ");"
   ]
  },
  {
   "cell_type": "code",
   "execution_count": null,
   "metadata": {},
   "outputs": [],
   "source": [
    "historicalValues[\"PT-100117.PV_IND\"].Values"
   ]
  },
  {
   "cell_type": "code",
   "execution_count": null,
   "metadata": {},
   "outputs": [],
   "source": [
    "// Get raw values from a single data source using relative timestamp strings to specify the time \n",
    "// range (extension method).\n",
    "historicalValues = await client.DataSources.ReadRawTagValuesAsync(\n",
    "    \"IP Datasource\",\n",
    "    new [] { \"PT-100117.PV_IND\", \"PT-100118.IND_EU\" },\n",
    "    \"*-1H\",\n",
    "    \"*\",\n",
    "    // Get up to 100 samples per tag\n",
    "    100\n",
    ");"
   ]
  },
  {
   "cell_type": "code",
   "execution_count": null,
   "metadata": {},
   "outputs": [],
   "source": [
    "historicalValues[\"PT-100117.PV_IND\"].Values"
   ]
  },
  {
   "cell_type": "code",
   "execution_count": null,
   "metadata": {},
   "outputs": [],
   "source": [
    "// Get raw values from multiple data sources using relative timestamp strings to specify the time \n",
    "// range (extension method).\n",
    "var multiDataSourceHistoricalValues = await client.DataSources.ReadRawTagValuesAsync(\n",
    "    new Dictionary<string, string[]>() {\n",
    "        [\"IP Datasource\"] = new [] { \"PT-100117.PV_IND\", \"PT-100118.IND_EU\" },\n",
    "        [\"IP Datasource 2\"] = new[] { \"Air Scour Blowers_Outlet_PI\" }\n",
    "    },\n",
    "    \"*-1H\",\n",
    "    \"*\",\n",
    "    // Get up to 100 samples per tag\n",
    "    100\n",
    ");"
   ]
  },
  {
   "cell_type": "code",
   "execution_count": null,
   "metadata": {},
   "outputs": [],
   "source": [
    "multiDataSourceHistoricalValues[\"IP Datasource\"][\"PT-100117.PV_IND\"].Values"
   ]
  },
  {
   "cell_type": "code",
   "execution_count": null,
   "metadata": {},
   "outputs": [],
   "source": [
    "// Get raw values from multiple data sources using a ReadRawTagValuesRequest object.\n",
    "multiDataSourceHistoricalValues = await client.DataSources.ReadRawTagValuesAsync(\n",
    "    new ReadRawTagValuesRequest() {\n",
    "        Tags = new Dictionary<string, string[]>() {\n",
    "            [\"IP Datasource\"] = new [] { \"PT-100117.PV_IND\", \"PT-100118.IND_EU\" },\n",
    "            [\"IP Datasource 2\"] = new[] { \"Air Scour Blowers_Outlet_PI\" }\n",
    "        },\n",
    "        StartTime = DateTime.UtcNow.AddHours(-1),\n",
    "        EndTime = DateTime.UtcNow,\n",
    "        PointCount = 100\n",
    "    }\n",
    ");"
   ]
  },
  {
   "cell_type": "code",
   "execution_count": null,
   "metadata": {},
   "outputs": [],
   "source": [
    "multiDataSourceHistoricalValues[\"IP Datasource\"][\"PT-100117.PV_IND\"].Values"
   ]
  },
  {
   "cell_type": "markdown",
   "metadata": {},
   "source": [
    "When using an overload that queries a single data source, the return type will be a [HistoricalTagValuesDictionary](https://github.com/intelligentplant/IndustrialAppStore.ClientTools.DotNet/blob/master/src/IntelligentPlant.DataCore.HttpClient/Model/TagValueDictionary.cs) object i.e. a dictionary that maps from tag name to `HistoricalTagValues` objects. A `HistoricalTagValues` object has properties containing the actual tag values, and a hint that recommends how the values should be visualised on a chart (e.g. trailing edge, interpolation between points). When using an overload where multiple data sources can be specified, the return type will be a dictionary that maps from data source name to a `HistoricalTagValuesDictionary` object (i.e. results are indexed by data source name, and then sub-indexed by tag name).\n",
    "\n"
   ]
  },
  {
   "cell_type": "markdown",
   "metadata": {},
   "source": [
    "## Reading Plot Tag Values\n",
    "\n",
    "Many data sources support the concept of a \"plot\" query. This is a request for historical tag values that is optimised for retrieving values to display on a chart. The exact algorithm for selecting or calculating values varies from vendor to vendor, but a common approach is the split the query time range into a number of equally-sized intervals (specified by the caller) and then selecting the minimum, maximum, earliest, and latest raw values in each interval i.e. each tag will return a sample count up to 4x the interval count, depending on whether a selected sample matches more than one of the selection criteria.\n",
    "\n",
    "Plot queries are performed using the `ReadPlotTagValuesAsync` method overloads on the client's `DataSources` property."
   ]
  },
  {
   "cell_type": "code",
   "execution_count": null,
   "metadata": {},
   "outputs": [],
   "source": [
    "// Retrieve plot values for a single data source (extension method).\n",
    "historicalValues = await client.DataSources.ReadPlotTagValuesAsync(\n",
    "    \"IP Datasource\",\n",
    "    new[] { \"PT-100117.PV_IND\", \"PT-100118.IND_EU\" },\n",
    "    DateTime.UtcNow.AddDays(-1),\n",
    "    DateTime.UtcNow,\n",
    "    500\n",
    ");"
   ]
  },
  {
   "cell_type": "code",
   "execution_count": null,
   "metadata": {},
   "outputs": [],
   "source": [
    "historicalValues[\"PT-100117.PV_IND\"].Values"
   ]
  },
  {
   "cell_type": "code",
   "execution_count": null,
   "metadata": {},
   "outputs": [],
   "source": [
    "// Retrieve plot values for a single data source using absolute timestamps (extension method).\n",
    "historicalValues = await client.DataSources.ReadPlotTagValuesAsync(\n",
    "    \"IP Datasource\",\n",
    "    new[] { \"PT-100117.PV_IND\", \"PT-100118.IND_EU\" },\n",
    "    \"2020-08-04T08:08:00Z\",\n",
    "    \"2020-08-05T08:08:00Z\",\n",
    "    500\n",
    ");"
   ]
  },
  {
   "cell_type": "code",
   "execution_count": null,
   "metadata": {},
   "outputs": [],
   "source": [
    "historicalValues[\"PT-100117.PV_IND\"].Values"
   ]
  },
  {
   "cell_type": "code",
   "execution_count": null,
   "metadata": {},
   "outputs": [],
   "source": [
    "// Retrieve plot values for a single data source using relative timestamps (extension method).\n",
    "historicalValues = await client.DataSources.ReadPlotTagValuesAsync(\n",
    "    \"IP Datasource\",\n",
    "    new[] { \"PT-100117.PV_IND\", \"PT-100118.IND_EU\" },\n",
    "    \"*-1D\",\n",
    "    \"*\",\n",
    "    500\n",
    ");\n"
   ]
  },
  {
   "cell_type": "code",
   "execution_count": null,
   "metadata": {},
   "outputs": [],
   "source": [
    "historicalValues[\"PT-100117.PV_IND\"].Values"
   ]
  },
  {
   "cell_type": "code",
   "execution_count": null,
   "metadata": {},
   "outputs": [],
   "source": [
    "// Retrieve plot values for multiple data sources using relative timestamps (extension method).\n",
    "multiDataSourceHistoricalValues = await client.DataSources.ReadPlotTagValuesAsync(\n",
    "    new Dictionary<string, string[]>() {\n",
    "        [\"IP Datasource\"] = new[] { \"PT-100117.PV_IND\", \"PT-100118.IND_EU\" },\n",
    "        [\"IP Datasource 2\"] = new[] { \"Air Scour Blowers_Outlet_PI\" }\n",
    "    },\n",
    "    \"*-1D\",\n",
    "    \"*\",\n",
    "    500\n",
    ");"
   ]
  },
  {
   "cell_type": "code",
   "execution_count": null,
   "metadata": {},
   "outputs": [],
   "source": [
    "multiDataSourceHistoricalValues[\"IP Datasource\"][\"PT-100117.PV_IND\"].Values"
   ]
  },
  {
   "cell_type": "code",
   "execution_count": null,
   "metadata": {},
   "outputs": [],
   "source": [
    "// Retrieve plot values for multiple data sources using a ReadPlotTagValuesRequest object.\n",
    "multiDataSourceHistoricalValues = await client.DataSources.ReadPlotTagValuesAsync(\n",
    "    new ReadPlotTagValuesRequest() {\n",
    "        Tags = new Dictionary<string, string[]>() {\n",
    "            [\"IP Datasource\"] = new[] { \"PT-100117.PV_IND\", \"PT-100118.IND_EU\" },\n",
    "            [\"IP Datasource 2\"] = new[] { \"Air Scour Blowers_Outlet_PI\" }\n",
    "        },\n",
    "        StartTime = DateTime.UtcNow.AddDays(-1),\n",
    "        EndTime = DateTime.UtcNow,\n",
    "        Intervals = 500\n",
    "    }\n",
    ");"
   ]
  },
  {
   "cell_type": "code",
   "execution_count": null,
   "metadata": {},
   "outputs": [],
   "source": [
    "multiDataSourceHistoricalValues[\"IP Datasource\"][\"PT-100117.PV_IND\"].Values"
   ]
  },
  {
   "cell_type": "markdown",
   "metadata": {},
   "source": [
    "As with raw data queries, when using an overload that queries a single data source, the return type will be a [HistoricalTagValuesDictionary](https://github.com/intelligentplant/IndustrialAppStore.ClientTools.DotNet/blob/master/src/IntelligentPlant.DataCore.HttpClient/Model/TagValueDictionary.cs) object i.e. a dictionary that maps from tag name to `HistoricalTagValues` objects. A `HistoricalTagValues` object has properties containing the actual tag values, and a hint that recommends how the values should be visualised on a chart (e.g. trailing edge, interpolation between points). When using an overload where multiple data sources can be specified, the return type will be a dictionary that maps from data source name to a `HistoricalTagValuesDictionary` object (i.e. results are indexed by data source name, and then sub-indexed by tag name)."
   ]
  },
  {
   "cell_type": "markdown",
   "metadata": {},
   "source": [
    "## Reading Processed/Aggregated Tag Values\n",
    "\n",
    "Processed data queries (also referred to as aggregated data queries) use data functions to aggregate the raw data in a historian, and are performed using the `ReadProcessedTagValuesAsync` methods on the client's `DataSources` property. When asking for aggregated data, you specify the function name and a sample interval that you want to perform the aggregation at. For example, you might want to compute the average value of a tag at hourly sample intervals in the 24 hours leading up to the current time.\n",
    "\n",
    "The available data functions vary by historian, but most drivers will typically support the following functions:\n",
    "\n",
    "- `INTERP` - at each time interval, interpolate a value based on the values immediately before and immediately after the interval start and/or end times.\n",
    "- `AVG` - average value for each time interval specified in the query.\n",
    "- `MIN` - minimum tag value in each time interval. depending on the historian, this may return the actual raw timestamp of the minimum value, or it may return a value with the timestamp set to the start time of the interval.\n",
    "- `MAX` - maximum tag value in each time interval. depending on the historian, this may return the actual raw timestamp of the minimum value, or it may return a value with the timestamp set to the start time of the interval. \n",
    "\n",
    "Additional data functions may be supported; please refer to the vendor's documentation. In the future, we plan to implement a discovery feature to allow the supported functions to be retrieved programatically.\n"
   ]
  },
  {
   "cell_type": "code",
   "execution_count": null,
   "metadata": {},
   "outputs": [],
   "source": [
    "// Retrieve hourly average values over the last 24 hours for a single data source (extension \n",
    "// method).\n",
    "historicalValues = await client.DataSources.ReadProcessedTagValuesAsync(\n",
    "    \"IP Datasource\",\n",
    "    new[] { \"PT-100117.PV_IND\", \"PT-100118.IND_EU\" },\n",
    "    DateTime.UtcNow.AddDays(-1),\n",
    "    DateTime.UtcNow,\n",
    "    \"AVG\",\n",
    "    \"1H\"\n",
    ");"
   ]
  },
  {
   "cell_type": "code",
   "execution_count": null,
   "metadata": {},
   "outputs": [],
   "source": [
    "historicalValues[\"PT-100117.PV_IND\"].Values"
   ]
  },
  {
   "cell_type": "code",
   "execution_count": null,
   "metadata": {},
   "outputs": [],
   "source": [
    "// Retrieve the minimum value each minute over the last 5 minutes for a single data source \n",
    "// (extension method).\n",
    "historicalValues = await client.DataSources.ReadProcessedTagValuesAsync(\n",
    "    \"IP Datasource\",\n",
    "    new[] { \"PT-100117.PV_IND\", \"PT-100118.IND_EU\" },\n",
    "    \"*-5M\",\n",
    "    \"*\",\n",
    "    \"MIN\",\n",
    "    \"1M\"\n",
    ");"
   ]
  },
  {
   "cell_type": "code",
   "execution_count": null,
   "metadata": {},
   "outputs": [],
   "source": [
    "historicalValues[\"PT-100117.PV_IND\"].Values"
   ]
  },
  {
   "cell_type": "code",
   "execution_count": null,
   "metadata": {},
   "outputs": [],
   "source": [
    "// Retrieve the maximum value each minute over the last 5 minutes for multiple data sources \n",
    "// (extension method).\n",
    "multiDataSourceHistoricalValues = await client.DataSources.ReadProcessedTagValuesAsync(\n",
    "    new Dictionary<string, string[]>() {\n",
    "        [\"IP Datasource\"] = new[] { \"PT-100117.PV_IND\", \"PT-100118.IND_EU\" },\n",
    "        [\"IP Datasource 2\"] = new[] { \"Air Scour Blowers_Outlet_PI\" }\n",
    "    },\n",
    "    \"*-5M\",\n",
    "    \"*\",\n",
    "    \"MAX\",\n",
    "    \"1M\"\n",
    ");"
   ]
  },
  {
   "cell_type": "code",
   "execution_count": null,
   "metadata": {},
   "outputs": [],
   "source": [
    "multiDataSourceHistoricalValues[\"IP Datasource\"][\"PT-100117.PV_IND\"].Values"
   ]
  },
  {
   "cell_type": "code",
   "execution_count": null,
   "metadata": {},
   "outputs": [],
   "source": [
    "// Retrieve the maximum value each minute over the last 5 minutes for multiple data sources using \n",
    "// a ReadProcessedTagValuesRequest object.\n",
    "multiDataSourceHistoricalValues = await client.DataSources.ReadProcessedTagValuesAsync(\n",
    "    new ReadProcessedTagValuesRequest() {\n",
    "        Tags = new Dictionary<string, string[]>() {\n",
    "            [\"IP Datasource\"] = new[] { \"PT-100117.PV_IND\", \"PT-100118.IND_EU\" },\n",
    "            [\"IP Datasource 2\"] = new[] { \"Air Scour Blowers_Outlet_PI\" }\n",
    "        },\n",
    "        StartTime = DateTime.UtcNow.AddMinutes(-5),\n",
    "        EndTime = DateTime.UtcNow,\n",
    "        DataFunction = \"MAX\",\n",
    "        SampleInterval = TimeSpan.FromMinutes(1)\n",
    "    }\n",
    ");"
   ]
  },
  {
   "cell_type": "code",
   "execution_count": null,
   "metadata": {},
   "outputs": [],
   "source": [
    "multiDataSourceHistoricalValues[\"IP Datasource\"][\"PT-100117.PV_IND\"].Values"
   ]
  },
  {
   "cell_type": "markdown",
   "metadata": {},
   "source": [
    "As with other historical data queries, when using an overload that queries a single data source, the return type will be a [HistoricalTagValuesDictionary](https://github.com/intelligentplant/IndustrialAppStore.ClientTools.DotNet/blob/master/src/IntelligentPlant.DataCore.HttpClient/Model/TagValueDictionary.cs) object i.e. a dictionary that maps from tag name to `HistoricalTagValues` objects. A `HistoricalTagValues` object has properties containing the actual tag values, and a hint that recommends how the values should be visualised on a chart (e.g. trailing edge, interpolation between points). When using an overload where multiple data sources can be specified, the return type will be a dictionary that maps from data source name to a `HistoricalTagValuesDictionary` object (i.e. results are indexed by data source name, and then sub-indexed by tag name)."
   ]
  },
  {
   "cell_type": "code",
   "execution_count": null,
   "metadata": {},
   "outputs": [],
   "source": []
  }
 ],
 "metadata": {
  "kernelspec": {
   "display_name": ".NET (C#)",
   "language": "C#",
   "name": ".net-csharp"
  },
  "language_info": {
   "file_extension": ".cs",
   "mimetype": "text/x-csharp",
   "name": "C#",
   "pygments_lexer": "csharp",
   "version": "8.0"
  }
 },
 "nbformat": 4,
 "nbformat_minor": 4
}
