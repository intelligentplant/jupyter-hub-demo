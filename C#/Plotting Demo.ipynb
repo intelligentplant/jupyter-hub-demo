{
 "cells": [
  {
   "cell_type": "markdown",
   "metadata": {},
   "source": [
    "# .Net Core Data Core Client Demo\n",
    "This notebook will demonstrate how to use the Intelligent Plant Data Core client in the dotnet interactive Jupyter kernel."
   ]
  },
  {
   "cell_type": "markdown",
   "metadata": {},
   "source": [
    "## Installing\n",
    "\n",
    "Cell magic can be used to install the data core client from the standard nuget package source."
   ]
  },
  {
   "cell_type": "code",
   "execution_count": null,
   "metadata": {},
   "outputs": [],
   "source": [
    "#r \"nuget:IntelligentPlant.DataCore.HttpClient,1.0.0-alpha29\"\n",
    "using IntelligentPlant.DataCore.Client;\n",
    "using IntelligentPlant.DataCore.Client.Clients;"
   ]
  },
  {
   "cell_type": "markdown",
   "metadata": {},
   "source": [
    "This cell contains the boiler plate code needed to set up the data core client using the Jupyter server's preconfigured access token."
   ]
  },
  {
   "cell_type": "code",
   "execution_count": null,
   "metadata": {},
   "outputs": [],
   "source": [
    "using System.Net.Http;\n",
    "using System.Net.Http.Headers;\n",
    "using System.Threading;\n",
    "var accessToken = System.Environment.GetEnvironmentVariable(\"ACCESS_TOKEN\", EnvironmentVariableTarget.Process);\n",
    "var authenticationHandler = DataCoreHttpClient.CreateAuthenticationMessageHandler(async (HttpRequestMessage request, object context, CancellationToken ct) => {\n",
    "    return new AuthenticationHeaderValue(\"Bearer\", accessToken);\n",
    "});\n",
    "var primaryHandler = new SocketsHttpHandler();\n",
    "authenticationHandler.InnerHandler = primaryHandler;\n",
    "var baseClient = new HttpClient(authenticationHandler);\n",
    "var client = new DataCoreHttpClient<object, DataCoreHttpClientOptions>(baseClient, new DataCoreHttpClientOptions() {\n",
    "    DataCoreUrl = new System.Uri(\"https://appstore.intelligentplant.com/gestalt/datacore/\")\n",
    "});"
   ]
  },
  {
   "cell_type": "markdown",
   "metadata": {},
   "source": [
    "The data core client is now configured.\n",
    "\n",
    "The client can be used to get a list of available data sources (that have been authorised for the Jupyter Hub app)."
   ]
  },
  {
   "cell_type": "code",
   "execution_count": null,
   "metadata": {},
   "outputs": [],
   "source": [
    "var datasourceResp = await client.DataSources.GetDataSourcesAsync();"
   ]
  },
  {
   "cell_type": "markdown",
   "metadata": {},
   "source": [
    "An expression without a ';' will be displayed as the cell output."
   ]
  },
  {
   "cell_type": "code",
   "execution_count": null,
   "metadata": {},
   "outputs": [],
   "source": [
    "datasourceResp.Select(x => x.Name.QualifiedName)"
   ]
  },
  {
   "cell_type": "markdown",
   "metadata": {},
   "source": [
    "The client can be used to query for available tags.\n",
    "\n",
    "In this case we'll get the 1st 5 tags from the demo data source \"IP Data source 2\".\n",
    "\n",
    "(Make sure this data source appears in the list of authorised data sources)"
   ]
  },
  {
   "cell_type": "code",
   "execution_count": null,
   "metadata": {},
   "outputs": [],
   "source": [
    "var dsn = \"IP Datasource 2\";"
   ]
  },
  {
   "cell_type": "code",
   "execution_count": null,
   "metadata": {},
   "outputs": [],
   "source": [
    "var resp = await client.DataSources.FindTagsAsync(dsn, nameFilter: \"*\", page: 1, pageSize: 5);"
   ]
  },
  {
   "cell_type": "code",
   "execution_count": null,
   "metadata": {},
   "outputs": [],
   "source": [
    "var tags = resp.Select(x => x.Name).ToArray();"
   ]
  },
  {
   "cell_type": "code",
   "execution_count": null,
   "metadata": {},
   "outputs": [],
   "source": [
    "tags"
   ]
  },
  {
   "cell_type": "markdown",
   "metadata": {},
   "source": [
    "To query a data source for tag data a tag map must be created.\n",
    "\n",
    "The map should have qualified data source names as keys and arrays of tag names as values.\n",
    "\n",
    "This tag map is setup to query \"IP Datasource 2\" for the 1st 5 tags that we requested from it earlier."
   ]
  },
  {
   "cell_type": "code",
   "execution_count": null,
   "metadata": {},
   "outputs": [],
   "source": [
    "var tagMap = new Dictionary<string, string[]>();\n",
    "tagMap[dsn] = tags;"
   ]
  },
  {
   "cell_type": "markdown",
   "metadata": {},
   "source": [
    "To query for plot data use the `ReadPlotTagValuesAsync(..)` function. This function takes a tag map, query start time, query end time and number of samples as parameters."
   ]
  },
  {
   "cell_type": "code",
   "execution_count": null,
   "metadata": {},
   "outputs": [],
   "source": [
    "var dataResp = await client.DataSources.ReadPlotTagValuesAsync(tagMap, \"*-30d\", \"*\", 100);"
   ]
  },
  {
   "cell_type": "markdown",
   "metadata": {},
   "source": [
    "The response is a dictionary where the keys are the data source names are the keys.\n",
    "\n",
    "The value for each data source is a nested dictionary where the keys are the requested tag names and the values are a historical tag value object, which contains an array of tag values."
   ]
  },
  {
   "cell_type": "code",
   "execution_count": null,
   "metadata": {},
   "outputs": [],
   "source": [
    "dataResp.Keys"
   ]
  },
  {
   "cell_type": "code",
   "execution_count": null,
   "metadata": {},
   "outputs": [],
   "source": [
    "dataResp[dsn].Keys"
   ]
  },
  {
   "cell_type": "code",
   "execution_count": null,
   "metadata": {},
   "outputs": [],
   "source": [
    "dataResp[dsn][tags.First()]"
   ]
  },
  {
   "cell_type": "markdown",
   "metadata": {},
   "source": [
    "The each tag value is an object containg meta data and the tag value.\n",
    "\n",
    "Depending on the data function the sample times may not be at consistent intervals and therefore may differ from 1 tag to another."
   ]
  },
  {
   "cell_type": "code",
   "execution_count": null,
   "metadata": {},
   "outputs": [],
   "source": [
    "dataResp[dsn][tags.First()].Values.First()"
   ]
  },
  {
   "cell_type": "markdown",
   "metadata": {},
   "source": [
    "To extract the numeric data for a given tag use Linq"
   ]
  },
  {
   "cell_type": "code",
   "execution_count": null,
   "metadata": {},
   "outputs": [],
   "source": [
    "dataResp[dsn][tags.First()].Values.Select(val => val.NumericValue)"
   ]
  },
  {
   "cell_type": "markdown",
   "metadata": {},
   "source": [
    "The XPlot Library lets us easily plot the tag data."
   ]
  },
  {
   "cell_type": "code",
   "execution_count": null,
   "metadata": {},
   "outputs": [],
   "source": [
    "using XPlot.Plotly;"
   ]
  },
  {
   "cell_type": "code",
   "execution_count": null,
   "metadata": {},
   "outputs": [],
   "source": [
    "var tagSeries = new List<Graph.Scatter>();\n",
    "\n",
    "foreach (var tag in tags) {\n",
    "    \n",
    "    var data = dataResp[dsn][tag].Values.Select(x => x.NumericValue);\n",
    "    \n",
    "    var min = data.Min();\n",
    "    \n",
    "    var max = data.Max() - min;\n",
    "    \n",
    "    var series = new Graph.Scatter\n",
    "    {\n",
    "        name = tag,\n",
    "        x = dataResp[dsn][tag].Values.Select(x => x.UtcSampleTime),\n",
    "        y = data.Select(x => (x - min)/max) //normalise the data into the range 0-1\n",
    "    };\n",
    "    \n",
    "    tagSeries.Add(series);\n",
    "}\n",
    "\n",
    "var chart = Chart.Plot(tagSeries);\n",
    "display(chart);"
   ]
  },
  {
   "cell_type": "code",
   "execution_count": null,
   "metadata": {},
   "outputs": [],
   "source": [
    "var openSeries = new Graph.Scatter\n",
    "{\n",
    "    mode = \"markers\",\n",
    "    x = dataResp[dsn][\"Anti-Scalent Pump A_PI\"].Values.Select(x => x.NumericValue),\n",
    "    y = dataResp[dsn][\"Anti-Scalent Pump B_PI\"].Values.Select(x => x.NumericValue)\n",
    "};\n",
    "\n",
    "\n",
    "var chart = Chart.Plot(new[] {openSeries});\n",
    "chart.WithTitle(\"Anti-Scalent Pump A_PI vs Anti-Scalent Pump B_PI\");\n",
    "display(chart);"
   ]
  },
  {
   "cell_type": "code",
   "execution_count": null,
   "metadata": {},
   "outputs": [],
   "source": []
  },
  {
   "cell_type": "code",
   "execution_count": null,
   "metadata": {},
   "outputs": [],
   "source": []
  }
 ],
 "metadata": {
  "kernelspec": {
   "display_name": ".NET (C#)",
   "language": "C#",
   "name": ".net-csharp"
  },
  "language_info": {
   "file_extension": ".cs",
   "mimetype": "text/x-csharp",
   "name": "C#",
   "pygments_lexer": "csharp",
   "version": "8.0"
  }
 },
 "nbformat": 4,
 "nbformat_minor": 4
}
