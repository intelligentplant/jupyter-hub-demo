{
 "cells": [
  {
   "cell_type": "markdown",
   "metadata": {},
   "source": [
    "# .Net Core Data Core Client Demo\n",
    "This notebook will demonstrate how to use the Intelligent Plant Data Core client in the dotnet interactive Jupyter kernel."
   ]
  },
  {
   "cell_type": "markdown",
   "metadata": {},
   "source": [
    "## Installing\n",
    "\n",
    "Cell magic can be used to install the data core client from the standard nuget package source."
   ]
  },
  {
   "cell_type": "code",
   "execution_count": 1,
   "metadata": {},
   "outputs": [
    {
     "data": {
      "text/html": [
       "<script type=\"text/javascript\">#!javascript\r\n",
       "if ((typeof(requirejs) !==  typeof(Function)) || (typeof(requirejs.config) !== typeof(Function))) { \r\n",
       "    let script = document.createElement(\"script\"); \r\n",
       "    script.setAttribute(\"src\", \"https://cdnjs.cloudflare.com/ajax/libs/require.js/2.3.6/require.min.js\"); \r\n",
       "    script.onload = function(){\r\n",
       "        loadDotnetInteractiveApi();\r\n",
       "    };\r\n",
       "    document.getElementsByTagName(\"head\")[0].appendChild(script); \r\n",
       "}\r\n",
       "else {\r\n",
       "    loadDotnetInteractiveApi();\r\n",
       "}\r\n",
       "\r\n",
       "function loadDotnetInteractiveApi(){\r\n",
       "    let apiRequire = requirejs.config({context:\"dotnet-interactive.9747.46099\",paths:{dotnetInteractive:\"http://localhost:46099/resources/dotnet-interactive\"}});\r\n",
       "    apiRequire(['dotnetInteractive'], \r\n",
       "    function(api) {       \r\n",
       "        api.createDotnetInteractiveClient(\"http://localhost:46099/\", window);\r\n",
       "    },\r\n",
       "    function(error){\r\n",
       "        console.log(error);\r\n",
       "    });\r\n",
       "}</script>"
      ]
     },
     "metadata": {},
     "output_type": "display_data"
    },
    {
     "data": {
      "text/html": [
       "Installed package IntelligentPlant.DataCore.HttpClient version 1.0.0-alpha29"
      ]
     },
     "metadata": {},
     "output_type": "display_data"
    }
   ],
   "source": [
    "#r \"nuget:IntelligentPlant.DataCore.HttpClient,1.0.0-alpha29\"\n",
    "using IntelligentPlant.DataCore.Client;\n",
    "using IntelligentPlant.DataCore.Client.Clients;"
   ]
  },
  {
   "cell_type": "markdown",
   "metadata": {},
   "source": [
    "This cell contains the boiler plate code needed to set up the data core client using the Jupyter server's preconfigured access token."
   ]
  },
  {
   "cell_type": "code",
   "execution_count": 2,
   "metadata": {},
   "outputs": [],
   "source": [
    "using System.Net.Http;\n",
    "using System.Net.Http.Headers;\n",
    "using System.Threading;\n",
    "var accessToken = System.Environment.GetEnvironmentVariable(\"ACCESS_TOKEN\", EnvironmentVariableTarget.Process);\n",
    "var authenticationHandler = DataCoreHttpClient.CreateAuthenticationMessageHandler(async (HttpRequestMessage request, object context, CancellationToken ct) => {\n",
    "    return new AuthenticationHeaderValue(\"Bearer\", accessToken);\n",
    "});\n",
    "var primaryHandler = new SocketsHttpHandler();\n",
    "authenticationHandler.InnerHandler = primaryHandler;\n",
    "var baseClient = new HttpClient(authenticationHandler);\n",
    "var dataCore = new DataSourcesClient<object, DataCoreHttpClientOptions>(baseClient, new DataCoreHttpClientOptions() {\n",
    "    DataCoreUrl = new System.Uri(\"https://appstore.intelligentplant.com/gestalt/datacore/\")\n",
    "});"
   ]
  },
  {
   "cell_type": "markdown",
   "metadata": {},
   "source": [
    "The data core client is now configured.\n",
    "\n",
    "The client can be used to get a list of available data sources (that have been authorised for the Jupyter Hub app)."
   ]
  },
  {
   "cell_type": "code",
   "execution_count": 3,
   "metadata": {},
   "outputs": [],
   "source": [
    "var datasourceResp = await dataCore.GetDataSourcesAsync();"
   ]
  },
  {
   "cell_type": "markdown",
   "metadata": {},
   "source": [
    "An expression without a ';' will be displayed as the cell output."
   ]
  },
  {
   "cell_type": "code",
   "execution_count": 4,
   "metadata": {},
   "outputs": [
    {
     "data": {
      "text/html": [
       "<table><thead><tr><th><i>index</i></th><th>value</th></tr></thead><tbody><tr><td>0</td><td>IP Datasource</td></tr><tr><td>1</td><td>IP Datasource 2</td></tr><tr><td>2</td><td>Vibration</td></tr></tbody></table>"
      ]
     },
     "execution_count": 4,
     "metadata": {},
     "output_type": "execute_result"
    }
   ],
   "source": [
    "datasourceResp.Select(x => x.Name.QualifiedName)"
   ]
  },
  {
   "cell_type": "markdown",
   "metadata": {},
   "source": [
    "The client can be used to query for available tags.\n",
    "\n",
    "In this case we'll get the 1st 5 tags from the demo data source \"IP Data source 2\".\n",
    "\n",
    "(Make sure this data source appears in the list of authorised data sources)"
   ]
  },
  {
   "cell_type": "code",
   "execution_count": 5,
   "metadata": {},
   "outputs": [],
   "source": [
    "var dsn = \"IP Datasource 2\";"
   ]
  },
  {
   "cell_type": "code",
   "execution_count": 6,
   "metadata": {},
   "outputs": [],
   "source": [
    "var resp = await dataCore.FindTagsAsync(dsn, nameFilter: \"*\", page: 1, pageSize: 5);"
   ]
  },
  {
   "cell_type": "code",
   "execution_count": 7,
   "metadata": {},
   "outputs": [],
   "source": [
    "var tags = resp.Select(x => x.Name).ToArray();"
   ]
  },
  {
   "cell_type": "code",
   "execution_count": 8,
   "metadata": {},
   "outputs": [
    {
     "data": {
      "text/html": [
       "<table><thead><tr><th><i>index</i></th><th>value</th></tr></thead><tbody><tr><td>0</td><td>Air Scour Blowers_Outlet_PI</td></tr><tr><td>1</td><td>Antifoam Inj Pump A_PI</td></tr><tr><td>2</td><td>Antifoam Inj Pump B_PI</td></tr><tr><td>3</td><td>Anti-Scalent Pump A_PI</td></tr><tr><td>4</td><td>Anti-Scalent Pump B_PI</td></tr></tbody></table>"
      ]
     },
     "execution_count": 8,
     "metadata": {},
     "output_type": "execute_result"
    }
   ],
   "source": [
    "tags"
   ]
  },
  {
   "cell_type": "markdown",
   "metadata": {},
   "source": [
    "To query a data source for tag data a tag map must be created.\n",
    "\n",
    "The map should have qualified data source names as keys and arrays of tag names as values.\n",
    "\n",
    "This tag map is setup to query \"IP Datasource 2\" for the 1st 5 tags that we requested from it earlier."
   ]
  },
  {
   "cell_type": "code",
   "execution_count": 9,
   "metadata": {},
   "outputs": [],
   "source": [
    "var tagMap = new Dictionary<string, string[]>();\n",
    "tagMap[dsn] = tags;"
   ]
  },
  {
   "cell_type": "markdown",
   "metadata": {},
   "source": [
    "To query for plot data use the `ReadPlotTagValuesAsync(..)` function. This function takes a tag map, query start time, query end time and number of samples as parameters."
   ]
  },
  {
   "cell_type": "code",
   "execution_count": 10,
   "metadata": {},
   "outputs": [],
   "source": [
    "var dataResp = await dataCore.ReadPlotTagValuesAsync(tagMap, \"*-30d\", \"*\", 100);"
   ]
  },
  {
   "cell_type": "markdown",
   "metadata": {},
   "source": [
    "The response is a dictionary where the keys are the data source names are the keys.\n",
    "\n",
    "The value for each data source is a nested dictionary where the keys are the requested tag names and the values are a historical tag value object, which contains an array of tag values."
   ]
  },
  {
   "cell_type": "code",
   "execution_count": 11,
   "metadata": {},
   "outputs": [
    {
     "data": {
      "text/html": [
       "<table><thead><tr><th><i>index</i></th><th>value</th></tr></thead><tbody><tr><td>0</td><td>IP Datasource 2</td></tr></tbody></table>"
      ]
     },
     "execution_count": 11,
     "metadata": {},
     "output_type": "execute_result"
    }
   ],
   "source": [
    "dataResp.Keys"
   ]
  },
  {
   "cell_type": "code",
   "execution_count": 12,
   "metadata": {},
   "outputs": [
    {
     "data": {
      "text/html": [
       "<table><thead><tr><th><i>index</i></th><th>value</th></tr></thead><tbody><tr><td>0</td><td>Antifoam Inj Pump A_PI</td></tr><tr><td>1</td><td>Antifoam Inj Pump B_PI</td></tr><tr><td>2</td><td>Air Scour Blowers_Outlet_PI</td></tr><tr><td>3</td><td>Anti-Scalent Pump A_PI</td></tr><tr><td>4</td><td>Anti-Scalent Pump B_PI</td></tr></tbody></table>"
      ]
     },
     "execution_count": 12,
     "metadata": {},
     "output_type": "execute_result"
    }
   ],
   "source": [
    "dataResp[dsn].Keys"
   ]
  },
  {
   "cell_type": "code",
   "execution_count": 13,
   "metadata": {},
   "outputs": [
    {
     "data": {
      "text/html": [
       "<table><thead><tr><th>TagName</th><th>DisplayType</th><th>Values</th></tr></thead><tbody><tr><td>Air Scour Blowers_Outlet_PI</td><td>TrailingEdge</td><td>[ { IntelligentPlant.DataCore.Client.Model.TagValue: TagName: Air Scour Blowers_Outlet_PI, UtcSampleTime: 2020-06-15 13:11:09Z, NumericValue: 0.00674237338672134, TextValue: 0.00674237338672134, Status: Good, Unit: , Notes: &lt;null&gt;, Error: &lt;null&gt;, IsNumeric: True, HasError: False }, { IntelligentPlant.DataCore.Client.Model.TagValue: TagName: Air Scour Blowers_Outlet_PI, UtcSampleTime: 2020-06-15 20:27:31Z, NumericValue: 2.23927533717533E-05, TextValue: 2.23927533717533E-05, Status: Good, Unit: , Notes: &lt;null&gt;, Error: &lt;null&gt;, IsNumeric: True, HasError: False }, { IntelligentPlant.DataCore.Client.Model.TagValue: TagName: Air Scour Blowers_Outlet_PI, UtcSampleTime: 2020-06-16 03:43:52Z, NumericValue: 0.000311716576711327, TextValue: 0.000311716576711327, Status: Good, Unit: , Notes: &lt;null&gt;, Error: &lt;null&gt;, IsNumeric: True, HasError: False }, { IntelligentPlant.DataCore.Client.Model.TagValue: TagName: Air Scour Blowers_Outlet_PI, UtcSampleTime: 2020-06-16 11:00:14Z, NumericValue: 0.000386630664301369, TextValue: 0.000386630664301369, Status: Good, Unit: , Notes: &lt;null&gt;, Error: &lt;null&gt;, IsNumeric: True, HasError: False }, { IntelligentPlant.DataCore.Client.Model.TagValue: TagName: Air Scour Blowers_Outlet_PI, UtcSampleTime: 2020-06-16 18:16:36Z, NumericValue: 0.000471998362192066, TextValue: 0.000471998362192066, Status: Good, Unit: , Notes: &lt;null&gt;, Error: &lt;null&gt;, IsNumeric: True, HasError: False }, { IntelligentPlant.DataCore.Client.Model.TagValue: TagName: Air Scour Blowers_Outlet_PI, UtcSampleTime: 2020-06-17 01:32:58Z, NumericValue: 0.201384109379807, TextValue: 0.201384109379807, Status: Good, Unit: , Notes: &lt;null&gt;, Error: &lt;null&gt;, IsNumeric: True, HasError: False }, { IntelligentPlant.DataCore.Client.Model.TagValue: TagName: Air Scour Blowers_Outlet_PI, UtcSampleTime: 2020-06-17 08:49:20Z, NumericValue: 0.000312429592030405, TextValue: 0.000312429592030405, Status: Good, Unit: , Notes: &lt;null&gt;, Error: &lt;null&gt;, IsNumeric: True, HasError: False }, { IntelligentPlant.DataCore.Client.Model.TagValue: TagName: Air Scour Blowers_Outlet_PI, UtcSampleTime: 2020-06-17 16:05:41Z, NumericValue: 0.000411417831222486, TextValue: 0.000411417831222486, Status: Good, Unit: , Notes: &lt;null&gt;, Error: &lt;null&gt;, IsNumeric: True, HasError: False }, { IntelligentPlant.DataCore.Client.Model.TagValue: TagName: Air Scour Blowers_Outlet_PI, UtcSampleTime: 2020-06-17 23:22:03Z, NumericValue: 0.000486377189824725, TextValue: 0.000486377189824725, Status: Good, Unit: , Notes: &lt;null&gt;, Error: &lt;null&gt;, IsNumeric: True, HasError: False }, { IntelligentPlant.DataCore.Client.Model.TagValue: TagName: Air Scour Blowers_Outlet_PI, UtcSampleTime: 2020-06-18 06:38:25Z, NumericValue: 0.000195162860541375, TextValue: 0.000195162860541375, Status: Good, Unit: , Notes: &lt;null&gt;, Error: &lt;null&gt;, IsNumeric: True, HasError: False }, { IntelligentPlant.DataCore.Client.Model.TagValue: TagName: Air Scour Blowers_Outlet_PI, UtcSampleTime: 2020-06-18 13:54:47Z, NumericValue: 0.0034443941672715, TextValue: 0.0034443941672715, Status: Good, Unit: , Notes: &lt;null&gt;, Error: &lt;null&gt;, IsNumeric: True, HasError: False }, { IntelligentPlant.DataCore.Client.Model.TagValue: TagName: Air Scour Blowers_Outlet_PI, UtcSampleTime: 2020-06-18 21:11:09Z, NumericValue: 0.000952211607680374, TextValue: 0.000952211607680374, Status: Good, Unit: , Notes: &lt;null&gt;, Error: &lt;null&gt;, IsNumeric: True, HasError: False }, { IntelligentPlant.DataCore.Client.Model.TagValue: TagName: Air Scour Blowers_Outlet_PI, UtcSampleTime: 2020-06-19 04:27:31Z, NumericValue: 0.0003143188945733, TextValue: 0.0003143188945733, Status: Good, Unit: , Notes: &lt;null&gt;, Error: &lt;null&gt;, IsNumeric: True, HasError: False }, { IntelligentPlant.DataCore.Client.Model.TagValue: TagName: Air Scour Blowers_Outlet_PI, UtcSampleTime: 2020-06-19 11:43:52Z, NumericValue: 0.000194766211514327, TextValue: 0.000194766211514327, Status: Good, Unit: , Notes: &lt;null&gt;, Error: &lt;null&gt;, IsNumeric: True, HasError: False }, { IntelligentPlant.DataCore.Client.Model.TagValue: TagName: Air Scour Blowers_Outlet_PI, UtcSampleTime: 2020-06-19 19:00:14Z, NumericValue: 0.000369953646010038, TextValue: 0.000369953646010038, Status: Good, Unit: , Notes: &lt;null&gt;, Error: &lt;null&gt;, IsNumeric: True, HasError: False }, { IntelligentPlant.DataCore.Client.Model.TagValue: TagName: Air Scour Blowers_Outlet_PI, UtcSampleTime: 2020-06-20 02:16:36Z, NumericValue: 0.00029949184007026, TextValue: 0.00029949184007026, Status: Good, Unit: , Notes: &lt;null&gt;, Error: &lt;null&gt;, IsNumeric: True, HasError: False }, { IntelligentPlant.DataCore.Client.Model.TagValue: TagName: Air Scour Blowers_Outlet_PI, UtcSampleTime: 2020-06-20 09:32:58Z, NumericValue: 0.00412595386717061, TextValue: 0.00412595386717061, Status: Good, Unit: , Notes: &lt;null&gt;, Error: &lt;null&gt;, IsNumeric: True, HasError: False }, { IntelligentPlant.DataCore.Client.Model.TagValue: TagName: Air Scour Blowers_Outlet_PI, UtcSampleTime: 2020-06-20 16:49:20Z, NumericValue: 0.000116592749252814, TextValue: 0.000116592749252814, Status: Good, Unit: , Notes: &lt;null&gt;, Error: &lt;null&gt;, IsNumeric: True, HasError: False }, { IntelligentPlant.DataCore.Client.Model.TagValue: TagName: Air Scour Blowers_Outlet_PI, UtcSampleTime: 2020-06-21 00:05:41Z, NumericValue: 9.46397755776401E-05, TextValue: 9.46397755776401E-05, Status: Good, Unit: , Notes: &lt;null&gt;, Error: &lt;null&gt;, IsNumeric: True, HasError: False }, { IntelligentPlant.DataCore.Client.Model.TagValue: TagName: Air Scour Blowers_Outlet_PI, UtcSampleTime: 2020-06-21 07:22:03Z, NumericValue: 0.000647858542442041, TextValue: 0.000647858542442041, Status: Good, Unit: , Notes: &lt;null&gt;, Error: &lt;null&gt;, IsNumeric: True, HasError: False } ... (80 more) ]</td></tr></tbody></table>"
      ]
     },
     "execution_count": 13,
     "metadata": {},
     "output_type": "execute_result"
    }
   ],
   "source": [
    "dataResp[dsn][tags.First()]"
   ]
  },
  {
   "cell_type": "markdown",
   "metadata": {},
   "source": [
    "The each tag value is an object containg meta data and the tag value.\n",
    "\n",
    "Depending on the data function the sample times may not be at consistent intervals and therefore may differ from 1 tag to another."
   ]
  },
  {
   "cell_type": "code",
   "execution_count": 14,
   "metadata": {},
   "outputs": [
    {
     "data": {
      "text/html": [
       "<table><thead><tr><th>TagName</th><th>UtcSampleTime</th><th>NumericValue</th><th>TextValue</th><th>Status</th><th>Unit</th><th>Notes</th><th>Error</th><th>IsNumeric</th><th>HasError</th></tr></thead><tbody><tr><td>Air Scour Blowers_Outlet_PI</td><td>2020-06-15 13:11:09Z</td><td>0.00674237338672134</td><td>0.00674237338672134</td><td>Good</td><td></td><td>&lt;null&gt;</td><td>&lt;null&gt;</td><td>True</td><td>False</td></tr></tbody></table>"
      ]
     },
     "execution_count": 14,
     "metadata": {},
     "output_type": "execute_result"
    }
   ],
   "source": [
    "dataResp[dsn][tags.First()].Values.First()"
   ]
  },
  {
   "cell_type": "markdown",
   "metadata": {},
   "source": [
    "To extract the numeric data for a given tag use Linq"
   ]
  },
  {
   "cell_type": "code",
   "execution_count": 15,
   "metadata": {},
   "outputs": [
    {
     "data": {
      "text/html": [
       "<table><thead><tr><th><i>index</i></th><th>value</th></tr></thead><tbody><tr><td>0</td><td>0.00674237338672134</td></tr><tr><td>1</td><td>2.23927533717533E-05</td></tr><tr><td>2</td><td>0.000311716576711327</td></tr><tr><td>3</td><td>0.000386630664301369</td></tr><tr><td>4</td><td>0.000471998362192066</td></tr><tr><td>5</td><td>0.201384109379807</td></tr><tr><td>6</td><td>0.000312429592030405</td></tr><tr><td>7</td><td>0.000411417831222486</td></tr><tr><td>8</td><td>0.000486377189824725</td></tr><tr><td>9</td><td>0.000195162860541375</td></tr><tr><td>10</td><td>0.0034443941672715</td></tr><tr><td>11</td><td>0.000952211607680374</td></tr><tr><td>12</td><td>0.0003143188945733</td></tr><tr><td>13</td><td>0.000194766211514327</td></tr><tr><td>14</td><td>0.000369953646010038</td></tr><tr><td>15</td><td>0.00029949184007026</td></tr><tr><td>16</td><td>0.00412595386717061</td></tr><tr><td>17</td><td>0.000116592749252814</td></tr><tr><td>18</td><td>9.46397755776401E-05</td></tr><tr><td>19</td><td>0.000647858542442041</td></tr><tr><td colspan=\"2\">(more...)</td></tr></tbody></table>"
      ]
     },
     "execution_count": 15,
     "metadata": {},
     "output_type": "execute_result"
    }
   ],
   "source": [
    "dataResp[dsn][tags.First()].Values.Select(val => val.NumericValue)"
   ]
  },
  {
   "cell_type": "markdown",
   "metadata": {},
   "source": [
    "The XPlot Library lets us easily plot the tag data."
   ]
  },
  {
   "cell_type": "code",
   "execution_count": 16,
   "metadata": {},
   "outputs": [],
   "source": [
    "using XPlot.Plotly;"
   ]
  },
  {
   "cell_type": "code",
   "execution_count": 17,
   "metadata": {},
   "outputs": [
    {
     "data": {
      "text/html": [
       "<div id=\"e26b2440-64f6-48fa-aad0-3602158f1f0c\" style=\"width: 900px; height: 500px;\"></div>\r\n",
       "<script type=\"text/javascript\">\n",
       "\r\n",
       "var renderPlotly = function() {\r\n",
       "    var xplotRequire = requirejs.config({context:'xplot-3.0.1',paths:{plotly:'https://cdn.plot.ly/plotly-1.49.2.min'}});\r\n",
       "    xplotRequire(['plotly'], function(Plotly) {\n",
       "\n",
       "            var data = [{\"type\":\"scatter\",\"x\":[\"2020-06-15T13:11:09.196Z\",\"2020-06-15T20:27:31.014202Z\",\"2020-06-16T03:43:52.832404Z\",\"2020-06-16T11:00:14.650606Z\",\"2020-06-16T18:16:36.468808Z\",\"2020-06-17T01:32:58.28701Z\",\"2020-06-17T08:49:20.105212Z\",\"2020-06-17T16:05:41.923414Z\",\"2020-06-17T23:22:03.741616Z\",\"2020-06-18T06:38:25.559818Z\",\"2020-06-18T13:54:47.37802Z\",\"2020-06-18T21:11:09.196222Z\",\"2020-06-19T04:27:31.014424Z\",\"2020-06-19T11:43:52.832626Z\",\"2020-06-19T19:00:14.650828Z\",\"2020-06-20T02:16:36.46903Z\",\"2020-06-20T09:32:58.287232Z\",\"2020-06-20T16:49:20.105434Z\",\"2020-06-21T00:05:41.923636Z\",\"2020-06-21T07:22:03.741838Z\",\"2020-06-21T14:38:25.56004Z\",\"2020-06-21T21:54:47.378242Z\",\"2020-06-22T05:11:09.196444Z\",\"2020-06-22T12:27:31.014646Z\",\"2020-06-22T19:43:52.832848Z\",\"2020-06-23T03:00:14.65105Z\",\"2020-06-23T10:16:36.469252Z\",\"2020-06-23T17:32:58.287454Z\",\"2020-06-24T00:49:20.105656Z\",\"2020-06-24T08:05:41.923858Z\",\"2020-06-24T15:22:03.74206Z\",\"2020-06-24T22:38:25.560262Z\",\"2020-06-25T05:54:47.378464Z\",\"2020-06-25T13:11:09.196666Z\",\"2020-06-25T20:27:31.014868Z\",\"2020-06-26T03:43:52.83307Z\",\"2020-06-26T11:00:14.651272Z\",\"2020-06-26T18:16:36.469474Z\",\"2020-06-27T01:32:58.287676Z\",\"2020-06-27T08:49:20.105878Z\",\"2020-06-27T16:05:41.92408Z\",\"2020-06-27T23:22:03.742282Z\",\"2020-06-28T06:38:25.560484Z\",\"2020-06-28T13:54:47.378686Z\",\"2020-06-28T21:11:09.196888Z\",\"2020-06-29T04:27:31.01509Z\",\"2020-06-29T11:43:52.833292Z\",\"2020-06-29T19:00:14.651494Z\",\"2020-06-30T02:16:36.469696Z\",\"2020-06-30T09:32:58.287898Z\",\"2020-06-30T16:49:20.1061Z\",\"2020-07-01T00:05:41.924302Z\",\"2020-07-01T07:22:03.742504Z\",\"2020-07-01T14:38:25.560706Z\",\"2020-07-01T21:54:47.378908Z\",\"2020-07-02T05:11:09.19711Z\",\"2020-07-02T12:27:31.015312Z\",\"2020-07-02T19:43:52.833514Z\",\"2020-07-03T03:00:14.651716Z\",\"2020-07-03T10:16:36.469918Z\",\"2020-07-03T17:32:58.28812Z\",\"2020-07-04T00:49:20.106322Z\",\"2020-07-04T08:05:41.924524Z\",\"2020-07-04T15:22:03.742726Z\",\"2020-07-04T22:38:25.560928Z\",\"2020-07-05T05:54:47.37913Z\",\"2020-07-05T13:11:09.197332Z\",\"2020-07-05T20:27:31.015534Z\",\"2020-07-06T03:43:52.833736Z\",\"2020-07-06T11:00:14.651938Z\",\"2020-07-06T18:16:36.47014Z\",\"2020-07-07T01:32:58.288342Z\",\"2020-07-07T08:49:20.106544Z\",\"2020-07-07T16:05:41.924746Z\",\"2020-07-07T23:22:03.742948Z\",\"2020-07-08T06:38:25.56115Z\",\"2020-07-08T13:54:47.379352Z\",\"2020-07-08T21:11:09.197554Z\",\"2020-07-09T04:27:31.015756Z\",\"2020-07-09T11:43:52.833958Z\",\"2020-07-09T19:00:14.65216Z\",\"2020-07-10T02:16:36.470362Z\",\"2020-07-10T09:32:58.288564Z\",\"2020-07-10T16:49:20.106766Z\",\"2020-07-11T00:05:41.924968Z\",\"2020-07-11T07:22:03.74317Z\",\"2020-07-11T14:38:25.561372Z\",\"2020-07-11T21:54:47.379574Z\",\"2020-07-12T05:11:09.197776Z\",\"2020-07-12T12:27:31.015978Z\",\"2020-07-12T19:43:52.83418Z\",\"2020-07-13T03:00:14.652382Z\",\"2020-07-13T10:16:36.470584Z\",\"2020-07-13T17:32:58.288786Z\",\"2020-07-14T00:49:20.106988Z\",\"2020-07-14T08:05:41.92519Z\",\"2020-07-14T15:22:03.743392Z\",\"2020-07-14T22:38:25.561594Z\",\"2020-07-15T05:54:47.379796Z\",\"2020-07-15T13:11:09.197998Z\"],\"y\":[0.015579603039481802,0.0003726085044026664,0.0010273344687243876,0.001196861463330377,0.0013900444777059753,0.4560445354614364,0.0010289479882644346,0.0012529536356855873,0.0014225830764253737,0.0007635789876381045,0.008116433916927391,0.0024767440678167465,0.0010332233894913862,0.000762681389874693,0.0011591221691486207,0.0009996704748177823,0.009658770896331714,0.0005857785863904974,0.000536100057697967,0.0017880076484221965,0.002043682754762552,0.0011892366019499905,0.0010458660098641797,0.0004507570522597298,0.0008741574269399267,0.0009571501411268851,0.012283223290321717,0.0017382762453714594,0.0009367399656616606,0.0017324821271443086,0.0012470512339534398,0.001296214484901288,0.0012189353822864841,0.0010862232341183325,0.0014097641543632604,0.003750970468881269,0.0005163488675454065,0.0009880221797620525,0.000296987822755587,0.0007591739456269074,0.00027954922447218767,0.0008353635309765214,0.0014473750334773616,0.0011086502119289317,0.0010673085475793453,0.0026344701176117978,0.001070453982408479,6.73694188036404E-05,0.00036251843331381553,0.001511382787289948,0.0004464228673646438,0.0012578065979724216,0.0008797107116439344,0.0003674348356351172,0.0005209938868342563,0.00044616226773935,0.0002567717297423746,0.00034394797454318903,0.0027407978487904963,0.0053598480605055905,0.004143523467280437,0.0013775846736879122,0.0013433265919696592,0.00044816464214605554,0.0017392910542446448,0.003010719871020309,0.001710613558922763,0.0011115547929677553,0.0015641280884144267,0.0006640867648189397,0.001673192670764899,0.0008153583784124511,0.008837448622249415,0.0,0.0010354601411434949,0.00043954570973510674,0.006982578905267217,0.0012054191153816672,0.0017452754503620835,0.0010524822466124709,0.0009166271034563146,0.7585253941472799,0.0005753253333390823,0.0005883511088743921,0.0007581725687851605,0.0009926713625222309,0.000944398168143115,1.0,0.0017296627835858725,0.0005269107159570993,0.0021094554085583626,0.008114731038336723,0.018770860705858143,0.0008830304142511792,0.0009168651833147738,0.001286589124524325,0.0009241147025487504,0.0010913189842644497,0.002412677135040415,0.00021802658078913024],\"name\":\"Air Scour Blowers_Outlet_PI\"},{\"type\":\"scatter\",\"x\":[\"2020-06-15T13:11:09.196Z\",\"2020-06-15T20:27:31.014202Z\",\"2020-06-16T03:43:52.832404Z\",\"2020-06-16T11:00:14.650606Z\",\"2020-06-16T18:16:36.468808Z\",\"2020-06-17T01:32:58.28701Z\",\"2020-06-17T08:49:20.105212Z\",\"2020-06-17T16:05:41.923414Z\",\"2020-06-17T23:22:03.741616Z\",\"2020-06-18T06:38:25.559818Z\",\"2020-06-18T13:54:47.37802Z\",\"2020-06-18T21:11:09.196222Z\",\"2020-06-19T04:27:31.014424Z\",\"2020-06-19T11:43:52.832626Z\",\"2020-06-19T19:00:14.650828Z\",\"2020-06-20T02:16:36.46903Z\",\"2020-06-20T09:32:58.287232Z\",\"2020-06-20T16:49:20.105434Z\",\"2020-06-21T00:05:41.923636Z\",\"2020-06-21T07:22:03.741838Z\",\"2020-06-21T14:38:25.56004Z\",\"2020-06-21T21:54:47.378242Z\",\"2020-06-22T05:11:09.196444Z\",\"2020-06-22T12:27:31.014646Z\",\"2020-06-22T19:43:52.832848Z\",\"2020-06-23T03:00:14.65105Z\",\"2020-06-23T10:16:36.469252Z\",\"2020-06-23T17:32:58.287454Z\",\"2020-06-24T00:49:20.105656Z\",\"2020-06-24T08:05:41.923858Z\",\"2020-06-24T15:22:03.74206Z\",\"2020-06-24T22:38:25.560262Z\",\"2020-06-25T05:54:47.378464Z\",\"2020-06-25T13:11:09.196666Z\",\"2020-06-25T20:27:31.014868Z\",\"2020-06-26T03:43:52.83307Z\",\"2020-06-26T11:00:14.651272Z\",\"2020-06-26T18:16:36.469474Z\",\"2020-06-27T01:32:58.287676Z\",\"2020-06-27T08:49:20.105878Z\",\"2020-06-27T16:05:41.92408Z\",\"2020-06-27T23:22:03.742282Z\",\"2020-06-28T06:38:25.560484Z\",\"2020-06-28T13:54:47.378686Z\",\"2020-06-28T21:11:09.196888Z\",\"2020-06-29T04:27:31.01509Z\",\"2020-06-29T11:43:52.833292Z\",\"2020-06-29T19:00:14.651494Z\",\"2020-06-30T02:16:36.469696Z\",\"2020-06-30T09:32:58.287898Z\",\"2020-06-30T16:49:20.1061Z\",\"2020-07-01T00:05:41.924302Z\",\"2020-07-01T07:22:03.742504Z\",\"2020-07-01T14:38:25.560706Z\",\"2020-07-01T21:54:47.378908Z\",\"2020-07-02T05:11:09.19711Z\",\"2020-07-02T12:27:31.015312Z\",\"2020-07-02T19:43:52.833514Z\",\"2020-07-03T03:00:14.651716Z\",\"2020-07-03T10:16:36.469918Z\",\"2020-07-03T17:32:58.28812Z\",\"2020-07-04T00:49:20.106322Z\",\"2020-07-04T08:05:41.924524Z\",\"2020-07-04T15:22:03.742726Z\",\"2020-07-04T22:38:25.560928Z\",\"2020-07-05T05:54:47.37913Z\",\"2020-07-05T13:11:09.197332Z\",\"2020-07-05T20:27:31.015534Z\",\"2020-07-06T03:43:52.833736Z\",\"2020-07-06T11:00:14.651938Z\",\"2020-07-06T18:16:36.47014Z\",\"2020-07-07T01:32:58.288342Z\",\"2020-07-07T08:49:20.106544Z\",\"2020-07-07T16:05:41.924746Z\",\"2020-07-07T23:22:03.742948Z\",\"2020-07-08T06:38:25.56115Z\",\"2020-07-08T13:54:47.379352Z\",\"2020-07-08T21:11:09.197554Z\",\"2020-07-09T04:27:31.015756Z\",\"2020-07-09T11:43:52.833958Z\",\"2020-07-09T19:00:14.65216Z\",\"2020-07-10T02:16:36.470362Z\",\"2020-07-10T09:32:58.288564Z\",\"2020-07-10T16:49:20.106766Z\",\"2020-07-11T00:05:41.924968Z\",\"2020-07-11T07:22:03.74317Z\",\"2020-07-11T14:38:25.561372Z\",\"2020-07-11T21:54:47.379574Z\",\"2020-07-12T05:11:09.197776Z\",\"2020-07-12T12:27:31.015978Z\",\"2020-07-12T19:43:52.83418Z\",\"2020-07-13T03:00:14.652382Z\",\"2020-07-13T10:16:36.470584Z\",\"2020-07-13T17:32:58.288786Z\",\"2020-07-14T00:49:20.106988Z\",\"2020-07-14T08:05:41.92519Z\",\"2020-07-14T15:22:03.743392Z\",\"2020-07-14T22:38:25.561594Z\",\"2020-07-15T05:54:47.379796Z\",\"2020-07-15T13:11:09.197998Z\"],\"y\":[0.3197661704219545,0.426674191489674,0.49353489188234123,0.4838183285609786,0.4844819962165397,0.5073831345743524,0.5583925134789217,0.5241137615531873,0.48518728570769387,0.5551824883820599,0.5674587855586314,0.5680583138798562,0.5705635617106248,0.587611875439424,0.5839700253094551,0.5748478545258038,0.5698337873523469,0.0300883519931594,0.19169290629252678,0.2085628525737936,0.20390181092361434,0.26594986784163976,0.2875279016508062,0.30511209540710865,0.3114874652030768,0.47828984993004775,0.8910164585375554,0.9030244923377546,0.91293423395644,0.343629246837081,0.0003502782275251191,0.010793401165951405,0.3727415466914366,0.33198539929744253,0.431810163329047,0.47951614376802193,0.49903698377038475,0.4696221978643573,0.539423295974707,0.5562402091664101,0.5055758026756035,0.5051964328682859,0.5650676855565495,0.5662210326690321,0.5736509318451234,0.5923041547180591,0.5908108372186769,0.5790412586724021,0.5742656458718337,0.5731523730862769,0.16242457784501738,0.17924825919711707,0.1918849964246715,0.2381490780010929,0.2764211464165093,0.3181772489061187,0.30346991552686203,0.4645109636688445,0.8032503395052979,0.9634814110761961,0.9266134156906638,0.9497087478762543,0.0010260846549953323,0.0008899304496726581,0.0,0.316054344146273,0.4222530651219389,0.5067750755833094,0.4696701985792842,0.48819863672383335,0.49439078301032535,0.5590597982030115,0.5263816956537545,0.5141370311362649,0.5167475021744539,0.5674587855586314,0.566123928095161,0.5733895425493786,0.586566219453155,0.5788380113253947,0.570276145351281,0.580520229712979,0.5965186632428079,0.16812327609519578,0.22151683079138262,0.2175607121215856,0.2450901182788352,0.2826611583813203,0.2982951625132432,0.3167353985192441,0.46676403222014284,0.9033670547228654,0.9237896500896753,0.9252715686102815,1.0,0.003534961578320024,0.02807605234322422,0.3532057894721089,0.32467262085936255,0.4298461718752933],\"name\":\"Antifoam Inj Pump A_PI\"},{\"type\":\"scatter\",\"x\":[\"2020-06-15T13:11:09.196Z\",\"2020-06-15T20:27:31.014202Z\",\"2020-06-16T03:43:52.832404Z\",\"2020-06-16T11:00:14.650606Z\",\"2020-06-16T18:16:36.468808Z\",\"2020-06-17T01:32:58.28701Z\",\"2020-06-17T08:49:20.105212Z\",\"2020-06-17T16:05:41.923414Z\",\"2020-06-17T23:22:03.741616Z\",\"2020-06-18T06:38:25.559818Z\",\"2020-06-18T13:54:47.37802Z\",\"2020-06-18T21:11:09.196222Z\",\"2020-06-19T04:27:31.014424Z\",\"2020-06-19T11:43:52.832626Z\",\"2020-06-19T19:00:14.650828Z\",\"2020-06-20T02:16:36.46903Z\",\"2020-06-20T09:32:58.287232Z\",\"2020-06-20T16:49:20.105434Z\",\"2020-06-21T00:05:41.923636Z\",\"2020-06-21T07:22:03.741838Z\",\"2020-06-21T14:38:25.56004Z\",\"2020-06-21T21:54:47.378242Z\",\"2020-06-22T05:11:09.196444Z\",\"2020-06-22T12:27:31.014646Z\",\"2020-06-22T19:43:52.832848Z\",\"2020-06-23T03:00:14.65105Z\",\"2020-06-23T10:16:36.469252Z\",\"2020-06-23T17:32:58.287454Z\",\"2020-06-24T00:49:20.105656Z\",\"2020-06-24T08:05:41.923858Z\",\"2020-06-24T15:22:03.74206Z\",\"2020-06-24T22:38:25.560262Z\",\"2020-06-25T05:54:47.378464Z\",\"2020-06-25T13:11:09.196666Z\",\"2020-06-25T20:27:31.014868Z\",\"2020-06-26T03:43:52.83307Z\",\"2020-06-26T11:00:14.651272Z\",\"2020-06-26T18:16:36.469474Z\",\"2020-06-27T01:32:58.287676Z\",\"2020-06-27T08:49:20.105878Z\",\"2020-06-27T16:05:41.92408Z\",\"2020-06-27T23:22:03.742282Z\",\"2020-06-28T06:38:25.560484Z\",\"2020-06-28T13:54:47.378686Z\",\"2020-06-28T21:11:09.196888Z\",\"2020-06-29T04:27:31.01509Z\",\"2020-06-29T11:43:52.833292Z\",\"2020-06-29T19:00:14.651494Z\",\"2020-06-30T02:16:36.469696Z\",\"2020-06-30T09:32:58.287898Z\",\"2020-06-30T16:49:20.1061Z\",\"2020-07-01T00:05:41.924302Z\",\"2020-07-01T07:22:03.742504Z\",\"2020-07-01T14:38:25.560706Z\",\"2020-07-01T21:54:47.378908Z\",\"2020-07-02T05:11:09.19711Z\",\"2020-07-02T12:27:31.015312Z\",\"2020-07-02T19:43:52.833514Z\",\"2020-07-03T03:00:14.651716Z\",\"2020-07-03T10:16:36.469918Z\",\"2020-07-03T17:32:58.28812Z\",\"2020-07-04T00:49:20.106322Z\",\"2020-07-04T08:05:41.924524Z\",\"2020-07-04T15:22:03.742726Z\",\"2020-07-04T22:38:25.560928Z\",\"2020-07-05T05:54:47.37913Z\",\"2020-07-05T13:11:09.197332Z\",\"2020-07-05T20:27:31.015534Z\",\"2020-07-06T03:43:52.833736Z\",\"2020-07-06T11:00:14.651938Z\",\"2020-07-06T18:16:36.47014Z\",\"2020-07-07T01:32:58.288342Z\",\"2020-07-07T08:49:20.106544Z\",\"2020-07-07T16:05:41.924746Z\",\"2020-07-07T23:22:03.742948Z\",\"2020-07-08T06:38:25.56115Z\",\"2020-07-08T13:54:47.379352Z\",\"2020-07-08T21:11:09.197554Z\",\"2020-07-09T04:27:31.015756Z\",\"2020-07-09T11:43:52.833958Z\",\"2020-07-09T19:00:14.65216Z\",\"2020-07-10T02:16:36.470362Z\",\"2020-07-10T09:32:58.288564Z\",\"2020-07-10T16:49:20.106766Z\",\"2020-07-11T00:05:41.924968Z\",\"2020-07-11T07:22:03.74317Z\",\"2020-07-11T14:38:25.561372Z\",\"2020-07-11T21:54:47.379574Z\",\"2020-07-12T05:11:09.197776Z\",\"2020-07-12T12:27:31.015978Z\",\"2020-07-12T19:43:52.83418Z\",\"2020-07-13T03:00:14.652382Z\",\"2020-07-13T10:16:36.470584Z\",\"2020-07-13T17:32:58.288786Z\",\"2020-07-14T00:49:20.106988Z\",\"2020-07-14T08:05:41.92519Z\",\"2020-07-14T15:22:03.743392Z\",\"2020-07-14T22:38:25.561594Z\",\"2020-07-15T05:54:47.379796Z\",\"2020-07-15T13:11:09.197998Z\"],\"y\":[1.0,1.0,1.0,1.0,1.0,1.0,1.0,1.0,0.0,0.0,0.0,0.0,0.0,0.0,0.0,0.0,0.0,1.0,1.0,1.0,1.0,1.0,1.0,1.0,1.0,1.0,1.0,1.0,1.0,1.0,1.0,1.0,1.0,1.0,1.0,1.0,1.0,1.0,1.0,1.0,1.0,0.0,0.0,0.0,0.0,0.0,0.0,0.0,0.0,0.0,1.0,1.0,1.0,1.0,1.0,1.0,1.0,1.0,1.0,1.0,1.0,1.0,1.0,1.0,1.0,1.0,1.0,1.0,1.0,1.0,1.0,1.0,1.0,1.0,0.0,0.0,0.0,0.0,0.0,0.0,0.0,0.0,0.0,1.0,1.0,1.0,1.0,1.0,1.0,1.0,1.0,1.0,1.0,1.0,1.0,1.0,1.0,1.0,1.0,1.0],\"name\":\"Antifoam Inj Pump B_PI\"},{\"type\":\"scatter\",\"x\":[\"2020-06-15T13:11:09.196Z\",\"2020-06-15T20:27:31.014202Z\",\"2020-06-16T03:43:52.832404Z\",\"2020-06-16T11:00:14.650606Z\",\"2020-06-16T18:16:36.468808Z\",\"2020-06-17T01:32:58.28701Z\",\"2020-06-17T08:49:20.105212Z\",\"2020-06-17T16:05:41.923414Z\",\"2020-06-17T23:22:03.741616Z\",\"2020-06-18T06:38:25.559818Z\",\"2020-06-18T13:54:47.37802Z\",\"2020-06-18T21:11:09.196222Z\",\"2020-06-19T04:27:31.014424Z\",\"2020-06-19T11:43:52.832626Z\",\"2020-06-19T19:00:14.650828Z\",\"2020-06-20T02:16:36.46903Z\",\"2020-06-20T09:32:58.287232Z\",\"2020-06-20T16:49:20.105434Z\",\"2020-06-21T00:05:41.923636Z\",\"2020-06-21T07:22:03.741838Z\",\"2020-06-21T14:38:25.56004Z\",\"2020-06-21T21:54:47.378242Z\",\"2020-06-22T05:11:09.196444Z\",\"2020-06-22T12:27:31.014646Z\",\"2020-06-22T19:43:52.832848Z\",\"2020-06-23T03:00:14.65105Z\",\"2020-06-23T10:16:36.469252Z\",\"2020-06-23T17:32:58.287454Z\",\"2020-06-24T00:49:20.105656Z\",\"2020-06-24T08:05:41.923858Z\",\"2020-06-24T15:22:03.74206Z\",\"2020-06-24T22:38:25.560262Z\",\"2020-06-25T05:54:47.378464Z\",\"2020-06-25T13:11:09.196666Z\",\"2020-06-25T20:27:31.014868Z\",\"2020-06-26T03:43:52.83307Z\",\"2020-06-26T11:00:14.651272Z\",\"2020-06-26T18:16:36.469474Z\",\"2020-06-27T01:32:58.287676Z\",\"2020-06-27T08:49:20.105878Z\",\"2020-06-27T16:05:41.92408Z\",\"2020-06-27T23:22:03.742282Z\",\"2020-06-28T06:38:25.560484Z\",\"2020-06-28T13:54:47.378686Z\",\"2020-06-28T21:11:09.196888Z\",\"2020-06-29T04:27:31.01509Z\",\"2020-06-29T11:43:52.833292Z\",\"2020-06-29T19:00:14.651494Z\",\"2020-06-30T02:16:36.469696Z\",\"2020-06-30T09:32:58.287898Z\",\"2020-06-30T16:49:20.1061Z\",\"2020-07-01T00:05:41.924302Z\",\"2020-07-01T07:22:03.742504Z\",\"2020-07-01T14:38:25.560706Z\",\"2020-07-01T21:54:47.378908Z\",\"2020-07-02T05:11:09.19711Z\",\"2020-07-02T12:27:31.015312Z\",\"2020-07-02T19:43:52.833514Z\",\"2020-07-03T03:00:14.651716Z\",\"2020-07-03T10:16:36.469918Z\",\"2020-07-03T17:32:58.28812Z\",\"2020-07-04T00:49:20.106322Z\",\"2020-07-04T08:05:41.924524Z\",\"2020-07-04T15:22:03.742726Z\",\"2020-07-04T22:38:25.560928Z\",\"2020-07-05T05:54:47.37913Z\",\"2020-07-05T13:11:09.197332Z\",\"2020-07-05T20:27:31.015534Z\",\"2020-07-06T03:43:52.833736Z\",\"2020-07-06T11:00:14.651938Z\",\"2020-07-06T18:16:36.47014Z\",\"2020-07-07T01:32:58.288342Z\",\"2020-07-07T08:49:20.106544Z\",\"2020-07-07T16:05:41.924746Z\",\"2020-07-07T23:22:03.742948Z\",\"2020-07-08T06:38:25.56115Z\",\"2020-07-08T13:54:47.379352Z\",\"2020-07-08T21:11:09.197554Z\",\"2020-07-09T04:27:31.015756Z\",\"2020-07-09T11:43:52.833958Z\",\"2020-07-09T19:00:14.65216Z\",\"2020-07-10T02:16:36.470362Z\",\"2020-07-10T09:32:58.288564Z\",\"2020-07-10T16:49:20.106766Z\",\"2020-07-11T00:05:41.924968Z\",\"2020-07-11T07:22:03.74317Z\",\"2020-07-11T14:38:25.561372Z\",\"2020-07-11T21:54:47.379574Z\",\"2020-07-12T05:11:09.197776Z\",\"2020-07-12T12:27:31.015978Z\",\"2020-07-12T19:43:52.83418Z\",\"2020-07-13T03:00:14.652382Z\",\"2020-07-13T10:16:36.470584Z\",\"2020-07-13T17:32:58.288786Z\",\"2020-07-14T00:49:20.106988Z\",\"2020-07-14T08:05:41.92519Z\",\"2020-07-14T15:22:03.743392Z\",\"2020-07-14T22:38:25.561594Z\",\"2020-07-15T05:54:47.379796Z\",\"2020-07-15T13:11:09.197998Z\"],\"y\":[0.4577619528252535,0.4487617829629252,0.435229306260553,0.22943908401669078,0.17824643064158707,0.15665066001730382,0.14087950290959886,0.13347144086896182,0.12162547341663645,0.11387311741376069,0.9880051579490339,0.8525661085720158,0.7514218903554853,0.7008017183493982,0.6490633442179142,0.5964885324930446,0.5623257474601411,0.003351555830667788,0.003351555830667788,0.003351555830667788,0.003351555830667788,0.003351555830667788,0.0031596331076775923,0.00011436760202629444,0.0,0.0,0.0048211155845801,0.5750896642821267,0.5430473659417531,0.5174360547421567,0.49096498497306307,0.4713888791972166,0.464891475402636,0.45269591858210634,0.44622698453393284,0.3017285386647294,0.20300087957564628,0.1693125129668961,0.14992757844850402,0.13709210972684138,0.12955939251488618,0.11749117319418287,0.6728202097457916,0.9632189646598364,0.7958364517626658,0.7304765813033983,0.6784132855200448,0.6275542351415869,0.5824824386191729,0.5471095195247845,0.003351555830667788,0.003351555830667788,0.003351555830667788,0.003351555830667788,0.003351555830667788,0.0019215236853229636,0.0,0.0,0.0012062050220821058,0.4666803621292718,0.5598833120092899,0.5329045516917504,0.5059694565201425,0.48209326492376187,0.468852904157132,0.45992840040943644,0.44984573396001787,0.43921812957705314,0.24514825016838412,0.1849749984723966,0.16037845955750973,0.14358969206161462,0.13455601518462548,0.12400197935965761,0.11495686063799432,1.0,0.9002869185947779,0.7645475250764563,0.7105557444968761,0.65784113672563,0.6039130475289419,0.5684764132752427,0.531837403980846,0.003351555830667788,0.003351555830667788,0.003351555830667788,0.003351555830667788,0.003351555830667788,0.0006557505574548266,0.0,0.0,0.003738323554750653,0.5815923314003926,0.5473846243401236,0.5223395964057492,0.4948650380064249,0.47322139461289126,0.4663168543324167,0.45486229836068903,0.4473109355310239],\"name\":\"Anti-Scalent Pump A_PI\"},{\"type\":\"scatter\",\"x\":[\"2020-06-15T13:11:09.196Z\",\"2020-06-15T20:27:31.014202Z\",\"2020-06-16T03:43:52.832404Z\",\"2020-06-16T11:00:14.650606Z\",\"2020-06-16T18:16:36.468808Z\",\"2020-06-17T01:32:58.28701Z\",\"2020-06-17T08:49:20.105212Z\",\"2020-06-17T16:05:41.923414Z\",\"2020-06-17T23:22:03.741616Z\",\"2020-06-18T06:38:25.559818Z\",\"2020-06-18T13:54:47.37802Z\",\"2020-06-18T21:11:09.196222Z\",\"2020-06-19T04:27:31.014424Z\",\"2020-06-19T11:43:52.832626Z\",\"2020-06-19T19:00:14.650828Z\",\"2020-06-20T02:16:36.46903Z\",\"2020-06-20T09:32:58.287232Z\",\"2020-06-20T16:49:20.105434Z\",\"2020-06-21T00:05:41.923636Z\",\"2020-06-21T07:22:03.741838Z\",\"2020-06-21T14:38:25.56004Z\",\"2020-06-21T21:54:47.378242Z\",\"2020-06-22T05:11:09.196444Z\",\"2020-06-22T12:27:31.014646Z\",\"2020-06-22T19:43:52.832848Z\",\"2020-06-23T03:00:14.65105Z\",\"2020-06-23T10:16:36.469252Z\",\"2020-06-23T17:32:58.287454Z\",\"2020-06-24T00:49:20.105656Z\",\"2020-06-24T08:05:41.923858Z\",\"2020-06-24T15:22:03.74206Z\",\"2020-06-24T22:38:25.560262Z\",\"2020-06-25T05:54:47.378464Z\",\"2020-06-25T13:11:09.196666Z\",\"2020-06-25T20:27:31.014868Z\",\"2020-06-26T03:43:52.83307Z\",\"2020-06-26T11:00:14.651272Z\",\"2020-06-26T18:16:36.469474Z\",\"2020-06-27T01:32:58.287676Z\",\"2020-06-27T08:49:20.105878Z\",\"2020-06-27T16:05:41.92408Z\",\"2020-06-27T23:22:03.742282Z\",\"2020-06-28T06:38:25.560484Z\",\"2020-06-28T13:54:47.378686Z\",\"2020-06-28T21:11:09.196888Z\",\"2020-06-29T04:27:31.01509Z\",\"2020-06-29T11:43:52.833292Z\",\"2020-06-29T19:00:14.651494Z\",\"2020-06-30T02:16:36.469696Z\",\"2020-06-30T09:32:58.287898Z\",\"2020-06-30T16:49:20.1061Z\",\"2020-07-01T00:05:41.924302Z\",\"2020-07-01T07:22:03.742504Z\",\"2020-07-01T14:38:25.560706Z\",\"2020-07-01T21:54:47.378908Z\",\"2020-07-02T05:11:09.19711Z\",\"2020-07-02T12:27:31.015312Z\",\"2020-07-02T19:43:52.833514Z\",\"2020-07-03T03:00:14.651716Z\",\"2020-07-03T10:16:36.469918Z\",\"2020-07-03T17:32:58.28812Z\",\"2020-07-04T00:49:20.106322Z\",\"2020-07-04T08:05:41.924524Z\",\"2020-07-04T15:22:03.742726Z\",\"2020-07-04T22:38:25.560928Z\",\"2020-07-05T05:54:47.37913Z\",\"2020-07-05T13:11:09.197332Z\",\"2020-07-05T20:27:31.015534Z\",\"2020-07-06T03:43:52.833736Z\",\"2020-07-06T11:00:14.651938Z\",\"2020-07-06T18:16:36.47014Z\",\"2020-07-07T01:32:58.288342Z\",\"2020-07-07T08:49:20.106544Z\",\"2020-07-07T16:05:41.924746Z\",\"2020-07-07T23:22:03.742948Z\",\"2020-07-08T06:38:25.56115Z\",\"2020-07-08T13:54:47.379352Z\",\"2020-07-08T21:11:09.197554Z\",\"2020-07-09T04:27:31.015756Z\",\"2020-07-09T11:43:52.833958Z\",\"2020-07-09T19:00:14.65216Z\",\"2020-07-10T02:16:36.470362Z\",\"2020-07-10T09:32:58.288564Z\",\"2020-07-10T16:49:20.106766Z\",\"2020-07-11T00:05:41.924968Z\",\"2020-07-11T07:22:03.74317Z\",\"2020-07-11T14:38:25.561372Z\",\"2020-07-11T21:54:47.379574Z\",\"2020-07-12T05:11:09.197776Z\",\"2020-07-12T12:27:31.015978Z\",\"2020-07-12T19:43:52.83418Z\",\"2020-07-13T03:00:14.652382Z\",\"2020-07-13T10:16:36.470584Z\",\"2020-07-13T17:32:58.288786Z\",\"2020-07-14T00:49:20.106988Z\",\"2020-07-14T08:05:41.92519Z\",\"2020-07-14T15:22:03.743392Z\",\"2020-07-14T22:38:25.561594Z\",\"2020-07-15T05:54:47.379796Z\",\"2020-07-15T13:11:09.197998Z\"],\"y\":[0.3918789289724203,0.6208959569856808,0.7968244995433043,0.8575309513506624,0.983023417118646,0.687868978366462,0.8839083033334636,0.3573425170655751,0.7629419638235955,0.5797889330641847,0.6667102220528484,1.0,0.9436232337696903,0.5497473315581288,0.3342650846590039,0.6325279025187021,0.5194679845316506,0.35660416512938886,0.3793713332973869,0.3844103539296922,0.4210399131889771,0.4435971019379499,0.4447328002155977,0.4712739526382969,0.4538341834083938,0.3801849687564445,0.00026105389479207927,0.2571073822948464,0.2833366456444238,0.25082041617281653,0.29506642386710297,0.3351032694759238,0.33544155048978186,0.4792041729467065,0.6313116077413431,0.5909552396969499,0.9265601019892419,0.5754581978416576,0.913664655664701,0.7409263606018737,0.3675652115547475,0.5138888452333109,0.6125982186426,0.8588434009406031,0.8048573611664094,0.5671397727894932,0.5125344797615481,0.7495370745457832,0.921989326806611,0.7361179814748843,0.35795692669261997,0.4010652963916871,0.3881522494367064,0.43040879618888234,0.4437201356105475,0.4770765496535641,0.46455571153616,0.3747038424552965,0.37091174335562643,0.21959850918146054,0.2730992730281784,0.2812752806573117,0.26819104049361164,0.30371636486392783,0.34536518120290566,0.3558656133086301,0.5382138008622507,0.6899005682695242,0.6849390306883848,0.7294621306697427,0.8031020040531575,0.885180639295049,0.4204085840906082,0.513997245134643,0.3216918763219579,0.6305003847787606,0.7335702116514223,0.6613681451026618,0.5140335551704117,0.8601281074386792,0.5703844458258244,0.4848826331902908,0.31305650614776726,0.3682936882845793,0.3918443645734731,0.41680593843477287,0.43929085796577655,0.4391109894650428,0.4735878132302493,0.4693719858294527,0.38504984997052083,0.0,0.252573720569362,0.28117568423255396,0.2675969425342104,0.2797887279264737,0.32795484565684635,0.3331321553121118,0.4519959654240019,0.6244633978294815],\"name\":\"Anti-Scalent Pump B_PI\"}];\n",
       "            var layout = \"\";\n",
       "            Plotly.newPlot('e26b2440-64f6-48fa-aad0-3602158f1f0c', data, layout);\n",
       "        \n",
       "});\r\n",
       "};\r\n",
       "if ((typeof(requirejs) !==  typeof(Function)) || (typeof(requirejs.config) !== typeof(Function))) { \r\n",
       "    var script = document.createElement(\"script\"); \r\n",
       "    script.setAttribute(\"src\", \"https://cdnjs.cloudflare.com/ajax/libs/require.js/2.3.6/require.min.js\"); \r\n",
       "    script.onload = function(){\r\n",
       "        renderPlotly();\r\n",
       "    };\r\n",
       "    document.getElementsByTagName(\"head\")[0].appendChild(script); \r\n",
       "}\r\n",
       "else {\r\n",
       "    renderPlotly();\r\n",
       "}\n",
       "</script>\n"
      ]
     },
     "metadata": {},
     "output_type": "display_data"
    }
   ],
   "source": [
    "var tagSeries = new List<Graph.Scatter>();\n",
    "\n",
    "foreach (var tag in tags) {\n",
    "    \n",
    "    var data = dataResp[dsn][tag].Values.Select(x => x.NumericValue);\n",
    "    \n",
    "    var min = data.Min();\n",
    "    \n",
    "    var max = data.Max() - min;\n",
    "    \n",
    "    var series = new Graph.Scatter\n",
    "    {\n",
    "        name = tag,\n",
    "        x = dataResp[dsn][tag].Values.Select(x => x.UtcSampleTime),\n",
    "        y = data.Select(x => (x - min)/max) //normalise the data into the range 0-1\n",
    "    };\n",
    "    \n",
    "    tagSeries.Add(series);\n",
    "}\n",
    "\n",
    "var chart = Chart.Plot(tagSeries);\n",
    "display(chart);"
   ]
  },
  {
   "cell_type": "code",
   "execution_count": 18,
   "metadata": {},
   "outputs": [
    {
     "data": {
      "text/html": [
       "<div id=\"683325e0-c389-497f-b108-a7f7d73abca0\" style=\"width: 900px; height: 500px;\"></div>\r\n",
       "<script type=\"text/javascript\">\n",
       "\r\n",
       "var renderPlotly = function() {\r\n",
       "    var xplotRequire = requirejs.config({context:'xplot-3.0.1',paths:{plotly:'https://cdn.plot.ly/plotly-1.49.2.min'}});\r\n",
       "    xplotRequire(['plotly'], function(Plotly) {\n",
       "\n",
       "            var data = [{\"type\":\"scatter\",\"x\":[3.85851814306431,3.80279133007972,3.71900160055829,2.44479973498659,2.1278275595213,1.99411191978934,1.8964608380725,1.85059196068111,1.77724467691479,1.72924401695275,7.14165217056347,6.30304726744543,5.67678742799313,5.36335991475937,5.04300877211926,4.71747861596575,4.50595114907538,1.044922,1.044922,1.044922,1.044922,1.044922,1.04373366224025,1.02487813574267,1.02417,1.02417,1.05402114844149,4.58498214699764,4.38658420623383,4.22800533813002,4.06410305882985,3.94289268144538,3.90266237338625,3.82715051921278,3.78709648874152,2.89239805607951,2.28110094962241,2.07251096360225,1.95248427108986,1.87301024160342,1.82636953039935,1.75164611834945,5.19010537391935,6.98818222731179,5.95179134405147,5.54709928451312,5.22473630782928,4.90982971913508,4.63075636673123,4.41173605075443,1.044922,1.044922,1.044922,1.044922,1.044922,1.03606759667822,1.02417,1.02417,1.0316385214518,3.91373871500988,4.49082819632243,4.32378242343491,4.15700701426924,4.00917157513548,3.92719055482398,3.87193224759916,3.80950288501962,3.74369940230952,2.54206698412413,2.16948917779043,2.01719352724773,1.91324165513901,1.85730737505455,1.7919594105553,1.73595428541479,7.21592124881184,6.59852265249818,5.75805809316815,5.42375441833896,5.09735867984072,4.76344936621109,4.54403454181706,4.31717491026325,1.044922,1.044922,1.044922,1.044922,1.044922,1.02823024433303,1.02417,1.02417,1.04731676953859,4.62524504424777,4.41343943133836,4.25836684834917,4.0882512170696,3.95423916105885,3.91148796515475,3.84056420391222,3.79380804368141],\"y\":[3.37712022567099,5.19275911063418,6.58751436361051,7.06879296296078,8.06369278589041,5.72371885156391,7.27791167503996,3.10331677555573,6.31889482074274,4.86686408123637,5.55597298107679,8.19828253356368,7.7513295280854,4.62869532874603,2.9203597089744,5.28497676274826,4.38864173819212,3.0974631475624,3.2779604502517,3.31790962731296,3.60830747548681,3.78714006878078,3.79614384449288,4.0065611606568,3.86829928802101,3.28441092334737,0.272387585456881,2.30865617800958,2.51660084865073,2.25881333331533,2.60959411486261,2.92700480850952,2.92968668840349,4.06943166632697,5.27533402084165,4.95539016464488,7.61605362380618,4.83253016581221,7.51381898217754,6.14435589832268,3.18436193531811,4.34441051948071,5.12697493500478,7.07919801681517,6.65119860598743,4.76658198668604,4.33367315800014,6.21262133342802,7.57981668008194,6.10623523894489,3.10818779331295,3.44994942113594,3.34757524233269,3.68258364800929,3.78811547537856,4.05256394423183,3.95329918319855,3.2409567482055,3.2108931208817,2.01128716075087,2.4354393212169,2.50025842005854,2.39652702756123,2.67817054065381,3.00836088114395,3.09160793489126,4.53725790597439,5.73982522434456,5.70049033016804,6.05346788955099,6.63728219697861,7.28799870946981,3.60330232076032,4.34526991005831,2.82067975869506,5.26890267393257,6.08603661004143,5.5136211842634,4.34555777473557,7.08938312442008,4.79230563957273,4.11445029797375,2.75221884986952,3.1901372730253,3.37684620034061,3.57474067362769,3.7530003191218,3.75157432801998,4.02490536545929,3.9914824351751,3.32297952926995,0.270317959427029,2.27271346845882,2.49946882313135,2.39181703998553,2.48847308267087,2.87033235771096,2.91137788524724,3.85372596096121,5.22104165526416],\"mode\":\"markers\"}];\n",
       "            var layout = {\"title\":\"Anti-Scalent Pump A_PI vs Anti-Scalent Pump B_PI\"};\n",
       "            Plotly.newPlot('683325e0-c389-497f-b108-a7f7d73abca0', data, layout);\n",
       "        \n",
       "});\r\n",
       "};\r\n",
       "if ((typeof(requirejs) !==  typeof(Function)) || (typeof(requirejs.config) !== typeof(Function))) { \r\n",
       "    var script = document.createElement(\"script\"); \r\n",
       "    script.setAttribute(\"src\", \"https://cdnjs.cloudflare.com/ajax/libs/require.js/2.3.6/require.min.js\"); \r\n",
       "    script.onload = function(){\r\n",
       "        renderPlotly();\r\n",
       "    };\r\n",
       "    document.getElementsByTagName(\"head\")[0].appendChild(script); \r\n",
       "}\r\n",
       "else {\r\n",
       "    renderPlotly();\r\n",
       "}\n",
       "</script>\n"
      ]
     },
     "metadata": {},
     "output_type": "display_data"
    }
   ],
   "source": [
    "var openSeries = new Graph.Scatter\n",
    "{\n",
    "    mode = \"markers\",\n",
    "    x = dataResp[dsn][\"Anti-Scalent Pump A_PI\"].Values.Select(x => x.NumericValue),\n",
    "    y = dataResp[dsn][\"Anti-Scalent Pump B_PI\"].Values.Select(x => x.NumericValue)\n",
    "};\n",
    "\n",
    "\n",
    "var chart = Chart.Plot(new[] {openSeries});\n",
    "chart.WithTitle(\"Anti-Scalent Pump A_PI vs Anti-Scalent Pump B_PI\");\n",
    "display(chart);"
   ]
  },
  {
   "cell_type": "code",
   "execution_count": null,
   "metadata": {},
   "outputs": [],
   "source": []
  },
  {
   "cell_type": "code",
   "execution_count": null,
   "metadata": {},
   "outputs": [],
   "source": []
  }
 ],
 "metadata": {
  "kernelspec": {
   "display_name": ".NET (C#)",
   "language": "C#",
   "name": ".net-csharp"
  },
  "language_info": {
   "file_extension": ".cs",
   "mimetype": "text/x-csharp",
   "name": "C#",
   "pygments_lexer": "csharp",
   "version": "8.0"
  }
 },
 "nbformat": 4,
 "nbformat_minor": 4
}
