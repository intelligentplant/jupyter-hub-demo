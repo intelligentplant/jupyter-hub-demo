{
 "cells": [
  {
   "cell_type": "markdown",
   "metadata": {},
   "source": [
    "# Installing Packages"
   ]
  },
  {
   "cell_type": "markdown",
   "metadata": {},
   "source": [
    "## Using the Default Environments\n",
    "\n",
    "The Jupyter Lab is pre-configured with Python and R environments with many of the packages you will need to do various data science operations.\n",
    "\n",
    "It is possible to install more packages for anything that isn't included by default by using `pip` and `install.packages(..)`. However packages installed into the default environment will be lost when your server restarts, to keep them create a conda enivornment by following the instuctions below.\n",
    "\n",
    "In a Python notebook install packages using:"
   ]
  },
  {
   "cell_type": "code",
   "execution_count": null,
   "metadata": {},
   "outputs": [],
   "source": [
    "%pip install intelligent_plant"
   ]
  },
  {
   "cell_type": "markdown",
   "metadata": {},
   "source": [
    "In R you install packages using `install.packages(..)` or `install_github(..)`\n",
    "\n",
    "Note: this is a Python notebook so these commands won't work, you can test them by changing the notbook to use the R kernel in the top right"
   ]
  },
  {
   "cell_type": "code",
   "execution_count": null,
   "metadata": {},
   "outputs": [],
   "source": [
    "install.packages(\"plot3D\")"
   ]
  },
  {
   "cell_type": "code",
   "execution_count": null,
   "metadata": {},
   "outputs": [],
   "source": [
    "devtools::install_github(\"intelligentplant/AppStore-R-Client\")"
   ]
  },
  {
   "cell_type": "markdown",
   "metadata": {},
   "source": [
    "## Conda Virtual Environments\n",
    "\n",
    "Virtual environments are a utility tool for managing packages. Each environment has a seperaret set of installed packages, this allows you to organise packages between different projects more easily. It is especially useful when 2 project reuqire 2 different versions of the same package.\n",
    "\n",
    "You can use conda to manage virtual environments."
   ]
  },
  {
   "cell_type": "markdown",
   "metadata": {},
   "source": [
    "### Creating Virtual Environments\n",
    "\n",
    "Open a terminal by clicking the '+' at the top left and selecting \"Terminal\" from \"Other\" in the launcher.\n",
    "\n",
    "To create a new Python virtual environment called \"example\" run this command from a terminal:"
   ]
  },
  {
   "cell_type": "markdown",
   "metadata": {},
   "source": [
    "`conda create ipykernel -n example`"
   ]
  },
  {
   "cell_type": "markdown",
   "metadata": {},
   "source": [
    "To create a new R environment use:\n",
    "\n",
    "`conda create r-irkernel r-devtools -n example`"
   ]
  },
  {
   "cell_type": "markdown",
   "metadata": {},
   "source": [
    "You newly created environment will now be available from the launcher ('+' at top left) or from the list of kernels in an existing notebook (top right next to the circle)"
   ]
  },
  {
   "cell_type": "markdown",
   "metadata": {},
   "source": [
    "These environments will have no packages installed so you will need to install the Intelligent Plant client.\n",
    "\n",
    "In Python:"
   ]
  },
  {
   "cell_type": "code",
   "execution_count": null,
   "metadata": {},
   "outputs": [],
   "source": [
    "%pip install intelligent_plant"
   ]
  },
  {
   "cell_type": "markdown",
   "metadata": {},
   "source": [
    "In R:"
   ]
  },
  {
   "cell_type": "code",
   "execution_count": null,
   "metadata": {},
   "outputs": [],
   "source": [
    "devtools::install_github(\"intelligentplant/AppStore-R-Client\")"
   ]
  },
  {
   "cell_type": "markdown",
   "metadata": {},
   "source": [
    "Packages can also be installed by using conda directly:\n",
    "\n",
    "Activate the environment in the terminal:\n",
    "`conda activate <environment name>`\n",
    "\n",
    "Install packages (or run other commands):\n",
    "`conda install <package>`\n",
    "\n",
    "Deactivate environment:\n",
    "`conda deactivate`"
   ]
  },
  {
   "cell_type": "markdown",
   "metadata": {},
   "source": [
    "### Extending the default environment\n",
    "\n",
    "If you want to extend the default environment and add packages to it you can do so by running:\n",
    "\n",
    "`conda create --clone root -n example-2`\n",
    "\n",
    "This virtual environment will have all of the packages that are installed by default and any new packages you install will be saved between server restarts."
   ]
  },
  {
   "cell_type": "markdown",
   "metadata": {},
   "source": [
    "### Using Virtual Environments\n",
    "\n",
    "Now when you create a notebook you have the option to select a conda environment you have created.\n",
    "\n",
    "You can change an existing notebook to the new \"example\" environment by selecting \"Python [conda env:example]\" at the top right (where it says Python 3)."
   ]
  },
  {
   "cell_type": "markdown",
   "metadata": {},
   "source": [
    "We can install new packages into this environment without effecting the other environments\n",
    "\n",
    "Packages can be installed using `conda`, `pip` or `install.packages(..)`"
   ]
  },
  {
   "cell_type": "markdown",
   "metadata": {},
   "source": [
    "### Deleting Virtual Environments"
   ]
  },
  {
   "cell_type": "markdown",
   "metadata": {},
   "source": [
    "`conda env remove -n example`"
   ]
  },
  {
   "cell_type": "markdown",
   "metadata": {},
   "source": [
    "For more information on conda and how to use it consult the conda user guide:\n",
    "\n",
    "https://docs.conda.io/projects/conda/en/latest/user-guide/"
   ]
  },
  {
   "cell_type": "code",
   "execution_count": null,
   "metadata": {},
   "outputs": [],
   "source": []
  }
 ],
 "metadata": {
  "kernelspec": {
   "display_name": "Python 3",
   "language": "python",
   "name": "python3"
  },
  "language_info": {
   "codemirror_mode": {
    "name": "ipython",
    "version": 3
   },
   "file_extension": ".py",
   "mimetype": "text/x-python",
   "name": "python",
   "nbconvert_exporter": "python",
   "pygments_lexer": "ipython3",
   "version": "3.7.3"
  }
 },
 "nbformat": 4,
 "nbformat_minor": 4
}
