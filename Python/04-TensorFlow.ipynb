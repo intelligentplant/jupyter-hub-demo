{
 "cells": [
  {
   "cell_type": "markdown",
   "metadata": {},
   "source": [
    "# Tensor Flow Example"
   ]
  },
  {
   "cell_type": "markdown",
   "metadata": {},
   "source": [
    "Import and setup the Intelligent Plant clients"
   ]
  },
  {
   "cell_type": "code",
   "execution_count": 1,
   "metadata": {},
   "outputs": [],
   "source": [
    "import intelligent_plant.app_store_client as app_store_client\n",
    "import os\n",
    "app_store = app_store_client.AppStoreClient(os.environ[\"ACCESS_TOKEN\"])\n",
    "data_core = app_store.get_data_core_client()"
   ]
  },
  {
   "cell_type": "code",
   "execution_count": 2,
   "metadata": {},
   "outputs": [],
   "source": [
    "import intelligent_plant.utility as utility\n",
    "import matplotlib.pyplot as plt\n",
    "from pandas import DataFrame\n",
    "import seaborn as sns"
   ]
  },
  {
   "cell_type": "markdown",
   "metadata": {},
   "source": [
    "Import Tensorflow and the keras API"
   ]
  },
  {
   "cell_type": "code",
   "execution_count": 3,
   "metadata": {},
   "outputs": [],
   "source": [
    "import tensorflow as tf\n",
    "from tensorflow import keras\n",
    "from tensorflow.keras import layers"
   ]
  },
  {
   "cell_type": "markdown",
   "metadata": {},
   "source": [
    "Look up the fully qualified names of authorised data sources.\n",
    "\n",
    "Check that 'IP Datasource 2' appears in this list for you."
   ]
  },
  {
   "cell_type": "code",
   "execution_count": 4,
   "metadata": {},
   "outputs": [
    {
     "data": {
      "text/plain": [
       "['IP Datasource', 'IP Datasource 2', 'Vibration']"
      ]
     },
     "execution_count": 4,
     "metadata": {},
     "output_type": "execute_result"
    }
   ],
   "source": [
    "list(map(lambda x: x['Name']['QualifiedName'], data_core.get_data_sources([\"*\"])))"
   ]
  },
  {
   "cell_type": "markdown",
   "metadata": {},
   "source": [
    "We can use the data core client to query IP Datasource\n",
    "\n",
    "This code will page through every tag on the datasource and add it to a list. Note: on a real data source this would be a very expensive operation and is not advised. A much better approach would be to only query tags relevant to the problem you are trying to solve.\n",
    "\n",
    "For each of the tags in the demo data source (~100) query for data at 10 minute intervals for the past 30 days. This will form our training and testing data."
   ]
  },
  {
   "cell_type": "code",
   "execution_count": 5,
   "metadata": {},
   "outputs": [],
   "source": [
    "dsn = \"IP Datasource 2\"\n",
    "tags = []\n",
    "\n",
    "page_size = 50\n",
    "page_num = 1\n",
    "while True:\n",
    "    page = data_core.get_tags(dsn, page_num, page_size)\n",
    "    \n",
    "    #append the page just fetched into the list of all tags\n",
    "    tags += page\n",
    "    \n",
    "    page_num += 1\n",
    "    \n",
    "    #if a page is shorter than the page size requested it is the last page\n",
    "    if (len(page) < page_size):\n",
    "        break\n",
    "\n",
    "#map tages meta data to only be tag name and filter out the \"TIME\" tag\n",
    "tag_names = list(filter(lambda x: x != \"TIME\", map(lambda x: x[\"Id\"], tags)))\n",
    "all_data = data_core.get_processed_data({dsn: tag_names}, '*-30d', '*', '10m', 'interp')"
   ]
  },
  {
   "cell_type": "markdown",
   "metadata": {},
   "source": [
    "We can convert the result data to a data frame"
   ]
  },
  {
   "cell_type": "code",
   "execution_count": 6,
   "metadata": {},
   "outputs": [],
   "source": [
    "df = utility.query_result_to_data_frame(all_data)"
   ]
  },
  {
   "cell_type": "markdown",
   "metadata": {},
   "source": [
    "Remove the timestamp column"
   ]
  },
  {
   "cell_type": "code",
   "execution_count": 7,
   "metadata": {},
   "outputs": [],
   "source": [
    "del df['TimeStamp']"
   ]
  },
  {
   "cell_type": "markdown",
   "metadata": {},
   "source": [
    "Pick a tag as output from the tag list to test against"
   ]
  },
  {
   "cell_type": "code",
   "execution_count": 8,
   "metadata": {},
   "outputs": [
    {
     "data": {
      "text/plain": [
       "Index(['T2 MPGC 2nd Stg Suct Scrubber_PI', 'T1 MPGC 1st Stg Suct Scrubber_PI',\n",
       "       'CALC_Scaled_HP Flare Header Wet_PI', 'LP FG Header_PI',\n",
       "       'MeOH Surge Vessel_PI', 'Demulsifier L.P. Inj Pump B_PI',\n",
       "       'FG Filter B_PI', 'Corrosion Inhibitor HP Inj Pump B_PI',\n",
       "       'Biocide (Oil) Inj Pump A_PI', 'T2 MPGC 1st Stg_Disc_PI',\n",
       "       ...\n",
       "       'WI Pump B_Suct_PI', 'Polyelectrolyte_1 Inj Pump A_PI',\n",
       "       'SRP Feed Pump C_PI', 'LP Degasser_PI', 'PCM Drum_PI',\n",
       "       'Coagulant Inj Pump A_PI', 'Sand Hydrocyclone_PI', 'HP FG Scrubber_PI',\n",
       "       'Prod Riser Depress Heater_TS Out_PI',\n",
       "       'LP Flare KO Drum Pump C_Disc_PI'],\n",
       "      dtype='object', length=113)"
      ]
     },
     "execution_count": 8,
     "metadata": {},
     "output_type": "execute_result"
    }
   ],
   "source": [
    "df.columns"
   ]
  },
  {
   "cell_type": "code",
   "execution_count": 9,
   "metadata": {},
   "outputs": [],
   "source": [
    "tag_to_predict = 'LP Flare KO Drum Pump C_Disc_PI'"
   ]
  },
  {
   "cell_type": "markdown",
   "metadata": {},
   "source": [
    "Take a random sample as training data and the rest can be test data"
   ]
  },
  {
   "cell_type": "code",
   "execution_count": 10,
   "metadata": {},
   "outputs": [],
   "source": [
    "train_dataset = df.sample(frac=0.8,random_state=0)\n",
    "test_dataset = df.drop(train_dataset.index)"
   ]
  },
  {
   "cell_type": "markdown",
   "metadata": {},
   "source": [
    "Take the tag to predict column and seperate it out"
   ]
  },
  {
   "cell_type": "code",
   "execution_count": 11,
   "metadata": {},
   "outputs": [],
   "source": [
    "train_output = train_dataset.pop(tag_to_predict)\n",
    "test_output = test_dataset.pop(tag_to_predict)"
   ]
  },
  {
   "cell_type": "markdown",
   "metadata": {},
   "source": [
    "Get some descriptive information about the input data.\n",
    "\n",
    "We can use the mean and standrad deviation to normalise the data."
   ]
  },
  {
   "cell_type": "code",
   "execution_count": 12,
   "metadata": {},
   "outputs": [],
   "source": [
    "train_stats = train_dataset.describe()\n",
    "train_stats = train_stats.transpose()\n",
    "\n",
    "def norm(x):\n",
    "    return (x - train_stats['mean']) / train_stats['std']\n",
    "\n",
    "normed_train_data = norm(train_dataset)\n",
    "normed_test_data = norm(test_dataset)"
   ]
  },
  {
   "cell_type": "markdown",
   "metadata": {},
   "source": [
    "We can define a model using the Keras API. A sequential model is one where the output of each layer is sequentially fed into the input of the next.\n",
    "\n",
    "Here I have used a couple of dense neural network layers and the \"relu\" activation function. The last layer is not \"relu\" as the output should be between 0 and 1.\n",
    "\n",
    "This is just an example and may not be the best solution to this problem.\n",
    "\n",
    "Feel free to make a copy of this notebook and change the sizes, number and types of layers to see how that effects the results."
   ]
  },
  {
   "cell_type": "code",
   "execution_count": 13,
   "metadata": {},
   "outputs": [],
   "source": [
    "model = keras.models.Sequential([\n",
    "    layers.Dense(512, activation=tf.nn.relu, input_shape=[len(train_dataset.keys())]),\n",
    "    layers.Dense(64, activation=tf.nn.relu),\n",
    "    layers.Dense(1)\n",
    "], \"DemoNN\")"
   ]
  },
  {
   "cell_type": "markdown",
   "metadata": {},
   "source": [
    "Compiling the network get's it into a state where it's ready to be trained.\n",
    "\n",
    "Here we select the loss function, the optimzer algorithm and the metrics."
   ]
  },
  {
   "cell_type": "code",
   "execution_count": 14,
   "metadata": {},
   "outputs": [],
   "source": [
    "model.compile(loss='mean_absolute_error',\n",
    "                optimizer=\"adam\",\n",
    "                metrics=['mean_absolute_error', 'mean_squared_error'])"
   ]
  },
  {
   "cell_type": "markdown",
   "metadata": {},
   "source": [
    "Calling `model.summary()` outputs a table showing all the layers in the neural network"
   ]
  },
  {
   "cell_type": "code",
   "execution_count": 15,
   "metadata": {},
   "outputs": [
    {
     "name": "stdout",
     "output_type": "stream",
     "text": [
      "Model: \"DemoNN\"\n",
      "_________________________________________________________________\n",
      "Layer (type)                 Output Shape              Param #   \n",
      "=================================================================\n",
      "dense (Dense)                (None, 512)               57856     \n",
      "_________________________________________________________________\n",
      "dense_1 (Dense)              (None, 64)                32832     \n",
      "_________________________________________________________________\n",
      "dense_2 (Dense)              (None, 1)                 65        \n",
      "=================================================================\n",
      "Total params: 90,753\n",
      "Trainable params: 90,753\n",
      "Non-trainable params: 0\n",
      "_________________________________________________________________\n"
     ]
    }
   ],
   "source": [
    "model.summary()"
   ]
  },
  {
   "cell_type": "markdown",
   "metadata": {},
   "source": [
    "The `model.fit()` function can be used to train the neural network on the provided data.\n",
    "\n",
    "The `epochs` parameter defines how man iterations through the training set we will use and the `validation_split` parameter determines how much of the training data will be used for validation."
   ]
  },
  {
   "cell_type": "code",
   "execution_count": 16,
   "metadata": {},
   "outputs": [
    {
     "name": "stdout",
     "output_type": "stream",
     "text": [
      "WARNING:tensorflow:Falling back from v2 loop because of error: Failed to find data adapter that can handle input: <class 'pandas.core.frame.DataFrame'>, <class 'NoneType'>\n",
      "Train on 2765 samples, validate on 692 samples\n",
      "Epoch 1/20\n",
      "2765/2765 [==============================] - 0s 99us/sample - loss: 0.1482 - mean_absolute_error: 0.1482 - mean_squared_error: 0.0527 - val_loss: 0.0877 - val_mean_absolute_error: 0.0877 - val_mean_squared_error: 0.0141\n",
      "Epoch 2/20\n",
      "2765/2765 [==============================] - 0s 62us/sample - loss: 0.0641 - mean_absolute_error: 0.0641 - mean_squared_error: 0.0073 - val_loss: 0.0555 - val_mean_absolute_error: 0.0555 - val_mean_squared_error: 0.0067\n",
      "Epoch 3/20\n",
      "2765/2765 [==============================] - 0s 60us/sample - loss: 0.0413 - mean_absolute_error: 0.0413 - mean_squared_error: 0.0031 - val_loss: 0.0382 - val_mean_absolute_error: 0.0382 - val_mean_squared_error: 0.0024\n",
      "Epoch 4/20\n",
      "2765/2765 [==============================] - 0s 65us/sample - loss: 0.0356 - mean_absolute_error: 0.0356 - mean_squared_error: 0.0022 - val_loss: 0.0291 - val_mean_absolute_error: 0.0291 - val_mean_squared_error: 0.0019\n",
      "Epoch 5/20\n",
      "2765/2765 [==============================] - 0s 59us/sample - loss: 0.0312 - mean_absolute_error: 0.0312 - mean_squared_error: 0.0018 - val_loss: 0.0250 - val_mean_absolute_error: 0.0250 - val_mean_squared_error: 0.0011\n",
      "Epoch 6/20\n",
      "2765/2765 [==============================] - 0s 57us/sample - loss: 0.0253 - mean_absolute_error: 0.0253 - mean_squared_error: 0.0011 - val_loss: 0.0199 - val_mean_absolute_error: 0.0199 - val_mean_squared_error: 6.9653e-04\n",
      "Epoch 7/20\n",
      "2765/2765 [==============================] - 0s 57us/sample - loss: 0.0208 - mean_absolute_error: 0.0208 - mean_squared_error: 7.3436e-04 - val_loss: 0.0195 - val_mean_absolute_error: 0.0195 - val_mean_squared_error: 6.1488e-04\n",
      "Epoch 8/20\n",
      "2765/2765 [==============================] - 0s 56us/sample - loss: 0.0205 - mean_absolute_error: 0.0205 - mean_squared_error: 7.4990e-04 - val_loss: 0.0192 - val_mean_absolute_error: 0.0192 - val_mean_squared_error: 5.8309e-04\n",
      "Epoch 9/20\n",
      "2765/2765 [==============================] - 0s 58us/sample - loss: 0.0150 - mean_absolute_error: 0.0150 - mean_squared_error: 3.9078e-04 - val_loss: 0.0142 - val_mean_absolute_error: 0.0142 - val_mean_squared_error: 3.9062e-04\n",
      "Epoch 10/20\n",
      "2765/2765 [==============================] - 0s 61us/sample - loss: 0.0159 - mean_absolute_error: 0.0159 - mean_squared_error: 4.1691e-04 - val_loss: 0.0182 - val_mean_absolute_error: 0.0182 - val_mean_squared_error: 5.1107e-04\n",
      "Epoch 11/20\n",
      "2765/2765 [==============================] - 0s 77us/sample - loss: 0.0138 - mean_absolute_error: 0.0138 - mean_squared_error: 3.2531e-04 - val_loss: 0.0150 - val_mean_absolute_error: 0.0150 - val_mean_squared_error: 3.3965e-04\n",
      "Epoch 12/20\n",
      "2765/2765 [==============================] - 0s 95us/sample - loss: 0.0143 - mean_absolute_error: 0.0143 - mean_squared_error: 3.6181e-04 - val_loss: 0.0120 - val_mean_absolute_error: 0.0120 - val_mean_squared_error: 2.4016e-04\n",
      "Epoch 13/20\n",
      "2765/2765 [==============================] - 0s 68us/sample - loss: 0.0122 - mean_absolute_error: 0.0122 - mean_squared_error: 2.6088e-04 - val_loss: 0.0105 - val_mean_absolute_error: 0.0105 - val_mean_squared_error: 1.9475e-04\n",
      "Epoch 14/20\n",
      "2765/2765 [==============================] - 0s 65us/sample - loss: 0.0120 - mean_absolute_error: 0.0120 - mean_squared_error: 2.6127e-04 - val_loss: 0.0116 - val_mean_absolute_error: 0.0116 - val_mean_squared_error: 2.4387e-04\n",
      "Epoch 15/20\n",
      "2765/2765 [==============================] - 0s 58us/sample - loss: 0.0114 - mean_absolute_error: 0.0114 - mean_squared_error: 2.2161e-04 - val_loss: 0.0154 - val_mean_absolute_error: 0.0154 - val_mean_squared_error: 3.7598e-04\n",
      "Epoch 16/20\n",
      "2765/2765 [==============================] - 0s 57us/sample - loss: 0.0117 - mean_absolute_error: 0.0117 - mean_squared_error: 2.4112e-04 - val_loss: 0.0127 - val_mean_absolute_error: 0.0127 - val_mean_squared_error: 3.0901e-04\n",
      "Epoch 17/20\n",
      "2765/2765 [==============================] - 0s 57us/sample - loss: 0.0106 - mean_absolute_error: 0.0106 - mean_squared_error: 2.0996e-04 - val_loss: 0.0084 - val_mean_absolute_error: 0.0084 - val_mean_squared_error: 1.1439e-04\n",
      "Epoch 18/20\n",
      "2765/2765 [==============================] - 0s 56us/sample - loss: 0.0096 - mean_absolute_error: 0.0096 - mean_squared_error: 1.7131e-04 - val_loss: 0.0088 - val_mean_absolute_error: 0.0088 - val_mean_squared_error: 1.3529e-04\n",
      "Epoch 19/20\n",
      "2765/2765 [==============================] - 0s 55us/sample - loss: 0.0093 - mean_absolute_error: 0.0093 - mean_squared_error: 1.4988e-04 - val_loss: 0.0104 - val_mean_absolute_error: 0.0104 - val_mean_squared_error: 1.8524e-04\n",
      "Epoch 20/20\n",
      "2765/2765 [==============================] - 0s 59us/sample - loss: 0.0093 - mean_absolute_error: 0.0093 - mean_squared_error: 1.4724e-04 - val_loss: 0.0083 - val_mean_absolute_error: 0.0083 - val_mean_squared_error: 1.3530e-04\n"
     ]
    }
   ],
   "source": [
    "history = model.fit(normed_train_data, train_output, epochs=20, validation_split = 0.2)"
   ]
  },
  {
   "cell_type": "markdown",
   "metadata": {},
   "source": [
    "We can use the history object returned from the training step to visualise the training process."
   ]
  },
  {
   "cell_type": "code",
   "execution_count": 17,
   "metadata": {},
   "outputs": [
    {
     "data": {
      "image/png": "[encoded data removed]",
      "text/plain": [
       "<Figure size 432x288 with 1 Axes>"
      ]
     },
     "metadata": {
      "needs_background": "light"
     },
     "output_type": "display_data"
    },
    {
     "data": {
      "image/png": "[encoded data removed]",
      "text/plain": [
       "<Figure size 432x288 with 1 Axes>"
      ]
     },
     "metadata": {
      "needs_background": "light"
     },
     "output_type": "display_data"
    }
   ],
   "source": [
    "def plot_history(history):\n",
    "    hist = DataFrame(history.history)\n",
    "    hist['epoch'] = history.epoch\n",
    "\n",
    "    plt.figure()\n",
    "    plt.xlabel('Epoch')\n",
    "    plt.ylabel('Mean Abs Error [MPG]')\n",
    "    plt.plot(hist['epoch'], hist['mean_absolute_error'],\n",
    "           label='Train Error')\n",
    "    plt.plot(hist['epoch'], hist['val_mean_absolute_error'],\n",
    "           label = 'Val Error')\n",
    "    #plt.ylim([0,5])\n",
    "    plt.legend()\n",
    "\n",
    "    plt.figure()\n",
    "    plt.xlabel('Epoch')\n",
    "    plt.ylabel('Mean Square Error [$MPG^2$]')\n",
    "    plt.plot(hist['epoch'], hist['mean_squared_error'],\n",
    "           label='Train Error')\n",
    "    plt.plot(hist['epoch'], hist['val_mean_squared_error'],\n",
    "           label = 'Val Error')\n",
    "    #plt.ylim([0,20])\n",
    "    plt.legend()\n",
    "    plt.show()\n",
    "\n",
    "\n",
    "plot_history(history)\n"
   ]
  },
  {
   "cell_type": "markdown",
   "metadata": {},
   "source": [
    "Each of these graphs is similar but they are showing differnet metrics for the neural netoworks error.\n",
    "\n",
    "You can see that in both graphs the neural network initally shraply decreases in error and then levels off.\n",
    "\n",
    "If the validation error (orange) is much greater then the training error (blue) that indicates overfitting. The neural network is now only getting better at instances it's seen before and won't generalise well to unseen data."
   ]
  },
  {
   "cell_type": "markdown",
   "metadata": {},
   "source": [
    "The `model.evaluate(..)` function can be used to gernerate metrics about the performance of the neural net on the unseen test data.\n",
    "\n",
    "This is useful to tell if the neural net is generalising well."
   ]
  },
  {
   "cell_type": "code",
   "execution_count": 18,
   "metadata": {},
   "outputs": [
    {
     "name": "stdout",
     "output_type": "stream",
     "text": [
      "WARNING:tensorflow:Falling back from v2 loop because of error: Failed to find data adapter that can handle input: <class 'pandas.core.frame.DataFrame'>, <class 'NoneType'>\n",
      "864/864 [==============================] - 0s 20us/sample - loss: 0.0081 - mean_absolute_error: 0.0081 - mean_squared_error: 1.2641e-04\n"
     ]
    },
    {
     "data": {
      "text/plain": [
       "[0.00807883833638496, 0.008078839, 0.00012640687]"
      ]
     },
     "execution_count": 18,
     "metadata": {},
     "output_type": "execute_result"
    }
   ],
   "source": [
    "model.evaluate(normed_test_data, test_output)"
   ]
  },
  {
   "cell_type": "markdown",
   "metadata": {},
   "source": [
    "The `model.predict(..)` function will run the provided input through the network and return the networks prediction for those input values."
   ]
  },
  {
   "cell_type": "code",
   "execution_count": 19,
   "metadata": {},
   "outputs": [
    {
     "name": "stdout",
     "output_type": "stream",
     "text": [
      "WARNING:tensorflow:Falling back from v2 loop because of error: Failed to find data adapter that can handle input: <class 'pandas.core.frame.DataFrame'>, <class 'NoneType'>\n"
     ]
    }
   ],
   "source": [
    "prediction = model.predict(normed_test_data).flatten()"
   ]
  },
  {
   "cell_type": "markdown",
   "metadata": {},
   "source": [
    "Putting this prediction into a dataframe allows us to plot the rediction versus the actual value in order to compare them."
   ]
  },
  {
   "cell_type": "code",
   "execution_count": 20,
   "metadata": {},
   "outputs": [],
   "source": [
    "prediction_df = DataFrame({ \"actual\": test_output, \"prediction\": prediction })"
   ]
  },
  {
   "cell_type": "markdown",
   "metadata": {},
   "source": [
    "We can use seaborn to generate a scatter plot of the models prediction against the known ground truth.\n",
    "\n",
    "Ideally, a perfect result would create a straight line of x = y. Any deviation from that line is error in the model."
   ]
  },
  {
   "cell_type": "code",
   "execution_count": 21,
   "metadata": {},
   "outputs": [
    {
     "data": {
      "text/plain": [
       "<matplotlib.axes._subplots.AxesSubplot at 0x7fbcdc236fd0>"
      ]
     },
     "execution_count": 21,
     "metadata": {},
     "output_type": "execute_result"
    },
    {
     "data": {
      "image/png": "[encoded data removed]",
      "text/plain": [
       "<Figure size 432x288 with 1 Axes>"
      ]
     },
     "metadata": {
      "needs_background": "light"
     },
     "output_type": "display_data"
    }
   ],
   "source": [
    "sns.scatterplot(prediction_df['actual'], prediction_df['prediction'])"
   ]
  },
  {
   "cell_type": "markdown",
   "metadata": {},
   "source": [
    "This notebook is adapted from the tensor flow basic regression tutorial\n",
    "\n",
    "https://www.tensorflow.org/tutorials/keras/basic_regression"
   ]
  },
  {
   "cell_type": "raw",
   "metadata": {},
   "source": [
    "#@title MIT License\n",
    "#\n",
    "# Copyright (c) 2017 François Chollet\n",
    "#\n",
    "# Permission is hereby granted, free of charge, to any person obtaining a\n",
    "# copy of this software and associated documentation files (the \"Software\"),\n",
    "# to deal in the Software without restriction, including without limitation\n",
    "# the rights to use, copy, modify, merge, publish, distribute, sublicense,\n",
    "# and/or sell copies of the Software, and to permit persons to whom the\n",
    "# Software is furnished to do so, subject to the following conditions:\n",
    "#\n",
    "# The above copyright notice and this permission notice shall be included in\n",
    "# all copies or substantial portions of the Software.\n",
    "#\n",
    "# THE SOFTWARE IS PROVIDED \"AS IS\", WITHOUT WARRANTY OF ANY KIND, EXPRESS OR\n",
    "# IMPLIED, INCLUDING BUT NOT LIMITED TO THE WARRANTIES OF MERCHANTABILITY,\n",
    "# FITNESS FOR A PARTICULAR PURPOSE AND NONINFRINGEMENT. IN NO EVENT SHALL\n",
    "# THE AUTHORS OR COPYRIGHT HOLDERS BE LIABLE FOR ANY CLAIM, DAMAGES OR OTHER\n",
    "# LIABILITY, WHETHER IN AN ACTION OF CONTRACT, TORT OR OTHERWISE, ARISING\n",
    "# FROM, OUT OF OR IN CONNECTION WITH THE SOFTWARE OR THE USE OR OTHER\n",
    "# DEALINGS IN THE SOFTWARE.\n"
   ]
  },
  {
   "cell_type": "code",
   "execution_count": null,
   "metadata": {},
   "outputs": [],
   "source": []
  }
 ],
 "metadata": {
  "kernelspec": {
   "display_name": "Python 3",
   "language": "python",
   "name": "python3"
  },
  "language_info": {
   "codemirror_mode": {
    "name": "ipython",
    "version": 3
   },
   "file_extension": ".py",
   "mimetype": "text/x-python",
   "name": "python",
   "nbconvert_exporter": "python",
   "pygments_lexer": "ipython3",
   "version": "3.7.6"
  }
 },
 "nbformat": 4,
 "nbformat_minor": 4
}
