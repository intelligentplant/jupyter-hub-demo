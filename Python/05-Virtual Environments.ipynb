{
 "cells": [
  {
   "cell_type": "markdown",
   "metadata": {},
   "source": [
    "# Conda Virtual Environments\n",
    "\n",
    "More advanced users may wish to use multiple different virtual environments for different projects an note books. This is a good way to prevent conflicts between packages.\n",
    "\n",
    "To create a new virtual environment called \"example\" run this command:\n",
    "\n",
    "Here I have used cell magic to run from the notebook, the same command can be run from a terminal.\n",
    "(The --yes automatically agrees to prompts)"
   ]
  },
  {
   "cell_type": "code",
   "execution_count": null,
   "metadata": {},
   "outputs": [],
   "source": [
    "%%bash\n",
    "conda create ipykernel -n example --yes"
   ]
  },
  {
   "cell_type": "markdown",
   "metadata": {},
   "source": [
    "Now when you create a notebook you have the option to select a conda environment you have created.\n",
    "\n",
    "Change this notebook to the new \"example\" environment by selecting \"Python [conda env:example]\" at the top right (where it says Python 3).\n",
    "\n",
    "You will now see that the packages installed in the default environment are no longer installed:"
   ]
  },
  {
   "cell_type": "code",
   "execution_count": null,
   "metadata": {},
   "outputs": [],
   "source": [
    "import intelligent_plant"
   ]
  },
  {
   "cell_type": "markdown",
   "metadata": {},
   "source": [
    "We can install new packages into this environment without effecting the other environments\n",
    "\n",
    "Packages can be installed using `conda` or `pip`"
   ]
  },
  {
   "cell_type": "code",
   "execution_count": null,
   "metadata": {},
   "outputs": [],
   "source": [
    "%pip install intelligent_plant"
   ]
  },
  {
   "cell_type": "markdown",
   "metadata": {},
   "source": [
    "Now the intelligent plant package is installed in this virtual environment."
   ]
  },
  {
   "cell_type": "code",
   "execution_count": null,
   "metadata": {},
   "outputs": [],
   "source": [
    "import intelligent_plant"
   ]
  },
  {
   "cell_type": "markdown",
   "metadata": {},
   "source": [
    "To delete a conda virtual environment first deactivate it. Select the Python 3 kernel from the drop down at the top right.\n",
    "\n",
    "Now we can delete the example environment."
   ]
  },
  {
   "cell_type": "code",
   "execution_count": null,
   "metadata": {},
   "outputs": [],
   "source": [
    "%%bash\n",
    "conda remove -n example --all --yes"
   ]
  },
  {
   "cell_type": "markdown",
   "metadata": {},
   "source": [
    "For more information on conda and how to use it consult the conda user guide:\n",
    "\n",
    "https://docs.conda.io/projects/conda/en/latest/user-guide/"
   ]
  },
  {
   "cell_type": "code",
   "execution_count": null,
   "metadata": {},
   "outputs": [],
   "source": []
  }
 ],
 "metadata": {
  "kernelspec": {
   "display_name": "Python 3",
   "language": "python",
   "name": "python3"
  },
  "language_info": {
   "codemirror_mode": {
    "name": "ipython",
    "version": 3
   },
   "file_extension": ".py",
   "mimetype": "text/x-python",
   "name": "python",
   "nbconvert_exporter": "python",
   "pygments_lexer": "ipython3",
   "version": "3.7.3"
  }
 },
 "nbformat": 4,
 "nbformat_minor": 4
}
