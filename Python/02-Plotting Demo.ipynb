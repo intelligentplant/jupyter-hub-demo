{
 "cells": [
  {
   "cell_type": "markdown",
   "metadata": {},
   "source": [
    "# Plotting Data"
   ]
  },
  {
   "cell_type": "code",
   "execution_count": 1,
   "metadata": {},
   "outputs": [],
   "source": [
    "import intelligent_plant.app_store_client as app_store_client\n",
    "import os\n",
    "app_store = app_store_client.AppStoreClient(os.environ[\"ACCESS_TOKEN\"])\n",
    "data_core = app_store.get_data_core_client()"
   ]
  },
  {
   "cell_type": "markdown",
   "metadata": {},
   "source": [
    "Look up the fully qualified names of authorised data sources.\n",
    "Check that 'IP Datasource 2' appears in this list for you."
   ]
  },
  {
   "cell_type": "code",
   "execution_count": 2,
   "metadata": {},
   "outputs": [
    {
     "data": {
      "text/plain": [
       "['IP Datasource', 'IP Datasource 2', 'Vibration']"
      ]
     },
     "execution_count": 2,
     "metadata": {},
     "output_type": "execute_result"
    }
   ],
   "source": [
    "list(map(lambda x: x['Name']['QualifiedName'], data_core.get_data_sources([\"*\"])))"
   ]
  },
  {
   "cell_type": "markdown",
   "metadata": {},
   "source": [
    "We'll use IP Datasource 2 as an example"
   ]
  },
  {
   "cell_type": "code",
   "execution_count": 3,
   "metadata": {},
   "outputs": [],
   "source": [
    "dsn = \"IP Datasource 2\""
   ]
  },
  {
   "cell_type": "markdown",
   "metadata": {},
   "source": [
    "Get the 1st page of the tag list for the data source"
   ]
  },
  {
   "cell_type": "code",
   "execution_count": 4,
   "metadata": {},
   "outputs": [],
   "source": [
    "tags = data_core.get_tags(dsn)\n",
    "\n",
    "tag_names = list(map(lambda x: x[\"Id\"], tags))"
   ]
  },
  {
   "cell_type": "markdown",
   "metadata": {},
   "source": [
    "Show the tag list"
   ]
  },
  {
   "cell_type": "code",
   "execution_count": 5,
   "metadata": {},
   "outputs": [
    {
     "data": {
      "text/plain": [
       "['Air Scour Blowers_Outlet_PI',\n",
       " 'Antifoam Inj Pump A_PI',\n",
       " 'Antifoam Inj Pump B_PI',\n",
       " 'Anti-Scalent Pump A_PI',\n",
       " 'Anti-Scalent Pump B_PI',\n",
       " 'Biocide (Oil) Inj Pump A_PI',\n",
       " 'Biocide (Oil) Inj Pump B_PI',\n",
       " 'Biocide (Water) Inj Pump A_PI',\n",
       " 'Biocide (Water) Inj Pump B_PI',\n",
       " 'CALC_Scaled_HP Flare Header Cold_PI',\n",
       " 'CALC_Scaled_HP Flare Header Wet_PI',\n",
       " 'CIP Cartridge Filter_PI',\n",
       " 'Coagulant Inj Pump A_PI',\n",
       " 'Coagulant Inj Pump B_PI',\n",
       " 'Cond Acc_PI',\n",
       " 'Cond Flash Drum_PI',\n",
       " 'Cond Heater_SS Out_PI',\n",
       " 'Corrosion Inhibitor HP Inj Pump A_PI',\n",
       " 'Corrosion Inhibitor HP Inj Pump B_PI',\n",
       " 'Corrosion Inhibitor LP Inj Pump A_PI']"
      ]
     },
     "execution_count": 5,
     "metadata": {},
     "output_type": "execute_result"
    }
   ],
   "source": [
    "tag_names"
   ]
  },
  {
   "cell_type": "markdown",
   "metadata": {},
   "source": [
    "Make a request for plot data for the 1st tag in the list"
   ]
  },
  {
   "cell_type": "code",
   "execution_count": 6,
   "metadata": {},
   "outputs": [],
   "source": [
    "data = data_core.get_plot_data({dsn: [tag_names[0]]}, \"*-30d\", \"*\", 30)"
   ]
  },
  {
   "cell_type": "markdown",
   "metadata": {},
   "source": [
    "Import the intelligent plant utility and matplotlib\n",
    "\n",
    "The IP utility esily transforms data returned by the data core API into a pandas data frame\n",
    "\n",
    "Matplotlib is used to make plots"
   ]
  },
  {
   "cell_type": "code",
   "execution_count": 7,
   "metadata": {},
   "outputs": [],
   "source": [
    "import intelligent_plant.utility as utility\n",
    "import matplotlib.pyplot as plt"
   ]
  },
  {
   "cell_type": "markdown",
   "metadata": {},
   "source": [
    "Use the IP utility to transform the response object into a data frame"
   ]
  },
  {
   "cell_type": "code",
   "execution_count": 8,
   "metadata": {},
   "outputs": [],
   "source": [
    "data_frame = utility.query_result_to_data_frame(data)"
   ]
  },
  {
   "cell_type": "code",
   "execution_count": 9,
   "metadata": {},
   "outputs": [
    {
     "data": {
      "text/html": [
       "<div>\n",
       "<style scoped>\n",
       "    .dataframe tbody tr th:only-of-type {\n",
       "        vertical-align: middle;\n",
       "    }\n",
       "\n",
       "    .dataframe tbody tr th {\n",
       "        vertical-align: top;\n",
       "    }\n",
       "\n",
       "    .dataframe thead th {\n",
       "        text-align: right;\n",
       "    }\n",
       "</style>\n",
       "<table border=\"1\" class=\"dataframe\">\n",
       "  <thead>\n",
       "    <tr style=\"text-align: right;\">\n",
       "      <th></th>\n",
       "      <th>TimeStamp</th>\n",
       "      <th>Air Scour Blowers_Outlet_PI</th>\n",
       "    </tr>\n",
       "  </thead>\n",
       "  <tbody>\n",
       "    <tr>\n",
       "      <th>0</th>\n",
       "      <td>2020-06-13 09:04:05.983000+00:00</td>\n",
       "      <td>0.001126</td>\n",
       "    </tr>\n",
       "    <tr>\n",
       "      <th>1</th>\n",
       "      <td>2020-06-14 09:53:45.293344800+00:00</td>\n",
       "      <td>0.000270</td>\n",
       "    </tr>\n",
       "    <tr>\n",
       "      <th>2</th>\n",
       "      <td>2020-06-15 10:43:24.603689600+00:00</td>\n",
       "      <td>0.000966</td>\n",
       "    </tr>\n",
       "    <tr>\n",
       "      <th>3</th>\n",
       "      <td>2020-06-16 11:33:03.914034400+00:00</td>\n",
       "      <td>0.000265</td>\n",
       "    </tr>\n",
       "    <tr>\n",
       "      <th>4</th>\n",
       "      <td>2020-06-17 12:22:43.224379200+00:00</td>\n",
       "      <td>0.000323</td>\n",
       "    </tr>\n",
       "    <tr>\n",
       "      <th>5</th>\n",
       "      <td>2020-06-18 13:12:22.534724+00:00</td>\n",
       "      <td>0.000855</td>\n",
       "    </tr>\n",
       "    <tr>\n",
       "      <th>6</th>\n",
       "      <td>2020-06-19 14:02:01.845068800+00:00</td>\n",
       "      <td>0.000835</td>\n",
       "    </tr>\n",
       "    <tr>\n",
       "      <th>7</th>\n",
       "      <td>2020-06-20 14:51:41.155413600+00:00</td>\n",
       "      <td>-0.000070</td>\n",
       "    </tr>\n",
       "    <tr>\n",
       "      <th>8</th>\n",
       "      <td>2020-06-21 15:41:20.465758400+00:00</td>\n",
       "      <td>0.007033</td>\n",
       "    </tr>\n",
       "    <tr>\n",
       "      <th>9</th>\n",
       "      <td>2020-06-22 16:30:59.776103200+00:00</td>\n",
       "      <td>0.000406</td>\n",
       "    </tr>\n",
       "    <tr>\n",
       "      <th>10</th>\n",
       "      <td>2020-06-23 17:20:39.086448+00:00</td>\n",
       "      <td>0.002204</td>\n",
       "    </tr>\n",
       "    <tr>\n",
       "      <th>11</th>\n",
       "      <td>2020-06-24 18:10:18.396792800+00:00</td>\n",
       "      <td>0.000139</td>\n",
       "    </tr>\n",
       "    <tr>\n",
       "      <th>12</th>\n",
       "      <td>2020-06-25 18:59:57.707137600+00:00</td>\n",
       "      <td>-0.000046</td>\n",
       "    </tr>\n",
       "    <tr>\n",
       "      <th>13</th>\n",
       "      <td>2020-06-26 19:49:37.017482400+00:00</td>\n",
       "      <td>0.000305</td>\n",
       "    </tr>\n",
       "    <tr>\n",
       "      <th>14</th>\n",
       "      <td>2020-06-27 20:39:16.327827200+00:00</td>\n",
       "      <td>0.000456</td>\n",
       "    </tr>\n",
       "    <tr>\n",
       "      <th>15</th>\n",
       "      <td>2020-06-28 21:28:55.638172+00:00</td>\n",
       "      <td>0.000195</td>\n",
       "    </tr>\n",
       "    <tr>\n",
       "      <th>16</th>\n",
       "      <td>2020-06-29 22:18:34.948516800+00:00</td>\n",
       "      <td>0.000265</td>\n",
       "    </tr>\n",
       "    <tr>\n",
       "      <th>17</th>\n",
       "      <td>2020-06-30 23:08:14.258861600+00:00</td>\n",
       "      <td>0.000267</td>\n",
       "    </tr>\n",
       "    <tr>\n",
       "      <th>18</th>\n",
       "      <td>2020-07-01 23:57:53.569206400+00:00</td>\n",
       "      <td>0.173318</td>\n",
       "    </tr>\n",
       "    <tr>\n",
       "      <th>19</th>\n",
       "      <td>2020-07-03 00:47:32.879551200+00:00</td>\n",
       "      <td>0.000454</td>\n",
       "    </tr>\n",
       "    <tr>\n",
       "      <th>20</th>\n",
       "      <td>2020-07-04 01:37:12.189896+00:00</td>\n",
       "      <td>0.000698</td>\n",
       "    </tr>\n",
       "    <tr>\n",
       "      <th>21</th>\n",
       "      <td>2020-07-05 02:26:51.500240800+00:00</td>\n",
       "      <td>0.000062</td>\n",
       "    </tr>\n",
       "    <tr>\n",
       "      <th>22</th>\n",
       "      <td>2020-07-06 03:16:30.810585600+00:00</td>\n",
       "      <td>0.000518</td>\n",
       "    </tr>\n",
       "    <tr>\n",
       "      <th>23</th>\n",
       "      <td>2020-07-07 04:06:10.120930400+00:00</td>\n",
       "      <td>0.000535</td>\n",
       "    </tr>\n",
       "    <tr>\n",
       "      <th>24</th>\n",
       "      <td>2020-07-08 04:55:49.431275200+00:00</td>\n",
       "      <td>0.000118</td>\n",
       "    </tr>\n",
       "    <tr>\n",
       "      <th>25</th>\n",
       "      <td>2020-07-09 05:45:28.741620+00:00</td>\n",
       "      <td>0.000189</td>\n",
       "    </tr>\n",
       "    <tr>\n",
       "      <th>26</th>\n",
       "      <td>2020-07-10 06:35:08.051964800+00:00</td>\n",
       "      <td>0.000487</td>\n",
       "    </tr>\n",
       "    <tr>\n",
       "      <th>27</th>\n",
       "      <td>2020-07-11 07:24:47.362309600+00:00</td>\n",
       "      <td>0.000283</td>\n",
       "    </tr>\n",
       "    <tr>\n",
       "      <th>28</th>\n",
       "      <td>2020-07-12 08:14:26.672654400+00:00</td>\n",
       "      <td>0.000071</td>\n",
       "    </tr>\n",
       "    <tr>\n",
       "      <th>29</th>\n",
       "      <td>2020-07-13 09:04:05.982999200+00:00</td>\n",
       "      <td>0.000858</td>\n",
       "    </tr>\n",
       "  </tbody>\n",
       "</table>\n",
       "</div>"
      ],
      "text/plain": [
       "                             TimeStamp  Air Scour Blowers_Outlet_PI\n",
       "0     2020-06-13 09:04:05.983000+00:00                     0.001126\n",
       "1  2020-06-14 09:53:45.293344800+00:00                     0.000270\n",
       "2  2020-06-15 10:43:24.603689600+00:00                     0.000966\n",
       "3  2020-06-16 11:33:03.914034400+00:00                     0.000265\n",
       "4  2020-06-17 12:22:43.224379200+00:00                     0.000323\n",
       "5     2020-06-18 13:12:22.534724+00:00                     0.000855\n",
       "6  2020-06-19 14:02:01.845068800+00:00                     0.000835\n",
       "7  2020-06-20 14:51:41.155413600+00:00                    -0.000070\n",
       "8  2020-06-21 15:41:20.465758400+00:00                     0.007033\n",
       "9  2020-06-22 16:30:59.776103200+00:00                     0.000406\n",
       "10    2020-06-23 17:20:39.086448+00:00                     0.002204\n",
       "11 2020-06-24 18:10:18.396792800+00:00                     0.000139\n",
       "12 2020-06-25 18:59:57.707137600+00:00                    -0.000046\n",
       "13 2020-06-26 19:49:37.017482400+00:00                     0.000305\n",
       "14 2020-06-27 20:39:16.327827200+00:00                     0.000456\n",
       "15    2020-06-28 21:28:55.638172+00:00                     0.000195\n",
       "16 2020-06-29 22:18:34.948516800+00:00                     0.000265\n",
       "17 2020-06-30 23:08:14.258861600+00:00                     0.000267\n",
       "18 2020-07-01 23:57:53.569206400+00:00                     0.173318\n",
       "19 2020-07-03 00:47:32.879551200+00:00                     0.000454\n",
       "20    2020-07-04 01:37:12.189896+00:00                     0.000698\n",
       "21 2020-07-05 02:26:51.500240800+00:00                     0.000062\n",
       "22 2020-07-06 03:16:30.810585600+00:00                     0.000518\n",
       "23 2020-07-07 04:06:10.120930400+00:00                     0.000535\n",
       "24 2020-07-08 04:55:49.431275200+00:00                     0.000118\n",
       "25    2020-07-09 05:45:28.741620+00:00                     0.000189\n",
       "26 2020-07-10 06:35:08.051964800+00:00                     0.000487\n",
       "27 2020-07-11 07:24:47.362309600+00:00                     0.000283\n",
       "28 2020-07-12 08:14:26.672654400+00:00                     0.000071\n",
       "29 2020-07-13 09:04:05.982999200+00:00                     0.000858"
      ]
     },
     "execution_count": 9,
     "metadata": {},
     "output_type": "execute_result"
    }
   ],
   "source": [
    "data_frame"
   ]
  },
  {
   "cell_type": "markdown",
   "metadata": {},
   "source": [
    "Plot the data frame"
   ]
  },
  {
   "cell_type": "code",
   "execution_count": 10,
   "metadata": {
    "slideshow": {
     "slide_type": "-"
    },
    "tags": [
     "hide_input"
    ]
   },
   "outputs": [
    {
     "data": {
      "text/plain": [
       "<matplotlib.axes._subplots.AxesSubplot at 0x7f305118f890>"
      ]
     },
     "execution_count": 10,
     "metadata": {},
     "output_type": "execute_result"
    },
    {
     "data": {
      "image/png": "[encoded data removed]",
      "text/plain": [
       "<Figure size 432x288 with 1 Axes>"
      ]
     },
     "metadata": {
      "needs_background": "light"
     },
     "output_type": "display_data"
    }
   ],
   "source": [
    "data_frame[\"Air Scour Blowers_Outlet_PI\"].plot()"
   ]
  },
  {
   "cell_type": "code",
   "execution_count": null,
   "metadata": {},
   "outputs": [],
   "source": []
  }
 ],
 "metadata": {
  "kernelspec": {
   "display_name": "Python 3",
   "language": "python",
   "name": "python3"
  },
  "language_info": {
   "codemirror_mode": {
    "name": "ipython",
    "version": 3
   },
   "file_extension": ".py",
   "mimetype": "text/x-python",
   "name": "python",
   "nbconvert_exporter": "python",
   "pygments_lexer": "ipython3",
   "version": "3.7.6"
  }
 },
 "nbformat": 4,
 "nbformat_minor": 4
}
