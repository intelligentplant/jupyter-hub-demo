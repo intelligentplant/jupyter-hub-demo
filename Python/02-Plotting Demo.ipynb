{
 "cells": [
  {
   "cell_type": "markdown",
   "metadata": {},
   "source": [
    "# Plotting Data"
   ]
  },
  {
   "cell_type": "code",
   "execution_count": 1,
   "metadata": {},
   "outputs": [],
   "source": [
    "import intelligent_plant.app_store_client as app_store_client\n",
    "import os\n",
    "app_store = app_store_client.AppStoreClient(os.environ[\"ACCESS_TOKEN\"])\n",
    "data_core = app_store.get_data_core_client()"
   ]
  },
  {
   "cell_type": "markdown",
   "metadata": {},
   "source": [
    "We'll use IP Datasource 2 as an example"
   ]
  },
  {
   "cell_type": "code",
   "execution_count": 2,
   "metadata": {},
   "outputs": [],
   "source": [
    "dsn = \"IP Datasource 2\""
   ]
  },
  {
   "cell_type": "markdown",
   "metadata": {},
   "source": [
    "Get the tag list for the data source"
   ]
  },
  {
   "cell_type": "code",
   "execution_count": 3,
   "metadata": {},
   "outputs": [],
   "source": [
    "tags = data_core.get_tags(dsn, 1, 113)\n",
    "\n",
    "tag_names = list(map(lambda x: x[\"Id\"], tags))"
   ]
  },
  {
   "cell_type": "markdown",
   "metadata": {},
   "source": [
    "Show the tag list"
   ]
  },
  {
   "cell_type": "code",
   "execution_count": 4,
   "metadata": {},
   "outputs": [
    {
     "data": {
      "text/plain": [
       "['Air Scour Blowers_Outlet_PI',\n",
       " 'Antifoam Inj Pump A_PI',\n",
       " 'Antifoam Inj Pump B_PI',\n",
       " 'Anti-Scalent Pump A_PI',\n",
       " 'Anti-Scalent Pump B_PI',\n",
       " 'Biocide (Oil) Inj Pump A_PI',\n",
       " 'Biocide (Oil) Inj Pump B_PI',\n",
       " 'Biocide (Water) Inj Pump A_PI',\n",
       " 'Biocide (Water) Inj Pump B_PI',\n",
       " 'CALC_Scaled_HP Flare Header Cold_PI',\n",
       " 'CALC_Scaled_HP Flare Header Wet_PI',\n",
       " 'CIP Cartridge Filter_PI',\n",
       " 'Coagulant Inj Pump A_PI',\n",
       " 'Coagulant Inj Pump B_PI',\n",
       " 'Cond Acc_PI',\n",
       " 'Cond Flash Drum_PI',\n",
       " 'Cond Heater_SS Out_PI',\n",
       " 'Corrosion Inhibitor HP Inj Pump A_PI',\n",
       " 'Corrosion Inhibitor HP Inj Pump B_PI',\n",
       " 'Corrosion Inhibitor LP Inj Pump A_PI',\n",
       " 'Corrosion Inhibitor LP Inj Pump B_PI',\n",
       " 'Demulsifier L.P. Inj Pump B_PI',\n",
       " 'DS Flash Vessel_PI',\n",
       " 'Elec Treater Flash Vessel_PI',\n",
       " 'FG Filter A_PI',\n",
       " 'FG Filter B_PI',\n",
       " 'Flare Tip Ignition Package_PR_PI',\n",
       " 'Flotation Cell A_PI',\n",
       " 'Gas Export_PI',\n",
       " 'Gas Lift_PI',\n",
       " 'HM EX Drum_PI',\n",
       " 'HP FG Heater_SS Out_PI',\n",
       " 'HP FG Scrubber_PI',\n",
       " 'HP Flare Header Cold_PI',\n",
       " 'HP Separator A_PI',\n",
       " 'HP Separator B_PI',\n",
       " 'IP Separator_PI',\n",
       " 'Lean TEG Cooler_SS Out_PI',\n",
       " 'Low Vol. MeOH Inj Pump_PI',\n",
       " 'LP Degasser_PI',\n",
       " 'LP FG Header_PI',\n",
       " 'LP Flare KO Drum Pump A_Disc_PI',\n",
       " 'LP Flare KO Drum Pump B_Disc_PI',\n",
       " 'LP Flare KO Drum Pump C_Disc_PI',\n",
       " 'LP Flare Tip_FG Purge_PI',\n",
       " 'LPGC 2nd Stg_Disc_PI',\n",
       " 'LV MeOH HPI Pump_Disc_PI',\n",
       " 'MeOH Inj (HV) Pump Suction A/B/C/D_PI',\n",
       " 'MeOH Inj (LV) Pump Suction A/B_PI',\n",
       " 'MeOH Inj (RBGL) Pump Suction A/B_PI']"
      ]
     },
     "execution_count": 4,
     "metadata": {},
     "output_type": "execute_result"
    }
   ],
   "source": [
    "tag_names"
   ]
  },
  {
   "cell_type": "markdown",
   "metadata": {},
   "source": [
    "Make a request for plot data for the 1st tag in the list"
   ]
  },
  {
   "cell_type": "code",
   "execution_count": null,
   "metadata": {},
   "outputs": [],
   "source": [
    "data = data_core.get_plot_data({dsn: [tag_names[0]]}, \"*-30d\", \"*\", 30)"
   ]
  },
  {
   "cell_type": "markdown",
   "metadata": {},
   "source": [
    "Import the intelligent plant utility and matplotlib\n",
    "\n",
    "The IP utility esily transforms data returned by the data core API into a pandas data frame\n",
    "\n",
    "Matplotlib is used to make plots"
   ]
  },
  {
   "cell_type": "code",
   "execution_count": null,
   "metadata": {},
   "outputs": [],
   "source": [
    "import intelligent_plant.utility as utility\n",
    "import matplotlib.pyplot as plt"
   ]
  },
  {
   "cell_type": "markdown",
   "metadata": {},
   "source": [
    "Use the IP utility to transform the response object into a data frame"
   ]
  },
  {
   "cell_type": "code",
   "execution_count": null,
   "metadata": {},
   "outputs": [],
   "source": [
    "data_frame = utility.query_result_to_data_frame(data)"
   ]
  },
  {
   "cell_type": "code",
   "execution_count": null,
   "metadata": {},
   "outputs": [],
   "source": [
    "data_frame"
   ]
  },
  {
   "cell_type": "markdown",
   "metadata": {},
   "source": [
    "Plot the data frame"
   ]
  },
  {
   "cell_type": "code",
   "execution_count": null,
   "metadata": {
    "slideshow": {
     "slide_type": "-"
    },
    "tags": [
     "hide_input"
    ]
   },
   "outputs": [],
   "source": [
    "data_frame[\"Air Scour Blowers_Outlet_PI\"].plot()"
   ]
  },
  {
   "cell_type": "code",
   "execution_count": null,
   "metadata": {},
   "outputs": [],
   "source": []
  }
 ],
 "metadata": {
  "kernelspec": {
   "display_name": "Python 3",
   "language": "python",
   "name": "python3"
  },
  "language_info": {
   "codemirror_mode": {
    "name": "ipython",
    "version": 3
   },
   "file_extension": ".py",
   "mimetype": "text/x-python",
   "name": "python",
   "nbconvert_exporter": "python",
   "pygments_lexer": "ipython3",
   "version": "3.7.3"
  }
 },
 "nbformat": 4,
 "nbformat_minor": 4
}
