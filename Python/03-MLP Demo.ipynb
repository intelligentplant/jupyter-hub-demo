{
 "cells": [
  {
   "cell_type": "markdown",
   "metadata": {},
   "source": [
    "# MLP Example"
   ]
  },
  {
   "cell_type": "markdown",
   "metadata": {},
   "source": [
    "This Demo file will take you thorugh all the steps involved in predicting a tags value by using the values of other tags in the data source.\n",
    "\n",
    "We'll use the sci-kit learn implementation of a Multi-layer perceptron (MLP) which is a simple neural network.\n",
    "\n",
    "In this example the demo data source \"IP Datasource 2\" will be used as an example so make sure you have it authorised."
   ]
  },
  {
   "cell_type": "markdown",
   "metadata": {},
   "source": [
    "Set up the Intelligent Plant clients."
   ]
  },
  {
   "cell_type": "code",
   "execution_count": 1,
   "metadata": {},
   "outputs": [],
   "source": [
    "import intelligent_plant.app_store_client as app_store_client\n",
    "import os\n",
    "app_store = app_store_client.AppStoreClient(os.environ[\"ACCESS_TOKEN\"])\n",
    "data_core = app_store.get_data_core_client()"
   ]
  },
  {
   "cell_type": "code",
   "execution_count": 2,
   "metadata": {},
   "outputs": [],
   "source": [
    "import intelligent_plant.utility as utility\n",
    "import matplotlib.pyplot as plt\n",
    "import pandas as pd\n",
    "import seaborn as sns"
   ]
  },
  {
   "cell_type": "markdown",
   "metadata": {},
   "source": [
    "Look up the fully qualified names of authorised data sources.\n",
    "\n",
    "Check that 'IP Datasource 2' appears in this list for you."
   ]
  },
  {
   "cell_type": "code",
   "execution_count": 3,
   "metadata": {},
   "outputs": [
    {
     "data": {
      "text/plain": [
       "['IP Datasource', 'IP Datasource 2', 'Vibration']"
      ]
     },
     "execution_count": 3,
     "metadata": {},
     "output_type": "execute_result"
    }
   ],
   "source": [
    "list(map(lambda x: x['Name']['QualifiedName'], data_core.get_data_sources([\"*\"])))"
   ]
  },
  {
   "cell_type": "markdown",
   "metadata": {},
   "source": [
    "We'll query all of the tags in IP Datasource 2 and make a list of just their names"
   ]
  },
  {
   "cell_type": "code",
   "execution_count": 4,
   "metadata": {},
   "outputs": [],
   "source": [
    "dsn = \"IP Datasource 2\""
   ]
  },
  {
   "cell_type": "markdown",
   "metadata": {},
   "source": [
    "This code will page through every tag on the datasource and add it to a list. Note: on a real data source this would be a very expensive operation and is not advised. A much better approach would be to only query tags relevant to the problem you are trying to solve."
   ]
  },
  {
   "cell_type": "code",
   "execution_count": 5,
   "metadata": {},
   "outputs": [],
   "source": [
    "tags = []\n",
    "\n",
    "page_size = 50\n",
    "page_num = 1\n",
    "while True:\n",
    "    page = data_core.get_tags(dsn, page_num, page_size)\n",
    "    \n",
    "    #append the page just fetched into the list of all tags\n",
    "    tags += page\n",
    "    \n",
    "    page_num += 1\n",
    "    \n",
    "    #if a page is shorter than the page size requested it is the last page\n",
    "    if (len(page) < page_size):\n",
    "        break\n",
    "\n",
    "#map tages meta data to only be tag name and filter out the \"TIME\" tag\n",
    "tag_names = list(filter(lambda x: x != \"TIME\", map(lambda x: x[\"Id\"], tags)))"
   ]
  },
  {
   "cell_type": "markdown",
   "metadata": {},
   "source": [
    "Fetch 10 days of data for the selected tags with a point every 1 hour. Data will be interpolated."
   ]
  },
  {
   "cell_type": "code",
   "execution_count": 6,
   "metadata": {},
   "outputs": [],
   "source": [
    "all_data = data_core.get_processed_data({dsn: tag_names}, \"*-10d\", \"*\", \"1h\", \"interp\")"
   ]
  },
  {
   "cell_type": "markdown",
   "metadata": {},
   "source": [
    "Convert the returned data into a data frame to make it easier to work with"
   ]
  },
  {
   "cell_type": "code",
   "execution_count": 7,
   "metadata": {},
   "outputs": [],
   "source": [
    "all_data_frame = utility.query_result_to_data_frame(all_data)"
   ]
  },
  {
   "cell_type": "markdown",
   "metadata": {},
   "source": [
    "Remove the timestamp of data entries. For this simple example it will be ignored."
   ]
  },
  {
   "cell_type": "code",
   "execution_count": 8,
   "metadata": {},
   "outputs": [],
   "source": [
    "all_data_frame.drop('TimeStamp', axis=1, inplace=True)"
   ]
  },
  {
   "cell_type": "code",
   "execution_count": 9,
   "metadata": {},
   "outputs": [
    {
     "data": {
      "text/html": [
       "<div>\n",
       "<style scoped>\n",
       "    .dataframe tbody tr th:only-of-type {\n",
       "        vertical-align: middle;\n",
       "    }\n",
       "\n",
       "    .dataframe tbody tr th {\n",
       "        vertical-align: top;\n",
       "    }\n",
       "\n",
       "    .dataframe thead th {\n",
       "        text-align: right;\n",
       "    }\n",
       "</style>\n",
       "<table border=\"1\" class=\"dataframe\">\n",
       "  <thead>\n",
       "    <tr style=\"text-align: right;\">\n",
       "      <th></th>\n",
       "      <th>T2 MPGC 2nd Stg Suct Scrubber_PI</th>\n",
       "      <th>T1 MPGC 1st Stg Suct Scrubber_PI</th>\n",
       "      <th>CALC_Scaled_HP Flare Header Wet_PI</th>\n",
       "      <th>LP FG Header_PI</th>\n",
       "      <th>MeOH Surge Vessel_PI</th>\n",
       "      <th>Demulsifier L.P. Inj Pump B_PI</th>\n",
       "      <th>FG Filter B_PI</th>\n",
       "      <th>Corrosion Inhibitor HP Inj Pump B_PI</th>\n",
       "      <th>Biocide (Oil) Inj Pump A_PI</th>\n",
       "      <th>T2 MPGC 1st Stg_Disc_PI</th>\n",
       "      <th>...</th>\n",
       "      <th>WI Pump B_Suct_PI</th>\n",
       "      <th>Polyelectrolyte_1 Inj Pump A_PI</th>\n",
       "      <th>SRP Feed Pump C_PI</th>\n",
       "      <th>LP Degasser_PI</th>\n",
       "      <th>PCM Drum_PI</th>\n",
       "      <th>Coagulant Inj Pump A_PI</th>\n",
       "      <th>Sand Hydrocyclone_PI</th>\n",
       "      <th>HP FG Scrubber_PI</th>\n",
       "      <th>Prod Riser Depress Heater_TS Out_PI</th>\n",
       "      <th>LP Flare KO Drum Pump C_Disc_PI</th>\n",
       "    </tr>\n",
       "  </thead>\n",
       "  <tbody>\n",
       "    <tr>\n",
       "      <th>0</th>\n",
       "      <td>31.268032</td>\n",
       "      <td>15.067006</td>\n",
       "      <td>5.670209</td>\n",
       "      <td>5.940973</td>\n",
       "      <td>5.155453</td>\n",
       "      <td>25.934951</td>\n",
       "      <td>0.761326</td>\n",
       "      <td>4.614258</td>\n",
       "      <td>0.427984</td>\n",
       "      <td>32.530668</td>\n",
       "      <td>...</td>\n",
       "      <td>3.492396</td>\n",
       "      <td>1.352938</td>\n",
       "      <td>39.304427</td>\n",
       "      <td>1.374827</td>\n",
       "      <td>2.600486</td>\n",
       "      <td>3.331956</td>\n",
       "      <td>1.460858</td>\n",
       "      <td>39.572807</td>\n",
       "      <td>1.038695</td>\n",
       "      <td>0.441087</td>\n",
       "    </tr>\n",
       "    <tr>\n",
       "      <th>1</th>\n",
       "      <td>31.259241</td>\n",
       "      <td>15.071088</td>\n",
       "      <td>5.500146</td>\n",
       "      <td>5.899375</td>\n",
       "      <td>5.155453</td>\n",
       "      <td>25.869785</td>\n",
       "      <td>0.761326</td>\n",
       "      <td>4.614258</td>\n",
       "      <td>0.422324</td>\n",
       "      <td>32.511611</td>\n",
       "      <td>...</td>\n",
       "      <td>3.821132</td>\n",
       "      <td>1.350322</td>\n",
       "      <td>39.243873</td>\n",
       "      <td>1.384352</td>\n",
       "      <td>2.593056</td>\n",
       "      <td>3.337197</td>\n",
       "      <td>1.942283</td>\n",
       "      <td>39.528837</td>\n",
       "      <td>1.038695</td>\n",
       "      <td>0.437141</td>\n",
       "    </tr>\n",
       "    <tr>\n",
       "      <th>2</th>\n",
       "      <td>31.108460</td>\n",
       "      <td>15.026004</td>\n",
       "      <td>6.124345</td>\n",
       "      <td>5.853883</td>\n",
       "      <td>5.165637</td>\n",
       "      <td>25.691271</td>\n",
       "      <td>0.761326</td>\n",
       "      <td>4.614258</td>\n",
       "      <td>0.416664</td>\n",
       "      <td>32.389787</td>\n",
       "      <td>...</td>\n",
       "      <td>3.853683</td>\n",
       "      <td>1.347706</td>\n",
       "      <td>39.195807</td>\n",
       "      <td>1.383874</td>\n",
       "      <td>2.577600</td>\n",
       "      <td>3.342437</td>\n",
       "      <td>1.890709</td>\n",
       "      <td>39.500851</td>\n",
       "      <td>1.038695</td>\n",
       "      <td>0.414033</td>\n",
       "    </tr>\n",
       "    <tr>\n",
       "      <th>3</th>\n",
       "      <td>31.144559</td>\n",
       "      <td>15.005539</td>\n",
       "      <td>6.397647</td>\n",
       "      <td>5.816291</td>\n",
       "      <td>5.175507</td>\n",
       "      <td>25.733178</td>\n",
       "      <td>0.761326</td>\n",
       "      <td>4.614258</td>\n",
       "      <td>0.411004</td>\n",
       "      <td>32.392863</td>\n",
       "      <td>...</td>\n",
       "      <td>3.751958</td>\n",
       "      <td>1.345090</td>\n",
       "      <td>39.212820</td>\n",
       "      <td>1.389394</td>\n",
       "      <td>2.546443</td>\n",
       "      <td>3.347678</td>\n",
       "      <td>1.831817</td>\n",
       "      <td>39.496463</td>\n",
       "      <td>1.038695</td>\n",
       "      <td>0.419451</td>\n",
       "    </tr>\n",
       "    <tr>\n",
       "      <th>4</th>\n",
       "      <td>31.342722</td>\n",
       "      <td>15.028698</td>\n",
       "      <td>5.748946</td>\n",
       "      <td>5.883335</td>\n",
       "      <td>5.175507</td>\n",
       "      <td>25.790465</td>\n",
       "      <td>0.792523</td>\n",
       "      <td>4.614258</td>\n",
       "      <td>0.405345</td>\n",
       "      <td>32.644086</td>\n",
       "      <td>...</td>\n",
       "      <td>3.906062</td>\n",
       "      <td>1.342475</td>\n",
       "      <td>39.220402</td>\n",
       "      <td>1.380853</td>\n",
       "      <td>2.521479</td>\n",
       "      <td>3.352919</td>\n",
       "      <td>1.772281</td>\n",
       "      <td>39.538496</td>\n",
       "      <td>1.038695</td>\n",
       "      <td>0.431287</td>\n",
       "    </tr>\n",
       "    <tr>\n",
       "      <th>...</th>\n",
       "      <td>...</td>\n",
       "      <td>...</td>\n",
       "      <td>...</td>\n",
       "      <td>...</td>\n",
       "      <td>...</td>\n",
       "      <td>...</td>\n",
       "      <td>...</td>\n",
       "      <td>...</td>\n",
       "      <td>...</td>\n",
       "      <td>...</td>\n",
       "      <td>...</td>\n",
       "      <td>...</td>\n",
       "      <td>...</td>\n",
       "      <td>...</td>\n",
       "      <td>...</td>\n",
       "      <td>...</td>\n",
       "      <td>...</td>\n",
       "      <td>...</td>\n",
       "      <td>...</td>\n",
       "      <td>...</td>\n",
       "      <td>...</td>\n",
       "    </tr>\n",
       "    <tr>\n",
       "      <th>236</th>\n",
       "      <td>31.270592</td>\n",
       "      <td>15.046552</td>\n",
       "      <td>5.910895</td>\n",
       "      <td>6.092145</td>\n",
       "      <td>5.155453</td>\n",
       "      <td>26.721506</td>\n",
       "      <td>0.761326</td>\n",
       "      <td>4.567662</td>\n",
       "      <td>0.433667</td>\n",
       "      <td>32.533284</td>\n",
       "      <td>...</td>\n",
       "      <td>3.618999</td>\n",
       "      <td>1.351770</td>\n",
       "      <td>40.050142</td>\n",
       "      <td>1.380432</td>\n",
       "      <td>2.587804</td>\n",
       "      <td>3.326693</td>\n",
       "      <td>0.954682</td>\n",
       "      <td>39.584947</td>\n",
       "      <td>1.038695</td>\n",
       "      <td>0.448279</td>\n",
       "    </tr>\n",
       "    <tr>\n",
       "      <th>237</th>\n",
       "      <td>31.267400</td>\n",
       "      <td>15.066941</td>\n",
       "      <td>5.671806</td>\n",
       "      <td>5.941938</td>\n",
       "      <td>5.155453</td>\n",
       "      <td>25.934120</td>\n",
       "      <td>0.761326</td>\n",
       "      <td>4.614258</td>\n",
       "      <td>0.428007</td>\n",
       "      <td>32.530458</td>\n",
       "      <td>...</td>\n",
       "      <td>3.489957</td>\n",
       "      <td>1.352949</td>\n",
       "      <td>39.304481</td>\n",
       "      <td>1.374773</td>\n",
       "      <td>2.600482</td>\n",
       "      <td>3.331934</td>\n",
       "      <td>1.456600</td>\n",
       "      <td>39.573207</td>\n",
       "      <td>1.038695</td>\n",
       "      <td>0.441009</td>\n",
       "    </tr>\n",
       "    <tr>\n",
       "      <th>238</th>\n",
       "      <td>31.259942</td>\n",
       "      <td>15.071119</td>\n",
       "      <td>5.499978</td>\n",
       "      <td>5.898763</td>\n",
       "      <td>5.155453</td>\n",
       "      <td>25.871155</td>\n",
       "      <td>0.761326</td>\n",
       "      <td>4.614258</td>\n",
       "      <td>0.422348</td>\n",
       "      <td>32.511978</td>\n",
       "      <td>...</td>\n",
       "      <td>3.820814</td>\n",
       "      <td>1.350333</td>\n",
       "      <td>39.244324</td>\n",
       "      <td>1.384327</td>\n",
       "      <td>2.593123</td>\n",
       "      <td>3.337175</td>\n",
       "      <td>1.942499</td>\n",
       "      <td>39.528806</td>\n",
       "      <td>1.038695</td>\n",
       "      <td>0.437251</td>\n",
       "    </tr>\n",
       "    <tr>\n",
       "      <th>239</th>\n",
       "      <td>31.109022</td>\n",
       "      <td>15.026347</td>\n",
       "      <td>6.119345</td>\n",
       "      <td>5.854858</td>\n",
       "      <td>5.165553</td>\n",
       "      <td>25.691410</td>\n",
       "      <td>0.761326</td>\n",
       "      <td>4.614258</td>\n",
       "      <td>0.416688</td>\n",
       "      <td>32.390436</td>\n",
       "      <td>...</td>\n",
       "      <td>3.853725</td>\n",
       "      <td>1.347717</td>\n",
       "      <td>39.195763</td>\n",
       "      <td>1.383904</td>\n",
       "      <td>2.577663</td>\n",
       "      <td>3.342416</td>\n",
       "      <td>1.890924</td>\n",
       "      <td>39.501113</td>\n",
       "      <td>1.038695</td>\n",
       "      <td>0.414117</td>\n",
       "    </tr>\n",
       "    <tr>\n",
       "      <th>240</th>\n",
       "      <td>31.143723</td>\n",
       "      <td>15.005377</td>\n",
       "      <td>6.400210</td>\n",
       "      <td>5.815663</td>\n",
       "      <td>5.175507</td>\n",
       "      <td>25.732701</td>\n",
       "      <td>0.761326</td>\n",
       "      <td>4.614258</td>\n",
       "      <td>0.411028</td>\n",
       "      <td>32.392213</td>\n",
       "      <td>...</td>\n",
       "      <td>3.752753</td>\n",
       "      <td>1.345101</td>\n",
       "      <td>39.212722</td>\n",
       "      <td>1.389321</td>\n",
       "      <td>2.546638</td>\n",
       "      <td>3.347656</td>\n",
       "      <td>1.832092</td>\n",
       "      <td>39.496248</td>\n",
       "      <td>1.038695</td>\n",
       "      <td>0.419326</td>\n",
       "    </tr>\n",
       "  </tbody>\n",
       "</table>\n",
       "<p>241 rows × 113 columns</p>\n",
       "</div>"
      ],
      "text/plain": [
       "     T2 MPGC 2nd Stg Suct Scrubber_PI  T1 MPGC 1st Stg Suct Scrubber_PI  \\\n",
       "0                           31.268032                         15.067006   \n",
       "1                           31.259241                         15.071088   \n",
       "2                           31.108460                         15.026004   \n",
       "3                           31.144559                         15.005539   \n",
       "4                           31.342722                         15.028698   \n",
       "..                                ...                               ...   \n",
       "236                         31.270592                         15.046552   \n",
       "237                         31.267400                         15.066941   \n",
       "238                         31.259942                         15.071119   \n",
       "239                         31.109022                         15.026347   \n",
       "240                         31.143723                         15.005377   \n",
       "\n",
       "     CALC_Scaled_HP Flare Header Wet_PI  LP FG Header_PI  \\\n",
       "0                              5.670209         5.940973   \n",
       "1                              5.500146         5.899375   \n",
       "2                              6.124345         5.853883   \n",
       "3                              6.397647         5.816291   \n",
       "4                              5.748946         5.883335   \n",
       "..                                  ...              ...   \n",
       "236                            5.910895         6.092145   \n",
       "237                            5.671806         5.941938   \n",
       "238                            5.499978         5.898763   \n",
       "239                            6.119345         5.854858   \n",
       "240                            6.400210         5.815663   \n",
       "\n",
       "     MeOH Surge Vessel_PI  Demulsifier L.P. Inj Pump B_PI  FG Filter B_PI  \\\n",
       "0                5.155453                       25.934951        0.761326   \n",
       "1                5.155453                       25.869785        0.761326   \n",
       "2                5.165637                       25.691271        0.761326   \n",
       "3                5.175507                       25.733178        0.761326   \n",
       "4                5.175507                       25.790465        0.792523   \n",
       "..                    ...                             ...             ...   \n",
       "236              5.155453                       26.721506        0.761326   \n",
       "237              5.155453                       25.934120        0.761326   \n",
       "238              5.155453                       25.871155        0.761326   \n",
       "239              5.165553                       25.691410        0.761326   \n",
       "240              5.175507                       25.732701        0.761326   \n",
       "\n",
       "     Corrosion Inhibitor HP Inj Pump B_PI  Biocide (Oil) Inj Pump A_PI  \\\n",
       "0                                4.614258                     0.427984   \n",
       "1                                4.614258                     0.422324   \n",
       "2                                4.614258                     0.416664   \n",
       "3                                4.614258                     0.411004   \n",
       "4                                4.614258                     0.405345   \n",
       "..                                    ...                          ...   \n",
       "236                              4.567662                     0.433667   \n",
       "237                              4.614258                     0.428007   \n",
       "238                              4.614258                     0.422348   \n",
       "239                              4.614258                     0.416688   \n",
       "240                              4.614258                     0.411028   \n",
       "\n",
       "     T2 MPGC 1st Stg_Disc_PI  ...  WI Pump B_Suct_PI  \\\n",
       "0                  32.530668  ...           3.492396   \n",
       "1                  32.511611  ...           3.821132   \n",
       "2                  32.389787  ...           3.853683   \n",
       "3                  32.392863  ...           3.751958   \n",
       "4                  32.644086  ...           3.906062   \n",
       "..                       ...  ...                ...   \n",
       "236                32.533284  ...           3.618999   \n",
       "237                32.530458  ...           3.489957   \n",
       "238                32.511978  ...           3.820814   \n",
       "239                32.390436  ...           3.853725   \n",
       "240                32.392213  ...           3.752753   \n",
       "\n",
       "     Polyelectrolyte_1 Inj Pump A_PI  SRP Feed Pump C_PI  LP Degasser_PI  \\\n",
       "0                           1.352938           39.304427        1.374827   \n",
       "1                           1.350322           39.243873        1.384352   \n",
       "2                           1.347706           39.195807        1.383874   \n",
       "3                           1.345090           39.212820        1.389394   \n",
       "4                           1.342475           39.220402        1.380853   \n",
       "..                               ...                 ...             ...   \n",
       "236                         1.351770           40.050142        1.380432   \n",
       "237                         1.352949           39.304481        1.374773   \n",
       "238                         1.350333           39.244324        1.384327   \n",
       "239                         1.347717           39.195763        1.383904   \n",
       "240                         1.345101           39.212722        1.389321   \n",
       "\n",
       "     PCM Drum_PI  Coagulant Inj Pump A_PI  Sand Hydrocyclone_PI  \\\n",
       "0       2.600486                 3.331956              1.460858   \n",
       "1       2.593056                 3.337197              1.942283   \n",
       "2       2.577600                 3.342437              1.890709   \n",
       "3       2.546443                 3.347678              1.831817   \n",
       "4       2.521479                 3.352919              1.772281   \n",
       "..           ...                      ...                   ...   \n",
       "236     2.587804                 3.326693              0.954682   \n",
       "237     2.600482                 3.331934              1.456600   \n",
       "238     2.593123                 3.337175              1.942499   \n",
       "239     2.577663                 3.342416              1.890924   \n",
       "240     2.546638                 3.347656              1.832092   \n",
       "\n",
       "     HP FG Scrubber_PI  Prod Riser Depress Heater_TS Out_PI  \\\n",
       "0            39.572807                             1.038695   \n",
       "1            39.528837                             1.038695   \n",
       "2            39.500851                             1.038695   \n",
       "3            39.496463                             1.038695   \n",
       "4            39.538496                             1.038695   \n",
       "..                 ...                                  ...   \n",
       "236          39.584947                             1.038695   \n",
       "237          39.573207                             1.038695   \n",
       "238          39.528806                             1.038695   \n",
       "239          39.501113                             1.038695   \n",
       "240          39.496248                             1.038695   \n",
       "\n",
       "     LP Flare KO Drum Pump C_Disc_PI  \n",
       "0                           0.441087  \n",
       "1                           0.437141  \n",
       "2                           0.414033  \n",
       "3                           0.419451  \n",
       "4                           0.431287  \n",
       "..                               ...  \n",
       "236                         0.448279  \n",
       "237                         0.441009  \n",
       "238                         0.437251  \n",
       "239                         0.414117  \n",
       "240                         0.419326  \n",
       "\n",
       "[241 rows x 113 columns]"
      ]
     },
     "execution_count": 9,
     "metadata": {},
     "output_type": "execute_result"
    }
   ],
   "source": [
    "all_data_frame"
   ]
  },
  {
   "cell_type": "markdown",
   "metadata": {},
   "source": [
    "We can plot the contents of a data frame easily"
   ]
  },
  {
   "cell_type": "code",
   "execution_count": 10,
   "metadata": {},
   "outputs": [
    {
     "data": {
      "text/plain": [
       "<matplotlib.axes._subplots.AxesSubplot at 0x7fc224704c50>"
      ]
     },
     "execution_count": 10,
     "metadata": {},
     "output_type": "execute_result"
    },
    {
     "data": {
      "image/png": "[encoded data removed]",
      "text/plain": [
       "<Figure size 432x288 with 1 Axes>"
      ]
     },
     "metadata": {
      "needs_background": "light"
     },
     "output_type": "display_data"
    }
   ],
   "source": [
    "all_data_frame.plot(legend=False)"
   ]
  },
  {
   "cell_type": "code",
   "execution_count": 11,
   "metadata": {},
   "outputs": [],
   "source": [
    "from sklearn.pipeline import make_pipeline\n",
    "from sklearn.preprocessing import StandardScaler\n",
    "from sklearn.model_selection import train_test_split\n",
    "from sklearn.neural_network import MLPRegressor"
   ]
  },
  {
   "cell_type": "markdown",
   "metadata": {},
   "source": [
    "Set up a processing pipe. This encapsulates scaling and the MLP into the same pipe and allows us to train and test them all at once."
   ]
  },
  {
   "cell_type": "code",
   "execution_count": 12,
   "metadata": {},
   "outputs": [],
   "source": [
    "pipe = make_pipeline(StandardScaler(), MLPRegressor(solver='lbfgs', alpha=1e-5, hidden_layer_sizes=(100,), activation='logistic'))"
   ]
  },
  {
   "cell_type": "markdown",
   "metadata": {},
   "source": [
    "Randomly split the data into training and testing.\n",
    "\n",
    "We will try to predict the value of the last tag \"WI Pump D_Suct_PI\" by using the values of all the other tags."
   ]
  },
  {
   "cell_type": "code",
   "execution_count": 13,
   "metadata": {},
   "outputs": [],
   "source": [
    "X_train, X_test, y_train, y_test = train_test_split(all_data_frame[tag_names[:-1]], all_data_frame[tag_names[-1]])"
   ]
  },
  {
   "cell_type": "markdown",
   "metadata": {},
   "source": [
    "The MLP is going to try and learn the relationship between the graph above and below"
   ]
  },
  {
   "cell_type": "markdown",
   "metadata": {},
   "source": [
    "Use the training data to train the model."
   ]
  },
  {
   "cell_type": "code",
   "execution_count": 14,
   "metadata": {},
   "outputs": [
    {
     "data": {
      "text/plain": [
       "Pipeline(memory=None,\n",
       "         steps=[('standardscaler',\n",
       "                 StandardScaler(copy=True, with_mean=True, with_std=True)),\n",
       "                ('mlpregressor',\n",
       "                 MLPRegressor(activation='logistic', alpha=1e-05,\n",
       "                              batch_size='auto', beta_1=0.9, beta_2=0.999,\n",
       "                              early_stopping=False, epsilon=1e-08,\n",
       "                              hidden_layer_sizes=(100,),\n",
       "                              learning_rate='constant',\n",
       "                              learning_rate_init=0.001, max_iter=200,\n",
       "                              momentum=0.9, n_iter_no_change=10,\n",
       "                              nesterovs_momentum=True, power_t=0.5,\n",
       "                              random_state=None, shuffle=True, solver='lbfgs',\n",
       "                              tol=0.0001, validation_fraction=0.1,\n",
       "                              verbose=False, warm_start=False))],\n",
       "         verbose=False)"
      ]
     },
     "execution_count": 14,
     "metadata": {},
     "output_type": "execute_result"
    }
   ],
   "source": [
    "pipe.fit(X_train, y_train)"
   ]
  },
  {
   "cell_type": "code",
   "execution_count": 15,
   "metadata": {},
   "outputs": [],
   "source": [
    "prediction = pipe.predict(X_test)"
   ]
  },
  {
   "cell_type": "code",
   "execution_count": 16,
   "metadata": {},
   "outputs": [],
   "source": [
    "prediction_df = pd.DataFrame({ \"actual\": y_test, \"prediction\": prediction }).reset_index(drop=True)"
   ]
  },
  {
   "cell_type": "markdown",
   "metadata": {},
   "source": [
    "We can use seaborn to generate a scatter plot of the models prediction against the known ground truth.\n",
    "\n",
    "Ideally, a perfect result would create a straight line of x = y. Any deviation from that line is error in the model."
   ]
  },
  {
   "cell_type": "code",
   "execution_count": 17,
   "metadata": {},
   "outputs": [
    {
     "data": {
      "text/plain": [
       "<matplotlib.axes._subplots.AxesSubplot at 0x7fc2240b2090>"
      ]
     },
     "execution_count": 17,
     "metadata": {},
     "output_type": "execute_result"
    },
    {
     "data": {
      "image/png": "[encoded data removed]",
      "text/plain": [
       "<Figure size 432x288 with 1 Axes>"
      ]
     },
     "metadata": {
      "needs_background": "light"
     },
     "output_type": "display_data"
    }
   ],
   "source": [
    "sns.scatterplot(prediction_df['actual'], prediction_df['prediction'])"
   ]
  },
  {
   "cell_type": "markdown",
   "metadata": {},
   "source": [
    "The score function can be used to detemine the coefficient of determination (R^2) of our model. A score of 1 means that the prediction is perfect."
   ]
  },
  {
   "cell_type": "code",
   "execution_count": 18,
   "metadata": {},
   "outputs": [
    {
     "data": {
      "text/plain": [
       "0.9967009062275991"
      ]
     },
     "execution_count": 18,
     "metadata": {},
     "output_type": "execute_result"
    }
   ],
   "source": [
    "pipe.score(X_test, y_test)"
   ]
  },
  {
   "cell_type": "code",
   "execution_count": 19,
   "metadata": {},
   "outputs": [],
   "source": [
    "from sklearn.metrics import *"
   ]
  },
  {
   "cell_type": "markdown",
   "metadata": {},
   "source": [
    "Other metrics can also be calculated. Such as the mean absoulte error. In this case 0 would be perfect."
   ]
  },
  {
   "cell_type": "code",
   "execution_count": 20,
   "metadata": {},
   "outputs": [
    {
     "data": {
      "text/plain": [
       "0.012551885491064485"
      ]
     },
     "execution_count": 20,
     "metadata": {},
     "output_type": "execute_result"
    }
   ],
   "source": [
    "mean_absolute_error(y_test, prediction)"
   ]
  },
  {
   "cell_type": "code",
   "execution_count": null,
   "metadata": {},
   "outputs": [],
   "source": []
  }
 ],
 "metadata": {
  "kernelspec": {
   "display_name": "Python 3",
   "language": "python",
   "name": "python3"
  },
  "language_info": {
   "codemirror_mode": {
    "name": "ipython",
    "version": 3
   },
   "file_extension": ".py",
   "mimetype": "text/x-python",
   "name": "python",
   "nbconvert_exporter": "python",
   "pygments_lexer": "ipython3",
   "version": "3.7.6"
  }
 },
 "nbformat": 4,
 "nbformat_minor": 4
}
