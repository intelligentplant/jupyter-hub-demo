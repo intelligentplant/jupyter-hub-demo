{
 "cells": [
  {
   "cell_type": "markdown",
   "metadata": {},
   "source": [
    "# Set Up\n",
    "\n",
    "Here is the standard bit of code that will set up the Intelligent Plant App Store and Data Core API clients for a notebook"
   ]
  },
  {
   "cell_type": "code",
   "execution_count": null,
   "metadata": {},
   "outputs": [],
   "source": [
    "import intelligent_plant.app_store_client as app_store_client\n",
    "import os\n",
    "app_store = app_store_client.AppStoreClient(os.environ[\"ACCESS_TOKEN\"])\n",
    "data_core = app_store.get_data_core_client()"
   ]
  },
  {
   "cell_type": "markdown",
   "metadata": {},
   "source": [
    "When you log in your access token is put in the enviroment variable `ACCESS_TOKEN`. This code initialises the app store client with your access token.\n",
    "\n",
    "**All client methods throw an HTTPError if there is an error making the request**"
   ]
  },
  {
   "cell_type": "markdown",
   "metadata": {},
   "source": [
    "This Jupyter Lab is re-configured with a variety of libraries for data science. However, if there is another Python package you would like to use you can install it using:"
   ]
  },
  {
   "cell_type": "code",
   "execution_count": null,
   "metadata": {},
   "outputs": [],
   "source": [
    "%pip install tensorflow"
   ]
  },
  {
   "cell_type": "markdown",
   "metadata": {},
   "source": [
    "You may need to restart the kernal in order for the changes to take effect."
   ]
  },
  {
   "cell_type": "markdown",
   "metadata": {},
   "source": [
    "# App Store"
   ]
  },
  {
   "cell_type": "markdown",
   "metadata": {},
   "source": [
    "## Get Data Core Client\n",
    "\n",
    "The app store client contains a function `get_data_core_client(..)` that instantiates a data core client with the same access information as that app store client. This is used to get the data core client needed to make data queries."
   ]
  },
  {
   "cell_type": "code",
   "execution_count": null,
   "metadata": {},
   "outputs": [],
   "source": [
    "app_store.get_data_core_client()"
   ]
  },
  {
   "cell_type": "markdown",
   "metadata": {},
   "source": [
    "## Get User Info\n",
    "\n",
    "The `get_user_info()` function which can be used to get the information of the currently logged in user."
   ]
  },
  {
   "cell_type": "code",
   "execution_count": null,
   "metadata": {},
   "outputs": [],
   "source": [
    "app_store.get_user_info()"
   ]
  },
  {
   "cell_type": "markdown",
   "metadata": {},
   "source": [
    "## Get User Balance\n",
    "\n",
    "The `get_user_balance()` function gets the balance of the currently authenticated user."
   ]
  },
  {
   "cell_type": "code",
   "execution_count": null,
   "metadata": {},
   "outputs": [],
   "source": [
    "app_store.get_user_balance()"
   ]
  },
  {
   "cell_type": "markdown",
   "metadata": {},
   "source": [
    "## Debit Account\n",
    "\n",
    "The `debit_account(..)` function debits the currently autheticated user's app store account.\n",
    "\n",
    "Parameters:\n",
    "- `amount` The amount of credits to debit from the account\n",
    "\n",
    "Returns:\n",
    "The transaction reference for the debit transaction"
   ]
  },
  {
   "cell_type": "code",
   "execution_count": null,
   "metadata": {},
   "outputs": [],
   "source": [
    "ref = app_store.debit_account(0) #this ref will be used in the refund example\n",
    "ref"
   ]
  },
  {
   "cell_type": "markdown",
   "metadata": {},
   "source": [
    "# Refund Account\n",
    "The `refund_account(..)` function refunds a previous transaction.\n",
    "\n",
    "Parameters:\n",
    "- `transaction_ref` The reference of the transaction to refund\n",
    "\n",
    "Returns the HTTP response object of the request."
   ]
  },
  {
   "cell_type": "code",
   "execution_count": null,
   "metadata": {},
   "outputs": [],
   "source": [
    "app_store.refund_account(ref)"
   ]
  },
  {
   "cell_type": "markdown",
   "metadata": {},
   "source": [
    "# Data Core\n",
    "\n",
    "To get the data core client object use the `app_store.get_data_core_client()` function."
   ]
  },
  {
   "cell_type": "code",
   "execution_count": null,
   "metadata": {},
   "outputs": [],
   "source": [
    "data_core = app_store.get_data_core_client()"
   ]
  },
  {
   "cell_type": "markdown",
   "metadata": {},
   "source": [
    "**These examples use IP Datasource 2 as the data source please make sure that it is authorized for the Jupyter app**\n",
    "\n",
    "https://appstore.intelligentplant.com/Security/Apps"
   ]
  },
  {
   "cell_type": "markdown",
   "metadata": {},
   "source": [
    "## Get Data Sources\n",
    "\n",
    "The get data sources method can be used to query the data sources available to the currently logged in user.\n",
    "Parameters:\n",
    "- `filters` A list of filters that should be applied to the search (if unsure try `[\"*\"]` to get all data sources)\n",
    "\n",
    "Returns:\n",
    "A list of of available data sources and their meta data.\n",
    "\n",
    "**When making other queries you want to use the fully qualified data source name**\n",
    "\n",
    "`datasource[\"Name\"][\"QualifiedName\"]`"
   ]
  },
  {
   "cell_type": "code",
   "execution_count": null,
   "metadata": {},
   "outputs": [],
   "source": [
    "data_core.get_data_sources([\"*\"])"
   ]
  },
  {
   "cell_type": "markdown",
   "metadata": {},
   "source": [
    "## Get Tags\n",
    "\n",
    "The `get_tags(..)` function is used to query a data source for the available tags.\n",
    "\n",
    "A tag is the name and meta data of a single data stream.\n",
    "\n",
    "Tag searches are paginated to prevent the request sizes from getting too large.\n",
    "\n",
    "Parameters:\n",
    "- `dsn` The fully qualified name of the data source you want to query, see `get_data_sources(..)` for more information\n",
    "- `page` (Optional, default = 1) The number of the results page you would like to get\n",
    "- `page_size` (Optional, default = 20) The number of results to return per page\n",
    "- `filters` (Optional, default = {}) A dictionary of filters to apply where the key is the field name (e.g. name, description, unit) and the value is the filter to apply (which can include the wildcards `?` and `*`)\n",
    "\n",
    "Wildcards:\n",
    "- `?` Any single character\n",
    "- `*` Ay number (including 0) of any character\n",
    "\n",
    "Returns:\n",
    "A list of available tag objects\n",
    "\n",
    "Data source information is the in 'DataSourceName' dictionary.\n",
    "\n",
    "The tag information is in the 'Tags' list.\n",
    "\n",
    "**In data queryies you want to use the values of the tag ID field**"
   ]
  },
  {
   "cell_type": "code",
   "execution_count": null,
   "metadata": {},
   "outputs": [],
   "source": [
    "data_core.get_tags(\"IP Datasource 2\")"
   ]
  },
  {
   "cell_type": "markdown",
   "metadata": {},
   "source": [
    "## Getting Data\n",
    "\n",
    "There are multiple different functions that are used to query datqa sources depending on the type of data you want to get and how it should be processed.\n",
    "\n",
    "### Tag Map\n",
    "\n",
    "All of the data query functions take a `tags` parameter. This parameter is used to specify which tags you want to query (and the data source they exist on).\n",
    "\n",
    "The tag map should be a dictionary where the data source name is the key and the value is a list of tags on that data source.\n",
    "\n",
    "For example to query the \"hed and \"flow\" tags on IP Data source and the \"Air Scour Blowers_Outlet_PI\" and \"Antifoam Inj Pump B_PI\" tags on IP Data source 2 the `tags` parameter would be:"
   ]
  },
  {
   "cell_type": "code",
   "execution_count": null,
   "metadata": {},
   "outputs": [],
   "source": [
    "tags = {\n",
    "    \"IP Datasource\": [\n",
    "        \"head\",\n",
    "        \"flow\"\n",
    "    ],\n",
    "    \"IP Datasource 2\": [\n",
    "        \"Air Scour Blowers_Outlet_PI\",\n",
    "        \"Antifoam Inj Pump B_PI\"\n",
    "    ]\n",
    "}"
   ]
  },
  {
   "cell_type": "markdown",
   "metadata": {},
   "source": [
    "### Time Stamps\n",
    "\n",
    "Data core allows you to use absolute or relative time stamps in your data queries.\n",
    "\n",
    "When making a query the time parameters should be a string in one of these formats.\n",
    "\n",
    "#### Absolute Time Stamps\n",
    "\n",
    "Absoulte time stamps are in the ISO 8601 format:"
   ]
  },
  {
   "cell_type": "code",
   "execution_count": null,
   "metadata": {},
   "outputs": [],
   "source": [
    "from datetime import datetime\n",
    "datetime.now().isoformat()"
   ]
  },
  {
   "cell_type": "markdown",
   "metadata": {},
   "source": [
    "#### Relative Time Stamps\n",
    "\n",
    "Relative timestamps can be used to specify a time from the current time.\n",
    "\n",
    "The `*` character indicates now and the `-` is used to subtract time from it.\n",
    "\n",
    "Some examples:\n",
    "- `\"*\"` is now \n",
    "- `\"*-12h\"` is 12 hours ago\n",
    "- `\"*-10d\"` is 10 days ago\n",
    "- `\"*-1y\"` is 1 year ago"
   ]
  },
  {
   "cell_type": "markdown",
   "metadata": {},
   "source": [
    "### Responses\n",
    "\n",
    "#### Tag Value\n",
    "\n",
    "All of the get data function return values using the tag value objects that looks like this:\n",
    "\n",
    "`{\n",
    "    \"TagName\": \"<tag name>\",\n",
    "    \"UtcSampleTime\": \"<yyyy-MM-ddTHH:mm:ss.fffZ>\",\n",
    "    \"NumericValue\": \"<some number>\",\n",
    "    \"TextValue\": \"<some text>\",\n",
    "    \"IsNumeric\": true | false,\n",
    "    \"Status\": \"Good\" | \"Bad\" | \"Uncertain\",\n",
    "    \"Unit\": \"<some unit>\",\n",
    "    \"Notes\": \"<optional notes>\",\n",
    "    \"Error\": \"<optional error message>\",\n",
    "    \"HasError\": true | false,\n",
    "    \"Properties\": {\n",
    "        \"prop1\": <some value>,\n",
    "        ...\n",
    "        \"propN\": <some value>\n",
    "    }\n",
    "}`\n",
    "\n",
    "#### Historical Tag Value\n",
    "\n",
    "Historical data requests return data in a historical tag values object:\n",
    "\n",
    "`{\n",
    "    \"TagName\": \"<tag name>\",\n",
    "    // Display hint when visualizing the data i.e straight line between points or trailing/leading edge\n",
    "    \"DisplayType\": \"Unspecified\" | \"Interpolate\" | \"TrailingEdge\" | \"LeadingEdge\",\n",
    "    \"Values\": [\n",
    "        <DataCoreTagValue>,\n",
    "        ...\n",
    "        <DataCoreTagValue>\n",
    "    ]\n",
    "}`\n",
    "\n",
    "#### Response Dictionary\n",
    "\n",
    "All responses organise the tag values in a dictionary where the key is the data source name and the value is a nested dictionary. The nested dictionary has the tag name as the key and the tag value object (for snapshot) or historical tag value object as the value.\n",
    "\n",
    "`{\n",
    "    \"data source name 1\": {\n",
    "        \"tag_name_1_1\": <DataCoreTagValue or DataCoreHistoricalTagValue>,\n",
    "        ...\n",
    "        \"tag_name_1_N\": <DataCoreTagValue or DataCoreHistoricalTagValue>\n",
    "    },\n",
    "    \"data source name N\": {\n",
    "        \"tag_name_N_1\": <DataCoreTagValue or DataCoreHistoricalTagValue>,\n",
    "        ...\n",
    "        \"tag_name_N_N\": <DataCoreTagValue or DataCoreHistoricalTagValue>\n",
    "    }\n",
    "}`"
   ]
  },
  {
   "cell_type": "markdown",
   "metadata": {},
   "source": [
    "### Get Plot Data\n",
    "\n",
    "Plot data should be used when you want to draw a plot.\n",
    "\n",
    "The way plot data is processed a special type of interploation that ensures that the maximum and minium values are preserved so that you don't lose an peaks.\n",
    "\n",
    "To query plot data use the `get_plot_data(..)` function.\n",
    "\n",
    "Parameters:\n",
    "- `tags` The tag map of tags you want to quer (see the Tag Map section for more details)\n",
    "- `start_time` The start time of the query range (see the Time Stamps section for more details)\n",
    "- `end_time` The end time of the query range see the Time Stamps section for more details)\n",
    "- `intervals` The number of intervals the time range should be divided into\n",
    "\n",
    "Returns:\n",
    "\n",
    "A response dictionary as decscribed in the Responses section, with 2 nested dictionarys of data source name and tag name with a historical tag value object as the value."
   ]
  },
  {
   "cell_type": "code",
   "execution_count": null,
   "metadata": {},
   "outputs": [],
   "source": [
    "data_core.get_plot_data({\"IP Datasource 2\": [\"Air Scour Blowers_Outlet_PI\"]}, \"*-10d\", \"*\", 10)"
   ]
  },
  {
   "cell_type": "markdown",
   "metadata": {},
   "source": [
    "### Get Processed Data\n",
    "\n",
    "The get process data function is used to fecth data with a certain function applied. This allows the samples to have a consistent interval.\n",
    "\n",
    "To query processed data use the `get_processed_data(..)` function.\n",
    "\n",
    "Parameters:\n",
    "- `tags` The tag map of tags you want to quer (see the Tag Map section for more details)\n",
    "- `start_time` The start time of the query range (see the Time Stamps section for more details)\n",
    "- `end_time` The end time of the query range see the Time Stamps section for more details)\n",
    "- `sample_interval` A string representing the length of time each sample should represent, this uses a similar format to the realtive time stamps e.g. `\"1d\"`, `\"1h\"` etc.\n",
    "- `data_function` The data processing function to use for the query. INTERP/AVG/MIN/MAX\n",
    "\n",
    "Returns:\n",
    "\n",
    "A response dictionary as decscribed in the Responses section, with 2 nested dictionarys of data source name and tag name with a historical tag value object as the value."
   ]
  },
  {
   "cell_type": "code",
   "execution_count": null,
   "metadata": {},
   "outputs": [],
   "source": [
    "data_core.get_processed_data({\"IP Datasource 2\": [\"Air Scour Blowers_Outlet_PI\"]}, \"*-10d\", \"*\", \"1d\", \"interp\")"
   ]
  },
  {
   "cell_type": "markdown",
   "metadata": {},
   "source": [
    "### Get Raw Data\n",
    "\n",
    "The get raw data function is used to get the raw values of the data in a certain time range, without any kind of data processing. Warning: this can causes extremely large amaounts of data t be returned.\n",
    "\n",
    "To query raw data use the `get_raw_data(..)` function.\n",
    "\n",
    "Parameters:\n",
    "- `tags` The tag map of tags you want to quer (see the Tag Map section for more details)\n",
    "- `start_time` The start time of the query range (see the Time Stamps section for more details)\n",
    "- `end_time` The end time of the query range see the Time Stamps section for more details)\n",
    "- `point_count` the maximum number of data points to return. 0 will fetch as many as possible. \n",
    "\n",
    "Returns:\n",
    "\n",
    "A response dictionary as decscribed in the Responses section, with 2 nested dictionarys of data source name and tag name with a historical tag value object as the value."
   ]
  },
  {
   "cell_type": "code",
   "execution_count": null,
   "metadata": {},
   "outputs": [],
   "source": [
    "data_core.get_raw_data({\"IP Datasource 2\": [\"Air Scour Blowers_Outlet_PI\"]}, \"*-10d\", \"*\", 10)"
   ]
  },
  {
   "cell_type": "markdown",
   "metadata": {},
   "source": [
    "### Get Data At Times\n",
    "\n",
    "The get data at times function allows you to qery data and specify the exact sample times you wuld like to have returned.\n",
    "\n",
    "To query for specific times use the `get_data_at_times(..)` function.\n",
    "\n",
    "Parameters:\n",
    "- `tags` The tag map of tags you want to quer (see the Tag Map section for more details)\n",
    "- `utc_sample_times` A list of UTC sample point to get the data for (in the ISO format)\n",
    "\n",
    "Returns:\n",
    "\n",
    "A response dictionary as decscribed in the Responses section, with 2 nested dictionarys of data source name and tag name with a historical tag value object as the value."
   ]
  },
  {
   "cell_type": "code",
   "execution_count": null,
   "metadata": {},
   "outputs": [],
   "source": [
    "data_core.get_data_at_times({\"IP Datasource 2\": [\"Air Scour Blowers_Outlet_PI\"]}, [datetime.utcnow().isoformat()])"
   ]
  },
  {
   "cell_type": "markdown",
   "metadata": {},
   "source": [
    "### Get Snapshot Data\n",
    "\n",
    "The get the current value of some tags use the `get_snapshot_data(..)` function.\n",
    "\n",
    "Parameters:\n",
    "- `tags` The tag map of tags you want to quer (see the Tag Map section for more details)\n",
    "\n",
    "Returns:\n",
    "\n",
    "A response dictionary as decscribed in the Responses section, with 2 nested dictionarys of data source name and tag name with a tag value object as the value."
   ]
  },
  {
   "cell_type": "code",
   "execution_count": null,
   "metadata": {},
   "outputs": [],
   "source": [
    "data_core.get_snapshot_data({\"IP Datasource 2\": [\"Air Scour Blowers_Outlet_PI\"]})"
   ]
  },
  {
   "cell_type": "markdown",
   "metadata": {},
   "source": [
    "## Data Frame Utility\n",
    "\n",
    "The intelligent plant package includes a utility function that converts the response object into a pandas data frame.\n",
    "\n",
    "**This function assumes that the timestamps of all the returned sample for each tag line up which isn't true for all queries and data functions**\n",
    "\n",
    "Parmaters:\n",
    "- `result` The result object from a data core request\n",
    "\n",
    "Returns a data frame of the same data with tag names as column names\n",
    "\n",
    "Data frames can be used by a variety of data analysis and machine learning frameworks , see the other demo notebooks for more information"
   ]
  },
  {
   "cell_type": "code",
   "execution_count": null,
   "metadata": {},
   "outputs": [],
   "source": [
    "import intelligent_plant.utility as utility"
   ]
  },
  {
   "cell_type": "code",
   "execution_count": null,
   "metadata": {},
   "outputs": [],
   "source": [
    "resp = data_core.get_processed_data({\"IP Datasource 2\": [\"Air Scour Blowers_Outlet_PI\"]}, \"*-30d\", \"*\", \"1d\", \"interp\")\n",
    "df = utility.query_result_to_data_frame(resp)\n",
    "df"
   ]
  },
  {
   "cell_type": "code",
   "execution_count": null,
   "metadata": {},
   "outputs": [],
   "source": []
  }
 ],
 "metadata": {
  "kernelspec": {
   "display_name": "Python 3",
   "language": "python",
   "name": "python3"
  },
  "language_info": {
   "codemirror_mode": {
    "name": "ipython",
    "version": 3
   },
   "file_extension": ".py",
   "mimetype": "text/x-python",
   "name": "python",
   "nbconvert_exporter": "python",
   "pygments_lexer": "ipython3",
   "version": "3.7.6"
  }
 },
 "nbformat": 4,
 "nbformat_minor": 4
}
